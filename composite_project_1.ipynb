{
 "cells": [
  {
   "cell_type": "markdown",
   "metadata": {},
   "source": "# Анализ данных интернет-магазина «Стримчик»"
  },
  {
   "metadata": {},
   "cell_type": "markdown",
   "source": [
    "**Описание проекта:** В интернет-магазине «Стримчик», который продаёт по всему миру компьютерные игры. Из открытых источников доступны исторические данные о продажах игр, оценки пользователей и экспертов, жанры и платформы (например, Xbox или PlayStation).\n",
    "\n",
    "**Цель исследование:** Выявить определяющие успешность игры закономерности. Это позволит сделать ставку на потенциально популярный продукт и спланировать рекламные кампании.\n",
    "\n",
    "**Ход исследования:**\n",
    "- Подготовка данных. Загрузка и изучение информации из представленного датасета\n",
    "- Предобработка данных. Обработка пропущенных данных, дубликатов, типов данных и т.д.\n",
    "- Исследовательский анализ. Изучение основных параметров объектов, их распределения, зависимости.\n",
    "- Составление портретов пользователей каждого региона. Определить для каждого региона самые популярные платформы и жанры.\n",
    "- Проверка гипотез. На основе обработанных данных, сравнить оценки пользователей для разных платформ и жанров.\n",
    "\n",
    "**Общий вывод:**\n",
    "- Не за все периоды важны данные. С 1980 - 1993 игр выходило мало\n",
    "- 5 лет для перехода между поколениями (PS2 -> PS3). По этим данным можно предположить что у платформ срок равен примерно 10 лет.\n",
    "- Игры для платформ нового поколения, за этот период, имеют выше медианные продажи, чем игры для старого поколения (PS4 -> PS3, X360 -> XOne). У PS3 самый большой разброс продаж. XOne и 3DS имеют стабильные продажи, чем остальные платформы.\n",
    "- Корреляции между оценками пользователей и продажами нет, корреляция между оценками критиков и продажами - слабая положительная\n",
    "- Наиболее прибыльные жанры — это Shooter, Sports, Role-Playing, тогда как жанры типа Puzzle и Adventure имеют относительно низкий коммерческий успех.\n",
    "- Для NA и EU регионов платформы совпадают по популярности, в JP регионе популярнее WiiU и PSV, чем X360 и XOne.\n",
    "- В NA и EU пользователи предпочитают почти одни и те же жанры, кроме Misc для NA, Racing для EU. Для JP пользователи предпочтительней Fighting, Misc. Жанры Action, Role-Playing почти одинаково популярны для всех пользователей.\n",
    "- Для регионов NA и EU наблюдается средняя корреляция с рейтингом ESRB, а в JP регионе нет корреляции вовсе.\n",
    "- Результаты проверки гипотез\n",
    "\n",
    "    - Мы можем утверждать, что cредние пользовательские рейтинги платформ Xbox One и PC одинаковые\n",
    "    - Мы можем утверждать, что средние пользовательские рейтинги жанров Action и Sports разные.\n",
    "\n",
    "**Рекомендации:** Успешность игры в определенном регионе зависит в первую очередь от жанра и рейтинга ESRB. Меньше влияют оценки критиков. Оценки пользователей никак не коррелируют с продажами."
   ]
  },
  {
   "cell_type": "code",
   "metadata": {
    "ExecuteTime": {
     "end_time": "2025-05-26T19:42:17.104803Z",
     "start_time": "2025-05-26T19:42:17.092745Z"
    }
   },
   "source": [
    "import pandas as pd\n",
    "import matplotlib.pyplot as plt\n",
    "import seaborn as sns\n",
    "from scipy import stats as st"
   ],
   "outputs": [],
   "execution_count": 1
  },
  {
   "cell_type": "markdown",
   "metadata": {},
   "source": [
    "### Подготовка данных"
   ]
  },
  {
   "cell_type": "code",
   "metadata": {
    "ExecuteTime": {
     "end_time": "2025-05-26T19:42:17.467154Z",
     "start_time": "2025-05-26T19:42:17.132897Z"
    }
   },
   "source": [
    "games = pd.read_csv('https://code.s3.yandex.net/datasets/games.csv')\n",
    "games.head()"
   ],
   "outputs": [
    {
     "data": {
      "text/plain": [
       "                       Name Platform  Year_of_Release         Genre  NA_sales  \\\n",
       "0                Wii Sports      Wii           2006.0        Sports     41.36   \n",
       "1         Super Mario Bros.      NES           1985.0      Platform     29.08   \n",
       "2            Mario Kart Wii      Wii           2008.0        Racing     15.68   \n",
       "3         Wii Sports Resort      Wii           2009.0        Sports     15.61   \n",
       "4  Pokemon Red/Pokemon Blue       GB           1996.0  Role-Playing     11.27   \n",
       "\n",
       "   EU_sales  JP_sales  Other_sales  Critic_Score User_Score Rating  \n",
       "0     28.96      3.77         8.45          76.0          8      E  \n",
       "1      3.58      6.81         0.77           NaN        NaN    NaN  \n",
       "2     12.76      3.79         3.29          82.0        8.3      E  \n",
       "3     10.93      3.28         2.95          80.0          8      E  \n",
       "4      8.89     10.22         1.00           NaN        NaN    NaN  "
      ],
      "text/html": [
       "<div>\n",
       "<style scoped>\n",
       "    .dataframe tbody tr th:only-of-type {\n",
       "        vertical-align: middle;\n",
       "    }\n",
       "\n",
       "    .dataframe tbody tr th {\n",
       "        vertical-align: top;\n",
       "    }\n",
       "\n",
       "    .dataframe thead th {\n",
       "        text-align: right;\n",
       "    }\n",
       "</style>\n",
       "<table border=\"1\" class=\"dataframe\">\n",
       "  <thead>\n",
       "    <tr style=\"text-align: right;\">\n",
       "      <th></th>\n",
       "      <th>Name</th>\n",
       "      <th>Platform</th>\n",
       "      <th>Year_of_Release</th>\n",
       "      <th>Genre</th>\n",
       "      <th>NA_sales</th>\n",
       "      <th>EU_sales</th>\n",
       "      <th>JP_sales</th>\n",
       "      <th>Other_sales</th>\n",
       "      <th>Critic_Score</th>\n",
       "      <th>User_Score</th>\n",
       "      <th>Rating</th>\n",
       "    </tr>\n",
       "  </thead>\n",
       "  <tbody>\n",
       "    <tr>\n",
       "      <th>0</th>\n",
       "      <td>Wii Sports</td>\n",
       "      <td>Wii</td>\n",
       "      <td>2006.0</td>\n",
       "      <td>Sports</td>\n",
       "      <td>41.36</td>\n",
       "      <td>28.96</td>\n",
       "      <td>3.77</td>\n",
       "      <td>8.45</td>\n",
       "      <td>76.0</td>\n",
       "      <td>8</td>\n",
       "      <td>E</td>\n",
       "    </tr>\n",
       "    <tr>\n",
       "      <th>1</th>\n",
       "      <td>Super Mario Bros.</td>\n",
       "      <td>NES</td>\n",
       "      <td>1985.0</td>\n",
       "      <td>Platform</td>\n",
       "      <td>29.08</td>\n",
       "      <td>3.58</td>\n",
       "      <td>6.81</td>\n",
       "      <td>0.77</td>\n",
       "      <td>NaN</td>\n",
       "      <td>NaN</td>\n",
       "      <td>NaN</td>\n",
       "    </tr>\n",
       "    <tr>\n",
       "      <th>2</th>\n",
       "      <td>Mario Kart Wii</td>\n",
       "      <td>Wii</td>\n",
       "      <td>2008.0</td>\n",
       "      <td>Racing</td>\n",
       "      <td>15.68</td>\n",
       "      <td>12.76</td>\n",
       "      <td>3.79</td>\n",
       "      <td>3.29</td>\n",
       "      <td>82.0</td>\n",
       "      <td>8.3</td>\n",
       "      <td>E</td>\n",
       "    </tr>\n",
       "    <tr>\n",
       "      <th>3</th>\n",
       "      <td>Wii Sports Resort</td>\n",
       "      <td>Wii</td>\n",
       "      <td>2009.0</td>\n",
       "      <td>Sports</td>\n",
       "      <td>15.61</td>\n",
       "      <td>10.93</td>\n",
       "      <td>3.28</td>\n",
       "      <td>2.95</td>\n",
       "      <td>80.0</td>\n",
       "      <td>8</td>\n",
       "      <td>E</td>\n",
       "    </tr>\n",
       "    <tr>\n",
       "      <th>4</th>\n",
       "      <td>Pokemon Red/Pokemon Blue</td>\n",
       "      <td>GB</td>\n",
       "      <td>1996.0</td>\n",
       "      <td>Role-Playing</td>\n",
       "      <td>11.27</td>\n",
       "      <td>8.89</td>\n",
       "      <td>10.22</td>\n",
       "      <td>1.00</td>\n",
       "      <td>NaN</td>\n",
       "      <td>NaN</td>\n",
       "      <td>NaN</td>\n",
       "    </tr>\n",
       "  </tbody>\n",
       "</table>\n",
       "</div>"
      ]
     },
     "execution_count": 2,
     "metadata": {},
     "output_type": "execute_result"
    }
   ],
   "execution_count": 2
  },
  {
   "cell_type": "code",
   "metadata": {
    "ExecuteTime": {
     "end_time": "2025-05-26T19:42:17.872122Z",
     "start_time": "2025-05-26T19:42:17.844529Z"
    }
   },
   "source": [
    "games.info()"
   ],
   "outputs": [
    {
     "name": "stdout",
     "output_type": "stream",
     "text": [
      "<class 'pandas.core.frame.DataFrame'>\n",
      "RangeIndex: 16715 entries, 0 to 16714\n",
      "Data columns (total 11 columns):\n",
      " #   Column           Non-Null Count  Dtype  \n",
      "---  ------           --------------  -----  \n",
      " 0   Name             16713 non-null  object \n",
      " 1   Platform         16715 non-null  object \n",
      " 2   Year_of_Release  16446 non-null  float64\n",
      " 3   Genre            16713 non-null  object \n",
      " 4   NA_sales         16715 non-null  float64\n",
      " 5   EU_sales         16715 non-null  float64\n",
      " 6   JP_sales         16715 non-null  float64\n",
      " 7   Other_sales      16715 non-null  float64\n",
      " 8   Critic_Score     8137 non-null   float64\n",
      " 9   User_Score       10014 non-null  object \n",
      " 10  Rating           9949 non-null   object \n",
      "dtypes: float64(6), object(5)\n",
      "memory usage: 1.4+ MB\n"
     ]
    }
   ],
   "execution_count": 3
  },
  {
   "cell_type": "markdown",
   "metadata": {},
   "source": [
    "Столбцы `Critic_Score`, `User_Score`, `Rating` имеют почти половину пропусков"
   ]
  },
  {
   "cell_type": "code",
   "metadata": {
    "ExecuteTime": {
     "end_time": "2025-05-26T19:42:18.024726Z",
     "start_time": "2025-05-26T19:42:17.981848Z"
    }
   },
   "source": [
    "games.describe().T"
   ],
   "outputs": [
    {
     "data": {
      "text/plain": [
       "                   count         mean        std     min     25%      50%  \\\n",
       "Year_of_Release  16446.0  2006.484616   5.877050  1980.0  2003.0  2007.00   \n",
       "NA_sales         16715.0     0.263377   0.813604     0.0     0.0     0.08   \n",
       "EU_sales         16715.0     0.145060   0.503339     0.0     0.0     0.02   \n",
       "JP_sales         16715.0     0.077617   0.308853     0.0     0.0     0.00   \n",
       "Other_sales      16715.0     0.047342   0.186731     0.0     0.0     0.01   \n",
       "Critic_Score      8137.0    68.967679  13.938165    13.0    60.0    71.00   \n",
       "\n",
       "                     75%      max  \n",
       "Year_of_Release  2010.00  2016.00  \n",
       "NA_sales            0.24    41.36  \n",
       "EU_sales            0.11    28.96  \n",
       "JP_sales            0.04    10.22  \n",
       "Other_sales         0.03    10.57  \n",
       "Critic_Score       79.00    98.00  "
      ],
      "text/html": [
       "<div>\n",
       "<style scoped>\n",
       "    .dataframe tbody tr th:only-of-type {\n",
       "        vertical-align: middle;\n",
       "    }\n",
       "\n",
       "    .dataframe tbody tr th {\n",
       "        vertical-align: top;\n",
       "    }\n",
       "\n",
       "    .dataframe thead th {\n",
       "        text-align: right;\n",
       "    }\n",
       "</style>\n",
       "<table border=\"1\" class=\"dataframe\">\n",
       "  <thead>\n",
       "    <tr style=\"text-align: right;\">\n",
       "      <th></th>\n",
       "      <th>count</th>\n",
       "      <th>mean</th>\n",
       "      <th>std</th>\n",
       "      <th>min</th>\n",
       "      <th>25%</th>\n",
       "      <th>50%</th>\n",
       "      <th>75%</th>\n",
       "      <th>max</th>\n",
       "    </tr>\n",
       "  </thead>\n",
       "  <tbody>\n",
       "    <tr>\n",
       "      <th>Year_of_Release</th>\n",
       "      <td>16446.0</td>\n",
       "      <td>2006.484616</td>\n",
       "      <td>5.877050</td>\n",
       "      <td>1980.0</td>\n",
       "      <td>2003.0</td>\n",
       "      <td>2007.00</td>\n",
       "      <td>2010.00</td>\n",
       "      <td>2016.00</td>\n",
       "    </tr>\n",
       "    <tr>\n",
       "      <th>NA_sales</th>\n",
       "      <td>16715.0</td>\n",
       "      <td>0.263377</td>\n",
       "      <td>0.813604</td>\n",
       "      <td>0.0</td>\n",
       "      <td>0.0</td>\n",
       "      <td>0.08</td>\n",
       "      <td>0.24</td>\n",
       "      <td>41.36</td>\n",
       "    </tr>\n",
       "    <tr>\n",
       "      <th>EU_sales</th>\n",
       "      <td>16715.0</td>\n",
       "      <td>0.145060</td>\n",
       "      <td>0.503339</td>\n",
       "      <td>0.0</td>\n",
       "      <td>0.0</td>\n",
       "      <td>0.02</td>\n",
       "      <td>0.11</td>\n",
       "      <td>28.96</td>\n",
       "    </tr>\n",
       "    <tr>\n",
       "      <th>JP_sales</th>\n",
       "      <td>16715.0</td>\n",
       "      <td>0.077617</td>\n",
       "      <td>0.308853</td>\n",
       "      <td>0.0</td>\n",
       "      <td>0.0</td>\n",
       "      <td>0.00</td>\n",
       "      <td>0.04</td>\n",
       "      <td>10.22</td>\n",
       "    </tr>\n",
       "    <tr>\n",
       "      <th>Other_sales</th>\n",
       "      <td>16715.0</td>\n",
       "      <td>0.047342</td>\n",
       "      <td>0.186731</td>\n",
       "      <td>0.0</td>\n",
       "      <td>0.0</td>\n",
       "      <td>0.01</td>\n",
       "      <td>0.03</td>\n",
       "      <td>10.57</td>\n",
       "    </tr>\n",
       "    <tr>\n",
       "      <th>Critic_Score</th>\n",
       "      <td>8137.0</td>\n",
       "      <td>68.967679</td>\n",
       "      <td>13.938165</td>\n",
       "      <td>13.0</td>\n",
       "      <td>60.0</td>\n",
       "      <td>71.00</td>\n",
       "      <td>79.00</td>\n",
       "      <td>98.00</td>\n",
       "    </tr>\n",
       "  </tbody>\n",
       "</table>\n",
       "</div>"
      ]
     },
     "execution_count": 4,
     "metadata": {},
     "output_type": "execute_result"
    }
   ],
   "execution_count": 4
  },
  {
   "cell_type": "markdown",
   "metadata": {},
   "source": [
    "Переменные, содержащие информацию о продажах, имеют большое количество нулевых значений. Возможно количество проданных копий было сильно меньше 1 миллиона."
   ]
  },
  {
   "cell_type": "code",
   "metadata": {
    "scrolled": true,
    "ExecuteTime": {
     "end_time": "2025-05-26T19:42:18.207228Z",
     "start_time": "2025-05-26T19:42:18.164857Z"
    }
   },
   "source": [
    "games.describe(include='object').T"
   ],
   "outputs": [
    {
     "data": {
      "text/plain": [
       "            count unique                          top  freq\n",
       "Name        16713  11559  Need for Speed: Most Wanted    12\n",
       "Platform    16715     31                          PS2  2161\n",
       "Genre       16713     12                       Action  3369\n",
       "User_Score  10014     96                          tbd  2424\n",
       "Rating       9949      8                            E  3990"
      ],
      "text/html": [
       "<div>\n",
       "<style scoped>\n",
       "    .dataframe tbody tr th:only-of-type {\n",
       "        vertical-align: middle;\n",
       "    }\n",
       "\n",
       "    .dataframe tbody tr th {\n",
       "        vertical-align: top;\n",
       "    }\n",
       "\n",
       "    .dataframe thead th {\n",
       "        text-align: right;\n",
       "    }\n",
       "</style>\n",
       "<table border=\"1\" class=\"dataframe\">\n",
       "  <thead>\n",
       "    <tr style=\"text-align: right;\">\n",
       "      <th></th>\n",
       "      <th>count</th>\n",
       "      <th>unique</th>\n",
       "      <th>top</th>\n",
       "      <th>freq</th>\n",
       "    </tr>\n",
       "  </thead>\n",
       "  <tbody>\n",
       "    <tr>\n",
       "      <th>Name</th>\n",
       "      <td>16713</td>\n",
       "      <td>11559</td>\n",
       "      <td>Need for Speed: Most Wanted</td>\n",
       "      <td>12</td>\n",
       "    </tr>\n",
       "    <tr>\n",
       "      <th>Platform</th>\n",
       "      <td>16715</td>\n",
       "      <td>31</td>\n",
       "      <td>PS2</td>\n",
       "      <td>2161</td>\n",
       "    </tr>\n",
       "    <tr>\n",
       "      <th>Genre</th>\n",
       "      <td>16713</td>\n",
       "      <td>12</td>\n",
       "      <td>Action</td>\n",
       "      <td>3369</td>\n",
       "    </tr>\n",
       "    <tr>\n",
       "      <th>User_Score</th>\n",
       "      <td>10014</td>\n",
       "      <td>96</td>\n",
       "      <td>tbd</td>\n",
       "      <td>2424</td>\n",
       "    </tr>\n",
       "    <tr>\n",
       "      <th>Rating</th>\n",
       "      <td>9949</td>\n",
       "      <td>8</td>\n",
       "      <td>E</td>\n",
       "      <td>3990</td>\n",
       "    </tr>\n",
       "  </tbody>\n",
       "</table>\n",
       "</div>"
      ]
     },
     "execution_count": 5,
     "metadata": {},
     "output_type": "execute_result"
    }
   ],
   "execution_count": 5
  },
  {
   "cell_type": "markdown",
   "metadata": {},
   "source": [
    "Самым частым значением у `User_Score` является tbd (To Be Determined) - подлежит уточнению. Его надо обработать."
   ]
  },
  {
   "cell_type": "code",
   "metadata": {
    "ExecuteTime": {
     "end_time": "2025-05-26T19:42:18.388582Z",
     "start_time": "2025-05-26T19:42:18.358786Z"
    }
   },
   "source": [
    "games.duplicated().sum()"
   ],
   "outputs": [
    {
     "data": {
      "text/plain": [
       "0"
      ]
     },
     "execution_count": 6,
     "metadata": {},
     "output_type": "execute_result"
    }
   ],
   "execution_count": 6
  },
  {
   "cell_type": "markdown",
   "metadata": {},
   "source": [
    "**Выводы:** \n",
    "\n",
    "Нужно привести названия столбцов к нижнему регистру\n",
    "\n",
    "Есть несоответствия по типам данных, например, `Year_of_Release` имеет тип `float` хотя должен быть `int`\n",
    "\n",
    "Столбцы `Critic_Score`, `User_Score`, `Rating` имеют почти половину пропусков, которые нужно обработать\n",
    "\n",
    "Полных дубликатов нет"
   ]
  },
  {
   "cell_type": "markdown",
   "metadata": {},
   "source": [
    "### Предобработка данных"
   ]
  },
  {
   "cell_type": "markdown",
   "metadata": {},
   "source": [
    "#### Изменение названий столбцов (к нижнему регистру);"
   ]
  },
  {
   "cell_type": "code",
   "metadata": {
    "ExecuteTime": {
     "end_time": "2025-05-26T19:42:18.660993Z",
     "start_time": "2025-05-26T19:42:18.648554Z"
    }
   },
   "source": [
    "games.columns = games.columns.str.lower()\n",
    "games.columns"
   ],
   "outputs": [
    {
     "data": {
      "text/plain": [
       "Index(['name', 'platform', 'year_of_release', 'genre', 'na_sales', 'eu_sales',\n",
       "       'jp_sales', 'other_sales', 'critic_score', 'user_score', 'rating'],\n",
       "      dtype='object')"
      ]
     },
     "execution_count": 7,
     "metadata": {},
     "output_type": "execute_result"
    }
   ],
   "execution_count": 7
  },
  {
   "cell_type": "markdown",
   "metadata": {},
   "source": [
    "#### Изменение типов данных"
   ]
  },
  {
   "cell_type": "code",
   "metadata": {
    "ExecuteTime": {
     "end_time": "2025-05-26T19:42:18.827192Z",
     "start_time": "2025-05-26T19:42:18.800020Z"
    }
   },
   "source": [
    "games.head()"
   ],
   "outputs": [
    {
     "data": {
      "text/plain": [
       "                       name platform  year_of_release         genre  na_sales  \\\n",
       "0                Wii Sports      Wii           2006.0        Sports     41.36   \n",
       "1         Super Mario Bros.      NES           1985.0      Platform     29.08   \n",
       "2            Mario Kart Wii      Wii           2008.0        Racing     15.68   \n",
       "3         Wii Sports Resort      Wii           2009.0        Sports     15.61   \n",
       "4  Pokemon Red/Pokemon Blue       GB           1996.0  Role-Playing     11.27   \n",
       "\n",
       "   eu_sales  jp_sales  other_sales  critic_score user_score rating  \n",
       "0     28.96      3.77         8.45          76.0          8      E  \n",
       "1      3.58      6.81         0.77           NaN        NaN    NaN  \n",
       "2     12.76      3.79         3.29          82.0        8.3      E  \n",
       "3     10.93      3.28         2.95          80.0          8      E  \n",
       "4      8.89     10.22         1.00           NaN        NaN    NaN  "
      ],
      "text/html": [
       "<div>\n",
       "<style scoped>\n",
       "    .dataframe tbody tr th:only-of-type {\n",
       "        vertical-align: middle;\n",
       "    }\n",
       "\n",
       "    .dataframe tbody tr th {\n",
       "        vertical-align: top;\n",
       "    }\n",
       "\n",
       "    .dataframe thead th {\n",
       "        text-align: right;\n",
       "    }\n",
       "</style>\n",
       "<table border=\"1\" class=\"dataframe\">\n",
       "  <thead>\n",
       "    <tr style=\"text-align: right;\">\n",
       "      <th></th>\n",
       "      <th>name</th>\n",
       "      <th>platform</th>\n",
       "      <th>year_of_release</th>\n",
       "      <th>genre</th>\n",
       "      <th>na_sales</th>\n",
       "      <th>eu_sales</th>\n",
       "      <th>jp_sales</th>\n",
       "      <th>other_sales</th>\n",
       "      <th>critic_score</th>\n",
       "      <th>user_score</th>\n",
       "      <th>rating</th>\n",
       "    </tr>\n",
       "  </thead>\n",
       "  <tbody>\n",
       "    <tr>\n",
       "      <th>0</th>\n",
       "      <td>Wii Sports</td>\n",
       "      <td>Wii</td>\n",
       "      <td>2006.0</td>\n",
       "      <td>Sports</td>\n",
       "      <td>41.36</td>\n",
       "      <td>28.96</td>\n",
       "      <td>3.77</td>\n",
       "      <td>8.45</td>\n",
       "      <td>76.0</td>\n",
       "      <td>8</td>\n",
       "      <td>E</td>\n",
       "    </tr>\n",
       "    <tr>\n",
       "      <th>1</th>\n",
       "      <td>Super Mario Bros.</td>\n",
       "      <td>NES</td>\n",
       "      <td>1985.0</td>\n",
       "      <td>Platform</td>\n",
       "      <td>29.08</td>\n",
       "      <td>3.58</td>\n",
       "      <td>6.81</td>\n",
       "      <td>0.77</td>\n",
       "      <td>NaN</td>\n",
       "      <td>NaN</td>\n",
       "      <td>NaN</td>\n",
       "    </tr>\n",
       "    <tr>\n",
       "      <th>2</th>\n",
       "      <td>Mario Kart Wii</td>\n",
       "      <td>Wii</td>\n",
       "      <td>2008.0</td>\n",
       "      <td>Racing</td>\n",
       "      <td>15.68</td>\n",
       "      <td>12.76</td>\n",
       "      <td>3.79</td>\n",
       "      <td>3.29</td>\n",
       "      <td>82.0</td>\n",
       "      <td>8.3</td>\n",
       "      <td>E</td>\n",
       "    </tr>\n",
       "    <tr>\n",
       "      <th>3</th>\n",
       "      <td>Wii Sports Resort</td>\n",
       "      <td>Wii</td>\n",
       "      <td>2009.0</td>\n",
       "      <td>Sports</td>\n",
       "      <td>15.61</td>\n",
       "      <td>10.93</td>\n",
       "      <td>3.28</td>\n",
       "      <td>2.95</td>\n",
       "      <td>80.0</td>\n",
       "      <td>8</td>\n",
       "      <td>E</td>\n",
       "    </tr>\n",
       "    <tr>\n",
       "      <th>4</th>\n",
       "      <td>Pokemon Red/Pokemon Blue</td>\n",
       "      <td>GB</td>\n",
       "      <td>1996.0</td>\n",
       "      <td>Role-Playing</td>\n",
       "      <td>11.27</td>\n",
       "      <td>8.89</td>\n",
       "      <td>10.22</td>\n",
       "      <td>1.00</td>\n",
       "      <td>NaN</td>\n",
       "      <td>NaN</td>\n",
       "      <td>NaN</td>\n",
       "    </tr>\n",
       "  </tbody>\n",
       "</table>\n",
       "</div>"
      ]
     },
     "execution_count": 8,
     "metadata": {},
     "output_type": "execute_result"
    }
   ],
   "execution_count": 8
  },
  {
   "cell_type": "code",
   "metadata": {
    "ExecuteTime": {
     "end_time": "2025-05-26T19:42:18.963754Z",
     "start_time": "2025-05-26T19:42:18.951111Z"
    }
   },
   "source": [
    "games.dtypes"
   ],
   "outputs": [
    {
     "data": {
      "text/plain": [
       "name                object\n",
       "platform            object\n",
       "year_of_release    float64\n",
       "genre               object\n",
       "na_sales           float64\n",
       "eu_sales           float64\n",
       "jp_sales           float64\n",
       "other_sales        float64\n",
       "critic_score       float64\n",
       "user_score          object\n",
       "rating              object\n",
       "dtype: object"
      ]
     },
     "execution_count": 9,
     "metadata": {},
     "output_type": "execute_result"
    }
   ],
   "execution_count": 9
  },
  {
   "cell_type": "markdown",
   "metadata": {},
   "source": [
    "- тип `user_score` будет изменен в 2.4 "
   ]
  },
  {
   "cell_type": "markdown",
   "metadata": {},
   "source": [
    "#### Обработка пропусков"
   ]
  },
  {
   "cell_type": "code",
   "metadata": {
    "ExecuteTime": {
     "end_time": "2025-05-26T19:42:19.084307Z",
     "start_time": "2025-05-26T19:42:19.056662Z"
    }
   },
   "source": [
    "games.isna().sum().to_frame(name=\"nans\").query(\"nans > 0\")[\"nans\"]"
   ],
   "outputs": [
    {
     "data": {
      "text/plain": [
       "name                  2\n",
       "year_of_release     269\n",
       "genre                 2\n",
       "critic_score       8578\n",
       "user_score         6701\n",
       "rating             6766\n",
       "Name: nans, dtype: int64"
      ]
     },
     "execution_count": 10,
     "metadata": {},
     "output_type": "execute_result"
    }
   ],
   "execution_count": 10
  },
  {
   "cell_type": "markdown",
   "metadata": {},
   "source": [
    "- `genre`, `name`"
   ]
  },
  {
   "cell_type": "code",
   "metadata": {
    "ExecuteTime": {
     "end_time": "2025-05-26T19:42:19.370482Z",
     "start_time": "2025-05-26T19:42:19.342381Z"
    }
   },
   "source": [
    "games[games['name'].isna()]"
   ],
   "outputs": [
    {
     "data": {
      "text/plain": [
       "      name platform  year_of_release genre  na_sales  eu_sales  jp_sales  \\\n",
       "659    NaN      GEN           1993.0   NaN      1.78      0.53      0.00   \n",
       "14244  NaN      GEN           1993.0   NaN      0.00      0.00      0.03   \n",
       "\n",
       "       other_sales  critic_score user_score rating  \n",
       "659           0.08           NaN        NaN    NaN  \n",
       "14244         0.00           NaN        NaN    NaN  "
      ],
      "text/html": [
       "<div>\n",
       "<style scoped>\n",
       "    .dataframe tbody tr th:only-of-type {\n",
       "        vertical-align: middle;\n",
       "    }\n",
       "\n",
       "    .dataframe tbody tr th {\n",
       "        vertical-align: top;\n",
       "    }\n",
       "\n",
       "    .dataframe thead th {\n",
       "        text-align: right;\n",
       "    }\n",
       "</style>\n",
       "<table border=\"1\" class=\"dataframe\">\n",
       "  <thead>\n",
       "    <tr style=\"text-align: right;\">\n",
       "      <th></th>\n",
       "      <th>name</th>\n",
       "      <th>platform</th>\n",
       "      <th>year_of_release</th>\n",
       "      <th>genre</th>\n",
       "      <th>na_sales</th>\n",
       "      <th>eu_sales</th>\n",
       "      <th>jp_sales</th>\n",
       "      <th>other_sales</th>\n",
       "      <th>critic_score</th>\n",
       "      <th>user_score</th>\n",
       "      <th>rating</th>\n",
       "    </tr>\n",
       "  </thead>\n",
       "  <tbody>\n",
       "    <tr>\n",
       "      <th>659</th>\n",
       "      <td>NaN</td>\n",
       "      <td>GEN</td>\n",
       "      <td>1993.0</td>\n",
       "      <td>NaN</td>\n",
       "      <td>1.78</td>\n",
       "      <td>0.53</td>\n",
       "      <td>0.00</td>\n",
       "      <td>0.08</td>\n",
       "      <td>NaN</td>\n",
       "      <td>NaN</td>\n",
       "      <td>NaN</td>\n",
       "    </tr>\n",
       "    <tr>\n",
       "      <th>14244</th>\n",
       "      <td>NaN</td>\n",
       "      <td>GEN</td>\n",
       "      <td>1993.0</td>\n",
       "      <td>NaN</td>\n",
       "      <td>0.00</td>\n",
       "      <td>0.00</td>\n",
       "      <td>0.03</td>\n",
       "      <td>0.00</td>\n",
       "      <td>NaN</td>\n",
       "      <td>NaN</td>\n",
       "      <td>NaN</td>\n",
       "    </tr>\n",
       "  </tbody>\n",
       "</table>\n",
       "</div>"
      ]
     },
     "execution_count": 11,
     "metadata": {},
     "output_type": "execute_result"
    }
   ],
   "execution_count": 11
  },
  {
   "cell_type": "markdown",
   "metadata": {},
   "source": [
    "В этих строчках `name` и, `genre` и имеют `NaN` значения. Хотя они были выпущены в 1993 и в общем продались мало, так что можно их удалить\n",
    "\n",
    "Причины: возможно только для игр этой платформы и этого года выпуска есть пропуски?"
   ]
  },
  {
   "cell_type": "code",
   "metadata": {
    "ExecuteTime": {
     "end_time": "2025-05-26T19:42:19.551227Z",
     "start_time": "2025-05-26T19:42:19.523586Z"
    }
   },
   "source": [
    "games.query('platform == \"GEN\" & year_of_release == 1993')"
   ],
   "outputs": [
    {
     "data": {
      "text/plain": [
       "                                                    name platform  \\\n",
       "659                                                  NaN      GEN   \n",
       "7885                                    Shining Force II      GEN   \n",
       "8893                             Super Street Fighter II      GEN   \n",
       "11986                            Ecco: The Tides of Time      GEN   \n",
       "12098  Street Fighter II': Special Champion Edition (...      GEN   \n",
       "12264                                  Streets of Rage 3      GEN   \n",
       "12984                                    Dynamite Headdy      GEN   \n",
       "13343                                       Beyond Oasis      GEN   \n",
       "14244                                                NaN      GEN   \n",
       "\n",
       "       year_of_release         genre  na_sales  eu_sales  jp_sales  \\\n",
       "659             1993.0           NaN      1.78      0.53      0.00   \n",
       "7885            1993.0      Strategy      0.00      0.00      0.19   \n",
       "8893            1993.0      Fighting      0.00      0.00      0.15   \n",
       "11986           1993.0     Adventure      0.00      0.00      0.07   \n",
       "12098           1993.0        Action      0.00      0.00      0.07   \n",
       "12264           1993.0        Action      0.00      0.00      0.07   \n",
       "12984           1993.0      Platform      0.00      0.00      0.05   \n",
       "13343           1993.0  Role-Playing      0.00      0.00      0.05   \n",
       "14244           1993.0           NaN      0.00      0.00      0.03   \n",
       "\n",
       "       other_sales  critic_score user_score rating  \n",
       "659           0.08           NaN        NaN    NaN  \n",
       "7885          0.00           NaN        NaN    NaN  \n",
       "8893          0.00           NaN        NaN    NaN  \n",
       "11986         0.00           NaN        NaN    NaN  \n",
       "12098         0.00           NaN        NaN    NaN  \n",
       "12264         0.00           NaN        NaN    NaN  \n",
       "12984         0.00           NaN        NaN    NaN  \n",
       "13343         0.00           NaN        NaN    NaN  \n",
       "14244         0.00           NaN        NaN    NaN  "
      ],
      "text/html": [
       "<div>\n",
       "<style scoped>\n",
       "    .dataframe tbody tr th:only-of-type {\n",
       "        vertical-align: middle;\n",
       "    }\n",
       "\n",
       "    .dataframe tbody tr th {\n",
       "        vertical-align: top;\n",
       "    }\n",
       "\n",
       "    .dataframe thead th {\n",
       "        text-align: right;\n",
       "    }\n",
       "</style>\n",
       "<table border=\"1\" class=\"dataframe\">\n",
       "  <thead>\n",
       "    <tr style=\"text-align: right;\">\n",
       "      <th></th>\n",
       "      <th>name</th>\n",
       "      <th>platform</th>\n",
       "      <th>year_of_release</th>\n",
       "      <th>genre</th>\n",
       "      <th>na_sales</th>\n",
       "      <th>eu_sales</th>\n",
       "      <th>jp_sales</th>\n",
       "      <th>other_sales</th>\n",
       "      <th>critic_score</th>\n",
       "      <th>user_score</th>\n",
       "      <th>rating</th>\n",
       "    </tr>\n",
       "  </thead>\n",
       "  <tbody>\n",
       "    <tr>\n",
       "      <th>659</th>\n",
       "      <td>NaN</td>\n",
       "      <td>GEN</td>\n",
       "      <td>1993.0</td>\n",
       "      <td>NaN</td>\n",
       "      <td>1.78</td>\n",
       "      <td>0.53</td>\n",
       "      <td>0.00</td>\n",
       "      <td>0.08</td>\n",
       "      <td>NaN</td>\n",
       "      <td>NaN</td>\n",
       "      <td>NaN</td>\n",
       "    </tr>\n",
       "    <tr>\n",
       "      <th>7885</th>\n",
       "      <td>Shining Force II</td>\n",
       "      <td>GEN</td>\n",
       "      <td>1993.0</td>\n",
       "      <td>Strategy</td>\n",
       "      <td>0.00</td>\n",
       "      <td>0.00</td>\n",
       "      <td>0.19</td>\n",
       "      <td>0.00</td>\n",
       "      <td>NaN</td>\n",
       "      <td>NaN</td>\n",
       "      <td>NaN</td>\n",
       "    </tr>\n",
       "    <tr>\n",
       "      <th>8893</th>\n",
       "      <td>Super Street Fighter II</td>\n",
       "      <td>GEN</td>\n",
       "      <td>1993.0</td>\n",
       "      <td>Fighting</td>\n",
       "      <td>0.00</td>\n",
       "      <td>0.00</td>\n",
       "      <td>0.15</td>\n",
       "      <td>0.00</td>\n",
       "      <td>NaN</td>\n",
       "      <td>NaN</td>\n",
       "      <td>NaN</td>\n",
       "    </tr>\n",
       "    <tr>\n",
       "      <th>11986</th>\n",
       "      <td>Ecco: The Tides of Time</td>\n",
       "      <td>GEN</td>\n",
       "      <td>1993.0</td>\n",
       "      <td>Adventure</td>\n",
       "      <td>0.00</td>\n",
       "      <td>0.00</td>\n",
       "      <td>0.07</td>\n",
       "      <td>0.00</td>\n",
       "      <td>NaN</td>\n",
       "      <td>NaN</td>\n",
       "      <td>NaN</td>\n",
       "    </tr>\n",
       "    <tr>\n",
       "      <th>12098</th>\n",
       "      <td>Street Fighter II': Special Champion Edition (...</td>\n",
       "      <td>GEN</td>\n",
       "      <td>1993.0</td>\n",
       "      <td>Action</td>\n",
       "      <td>0.00</td>\n",
       "      <td>0.00</td>\n",
       "      <td>0.07</td>\n",
       "      <td>0.00</td>\n",
       "      <td>NaN</td>\n",
       "      <td>NaN</td>\n",
       "      <td>NaN</td>\n",
       "    </tr>\n",
       "    <tr>\n",
       "      <th>12264</th>\n",
       "      <td>Streets of Rage 3</td>\n",
       "      <td>GEN</td>\n",
       "      <td>1993.0</td>\n",
       "      <td>Action</td>\n",
       "      <td>0.00</td>\n",
       "      <td>0.00</td>\n",
       "      <td>0.07</td>\n",
       "      <td>0.00</td>\n",
       "      <td>NaN</td>\n",
       "      <td>NaN</td>\n",
       "      <td>NaN</td>\n",
       "    </tr>\n",
       "    <tr>\n",
       "      <th>12984</th>\n",
       "      <td>Dynamite Headdy</td>\n",
       "      <td>GEN</td>\n",
       "      <td>1993.0</td>\n",
       "      <td>Platform</td>\n",
       "      <td>0.00</td>\n",
       "      <td>0.00</td>\n",
       "      <td>0.05</td>\n",
       "      <td>0.00</td>\n",
       "      <td>NaN</td>\n",
       "      <td>NaN</td>\n",
       "      <td>NaN</td>\n",
       "    </tr>\n",
       "    <tr>\n",
       "      <th>13343</th>\n",
       "      <td>Beyond Oasis</td>\n",
       "      <td>GEN</td>\n",
       "      <td>1993.0</td>\n",
       "      <td>Role-Playing</td>\n",
       "      <td>0.00</td>\n",
       "      <td>0.00</td>\n",
       "      <td>0.05</td>\n",
       "      <td>0.00</td>\n",
       "      <td>NaN</td>\n",
       "      <td>NaN</td>\n",
       "      <td>NaN</td>\n",
       "    </tr>\n",
       "    <tr>\n",
       "      <th>14244</th>\n",
       "      <td>NaN</td>\n",
       "      <td>GEN</td>\n",
       "      <td>1993.0</td>\n",
       "      <td>NaN</td>\n",
       "      <td>0.00</td>\n",
       "      <td>0.00</td>\n",
       "      <td>0.03</td>\n",
       "      <td>0.00</td>\n",
       "      <td>NaN</td>\n",
       "      <td>NaN</td>\n",
       "      <td>NaN</td>\n",
       "    </tr>\n",
       "  </tbody>\n",
       "</table>\n",
       "</div>"
      ]
     },
     "execution_count": 12,
     "metadata": {},
     "output_type": "execute_result"
    }
   ],
   "execution_count": 12
  },
  {
   "cell_type": "markdown",
   "metadata": {},
   "source": [
    "Поскольку есть игры на платформе GEN выпущенные в 1993 году вряд ли тогда это системная ошибка, возможно это случайные пропуски"
   ]
  },
  {
   "cell_type": "code",
   "metadata": {
    "ExecuteTime": {
     "end_time": "2025-05-26T19:42:19.868952Z",
     "start_time": "2025-05-26T19:42:19.855885Z"
    }
   },
   "source": [
    "games.dropna(subset=['name'], inplace=True)\n",
    "games[games['name'].isna()]['name'].count()"
   ],
   "outputs": [
    {
     "data": {
      "text/plain": [
       "0"
      ]
     },
     "execution_count": 13,
     "metadata": {},
     "output_type": "execute_result"
    }
   ],
   "execution_count": 13
  },
  {
   "cell_type": "markdown",
   "metadata": {},
   "source": [
    "- `critic_score`"
   ]
  },
  {
   "cell_type": "code",
   "metadata": {
    "ExecuteTime": {
     "end_time": "2025-05-26T19:42:20.064745Z",
     "start_time": "2025-05-26T19:42:20.021590Z"
    }
   },
   "source": [
    "games[games['critic_score'].isna()]"
   ],
   "outputs": [
    {
     "data": {
      "text/plain": [
       "                                name platform  year_of_release         genre  \\\n",
       "1                  Super Mario Bros.      NES           1985.0      Platform   \n",
       "4           Pokemon Red/Pokemon Blue       GB           1996.0  Role-Playing   \n",
       "5                             Tetris       GB           1989.0        Puzzle   \n",
       "9                          Duck Hunt      NES           1984.0       Shooter   \n",
       "10                        Nintendogs       DS           2005.0    Simulation   \n",
       "...                              ...      ...              ...           ...   \n",
       "16710  Samurai Warriors: Sanada Maru      PS3           2016.0        Action   \n",
       "16711               LMA Manager 2007     X360           2006.0        Sports   \n",
       "16712        Haitaka no Psychedelica      PSV           2016.0     Adventure   \n",
       "16713               Spirits & Spells      GBA           2003.0      Platform   \n",
       "16714            Winning Post 8 2016      PSV           2016.0    Simulation   \n",
       "\n",
       "       na_sales  eu_sales  jp_sales  other_sales  critic_score user_score  \\\n",
       "1         29.08      3.58      6.81         0.77           NaN        NaN   \n",
       "4         11.27      8.89     10.22         1.00           NaN        NaN   \n",
       "5         23.20      2.26      4.22         0.58           NaN        NaN   \n",
       "9         26.93      0.63      0.28         0.47           NaN        NaN   \n",
       "10         9.05     10.95      1.93         2.74           NaN        NaN   \n",
       "...         ...       ...       ...          ...           ...        ...   \n",
       "16710      0.00      0.00      0.01         0.00           NaN        NaN   \n",
       "16711      0.00      0.01      0.00         0.00           NaN        NaN   \n",
       "16712      0.00      0.00      0.01         0.00           NaN        NaN   \n",
       "16713      0.01      0.00      0.00         0.00           NaN        NaN   \n",
       "16714      0.00      0.00      0.01         0.00           NaN        NaN   \n",
       "\n",
       "      rating  \n",
       "1        NaN  \n",
       "4        NaN  \n",
       "5        NaN  \n",
       "9        NaN  \n",
       "10       NaN  \n",
       "...      ...  \n",
       "16710    NaN  \n",
       "16711    NaN  \n",
       "16712    NaN  \n",
       "16713    NaN  \n",
       "16714    NaN  \n",
       "\n",
       "[8576 rows x 11 columns]"
      ],
      "text/html": [
       "<div>\n",
       "<style scoped>\n",
       "    .dataframe tbody tr th:only-of-type {\n",
       "        vertical-align: middle;\n",
       "    }\n",
       "\n",
       "    .dataframe tbody tr th {\n",
       "        vertical-align: top;\n",
       "    }\n",
       "\n",
       "    .dataframe thead th {\n",
       "        text-align: right;\n",
       "    }\n",
       "</style>\n",
       "<table border=\"1\" class=\"dataframe\">\n",
       "  <thead>\n",
       "    <tr style=\"text-align: right;\">\n",
       "      <th></th>\n",
       "      <th>name</th>\n",
       "      <th>platform</th>\n",
       "      <th>year_of_release</th>\n",
       "      <th>genre</th>\n",
       "      <th>na_sales</th>\n",
       "      <th>eu_sales</th>\n",
       "      <th>jp_sales</th>\n",
       "      <th>other_sales</th>\n",
       "      <th>critic_score</th>\n",
       "      <th>user_score</th>\n",
       "      <th>rating</th>\n",
       "    </tr>\n",
       "  </thead>\n",
       "  <tbody>\n",
       "    <tr>\n",
       "      <th>1</th>\n",
       "      <td>Super Mario Bros.</td>\n",
       "      <td>NES</td>\n",
       "      <td>1985.0</td>\n",
       "      <td>Platform</td>\n",
       "      <td>29.08</td>\n",
       "      <td>3.58</td>\n",
       "      <td>6.81</td>\n",
       "      <td>0.77</td>\n",
       "      <td>NaN</td>\n",
       "      <td>NaN</td>\n",
       "      <td>NaN</td>\n",
       "    </tr>\n",
       "    <tr>\n",
       "      <th>4</th>\n",
       "      <td>Pokemon Red/Pokemon Blue</td>\n",
       "      <td>GB</td>\n",
       "      <td>1996.0</td>\n",
       "      <td>Role-Playing</td>\n",
       "      <td>11.27</td>\n",
       "      <td>8.89</td>\n",
       "      <td>10.22</td>\n",
       "      <td>1.00</td>\n",
       "      <td>NaN</td>\n",
       "      <td>NaN</td>\n",
       "      <td>NaN</td>\n",
       "    </tr>\n",
       "    <tr>\n",
       "      <th>5</th>\n",
       "      <td>Tetris</td>\n",
       "      <td>GB</td>\n",
       "      <td>1989.0</td>\n",
       "      <td>Puzzle</td>\n",
       "      <td>23.20</td>\n",
       "      <td>2.26</td>\n",
       "      <td>4.22</td>\n",
       "      <td>0.58</td>\n",
       "      <td>NaN</td>\n",
       "      <td>NaN</td>\n",
       "      <td>NaN</td>\n",
       "    </tr>\n",
       "    <tr>\n",
       "      <th>9</th>\n",
       "      <td>Duck Hunt</td>\n",
       "      <td>NES</td>\n",
       "      <td>1984.0</td>\n",
       "      <td>Shooter</td>\n",
       "      <td>26.93</td>\n",
       "      <td>0.63</td>\n",
       "      <td>0.28</td>\n",
       "      <td>0.47</td>\n",
       "      <td>NaN</td>\n",
       "      <td>NaN</td>\n",
       "      <td>NaN</td>\n",
       "    </tr>\n",
       "    <tr>\n",
       "      <th>10</th>\n",
       "      <td>Nintendogs</td>\n",
       "      <td>DS</td>\n",
       "      <td>2005.0</td>\n",
       "      <td>Simulation</td>\n",
       "      <td>9.05</td>\n",
       "      <td>10.95</td>\n",
       "      <td>1.93</td>\n",
       "      <td>2.74</td>\n",
       "      <td>NaN</td>\n",
       "      <td>NaN</td>\n",
       "      <td>NaN</td>\n",
       "    </tr>\n",
       "    <tr>\n",
       "      <th>...</th>\n",
       "      <td>...</td>\n",
       "      <td>...</td>\n",
       "      <td>...</td>\n",
       "      <td>...</td>\n",
       "      <td>...</td>\n",
       "      <td>...</td>\n",
       "      <td>...</td>\n",
       "      <td>...</td>\n",
       "      <td>...</td>\n",
       "      <td>...</td>\n",
       "      <td>...</td>\n",
       "    </tr>\n",
       "    <tr>\n",
       "      <th>16710</th>\n",
       "      <td>Samurai Warriors: Sanada Maru</td>\n",
       "      <td>PS3</td>\n",
       "      <td>2016.0</td>\n",
       "      <td>Action</td>\n",
       "      <td>0.00</td>\n",
       "      <td>0.00</td>\n",
       "      <td>0.01</td>\n",
       "      <td>0.00</td>\n",
       "      <td>NaN</td>\n",
       "      <td>NaN</td>\n",
       "      <td>NaN</td>\n",
       "    </tr>\n",
       "    <tr>\n",
       "      <th>16711</th>\n",
       "      <td>LMA Manager 2007</td>\n",
       "      <td>X360</td>\n",
       "      <td>2006.0</td>\n",
       "      <td>Sports</td>\n",
       "      <td>0.00</td>\n",
       "      <td>0.01</td>\n",
       "      <td>0.00</td>\n",
       "      <td>0.00</td>\n",
       "      <td>NaN</td>\n",
       "      <td>NaN</td>\n",
       "      <td>NaN</td>\n",
       "    </tr>\n",
       "    <tr>\n",
       "      <th>16712</th>\n",
       "      <td>Haitaka no Psychedelica</td>\n",
       "      <td>PSV</td>\n",
       "      <td>2016.0</td>\n",
       "      <td>Adventure</td>\n",
       "      <td>0.00</td>\n",
       "      <td>0.00</td>\n",
       "      <td>0.01</td>\n",
       "      <td>0.00</td>\n",
       "      <td>NaN</td>\n",
       "      <td>NaN</td>\n",
       "      <td>NaN</td>\n",
       "    </tr>\n",
       "    <tr>\n",
       "      <th>16713</th>\n",
       "      <td>Spirits &amp; Spells</td>\n",
       "      <td>GBA</td>\n",
       "      <td>2003.0</td>\n",
       "      <td>Platform</td>\n",
       "      <td>0.01</td>\n",
       "      <td>0.00</td>\n",
       "      <td>0.00</td>\n",
       "      <td>0.00</td>\n",
       "      <td>NaN</td>\n",
       "      <td>NaN</td>\n",
       "      <td>NaN</td>\n",
       "    </tr>\n",
       "    <tr>\n",
       "      <th>16714</th>\n",
       "      <td>Winning Post 8 2016</td>\n",
       "      <td>PSV</td>\n",
       "      <td>2016.0</td>\n",
       "      <td>Simulation</td>\n",
       "      <td>0.00</td>\n",
       "      <td>0.00</td>\n",
       "      <td>0.01</td>\n",
       "      <td>0.00</td>\n",
       "      <td>NaN</td>\n",
       "      <td>NaN</td>\n",
       "      <td>NaN</td>\n",
       "    </tr>\n",
       "  </tbody>\n",
       "</table>\n",
       "<p>8576 rows × 11 columns</p>\n",
       "</div>"
      ]
     },
     "execution_count": 14,
     "metadata": {},
     "output_type": "execute_result"
    }
   ],
   "execution_count": 14
  },
  {
   "cell_type": "markdown",
   "metadata": {},
   "source": [
    "Попробуем посчитать строки, где сразу `critic_score`, `user_score`, `rating` имеют `nan`"
   ]
  },
  {
   "cell_type": "code",
   "metadata": {
    "ExecuteTime": {
     "end_time": "2025-05-26T19:42:20.335506Z",
     "start_time": "2025-05-26T19:42:20.322411Z"
    }
   },
   "source": [
    "games[games['critic_score'].isna() & games['user_score'].isna() & games['rating'].isna()]['name'].count()"
   ],
   "outputs": [
    {
     "data": {
      "text/plain": [
       "6619"
      ]
     },
     "execution_count": 15,
     "metadata": {},
     "output_type": "execute_result"
    }
   ],
   "execution_count": 15
  },
  {
   "cell_type": "markdown",
   "metadata": {},
   "source": [
    "6619 строк с пропущенными значениями сразу в 3-х столбцах. Поскольку нельзя достоверно заполнить пропуски, мы их оставляем."
   ]
  },
  {
   "cell_type": "code",
   "metadata": {
    "ExecuteTime": {
     "end_time": "2025-05-26T19:42:20.471286Z",
     "start_time": "2025-05-26T19:42:20.448367Z"
    }
   },
   "source": [
    "games.isna().sum().to_frame(name=\"nans\").query(\"nans > 0\")[\"nans\"]"
   ],
   "outputs": [
    {
     "data": {
      "text/plain": [
       "year_of_release     269\n",
       "critic_score       8576\n",
       "user_score         6699\n",
       "rating             6764\n",
       "Name: nans, dtype: int64"
      ]
     },
     "execution_count": 16,
     "metadata": {},
     "output_type": "execute_result"
    }
   ],
   "execution_count": 16
  },
  {
   "cell_type": "markdown",
   "metadata": {},
   "source": [
    "#### Обработка значения `tbd` в `user_score`\n"
   ]
  },
  {
   "cell_type": "markdown",
   "metadata": {},
   "source": [
    "Самым частым значением у user_score является tbd (To Be Determined) - подлежит уточнению. (из п.1)\n",
    "Поскольку tbd никак нормально интерпретировать нельзя, заменим его на NaN"
   ]
  },
  {
   "cell_type": "code",
   "metadata": {
    "scrolled": true,
    "ExecuteTime": {
     "end_time": "2025-05-26T19:42:20.773735Z",
     "start_time": "2025-05-26T19:42:20.716450Z"
    }
   },
   "source": [
    "games['user_score'] = games['user_score'].replace('tbd', None)\n",
    "games['user_score'].value_counts() # это количественная переменная, но value_counts() теперь не показывает `tbd` с 2400 повторениями"
   ],
   "outputs": [
    {
     "data": {
      "text/plain": [
       "7.8    388\n",
       "8.2    337\n",
       "8      333\n",
       "7.5    293\n",
       "8.3    292\n",
       "      ... \n",
       "0.5      2\n",
       "9.6      2\n",
       "0.3      2\n",
       "1.5      2\n",
       "0        1\n",
       "Name: user_score, Length: 95, dtype: int64"
      ]
     },
     "execution_count": 17,
     "metadata": {},
     "output_type": "execute_result"
    }
   ],
   "execution_count": 17
  },
  {
   "cell_type": "markdown",
   "metadata": {},
   "source": [
    "Изменение типа данных "
   ]
  },
  {
   "cell_type": "code",
   "metadata": {
    "ExecuteTime": {
     "end_time": "2025-05-26T19:42:20.954809Z",
     "start_time": "2025-05-26T19:42:20.926629Z"
    }
   },
   "source": [
    "games['user_score'] = pd.to_numeric(games['user_score'], errors='coerce')\n",
    "games['user_score'].dtype"
   ],
   "outputs": [
    {
     "data": {
      "text/plain": [
       "dtype('float64')"
      ]
     },
     "execution_count": 18,
     "metadata": {},
     "output_type": "execute_result"
    }
   ],
   "execution_count": 18
  },
  {
   "cell_type": "markdown",
   "metadata": {},
   "source": [
    "#### Расчет суммарных продаж во всех регионах и запишите их в отдельный столбец."
   ]
  },
  {
   "cell_type": "code",
   "metadata": {
    "ExecuteTime": {
     "end_time": "2025-05-26T19:42:21.135883Z",
     "start_time": "2025-05-26T19:42:21.107835Z"
    }
   },
   "source": [
    "games.head(2)"
   ],
   "outputs": [
    {
     "data": {
      "text/plain": [
       "                name platform  year_of_release     genre  na_sales  eu_sales  \\\n",
       "0         Wii Sports      Wii           2006.0    Sports     41.36     28.96   \n",
       "1  Super Mario Bros.      NES           1985.0  Platform     29.08      3.58   \n",
       "\n",
       "   jp_sales  other_sales  critic_score  user_score rating  \n",
       "0      3.77         8.45          76.0         8.0      E  \n",
       "1      6.81         0.77           NaN         NaN    NaN  "
      ],
      "text/html": [
       "<div>\n",
       "<style scoped>\n",
       "    .dataframe tbody tr th:only-of-type {\n",
       "        vertical-align: middle;\n",
       "    }\n",
       "\n",
       "    .dataframe tbody tr th {\n",
       "        vertical-align: top;\n",
       "    }\n",
       "\n",
       "    .dataframe thead th {\n",
       "        text-align: right;\n",
       "    }\n",
       "</style>\n",
       "<table border=\"1\" class=\"dataframe\">\n",
       "  <thead>\n",
       "    <tr style=\"text-align: right;\">\n",
       "      <th></th>\n",
       "      <th>name</th>\n",
       "      <th>platform</th>\n",
       "      <th>year_of_release</th>\n",
       "      <th>genre</th>\n",
       "      <th>na_sales</th>\n",
       "      <th>eu_sales</th>\n",
       "      <th>jp_sales</th>\n",
       "      <th>other_sales</th>\n",
       "      <th>critic_score</th>\n",
       "      <th>user_score</th>\n",
       "      <th>rating</th>\n",
       "    </tr>\n",
       "  </thead>\n",
       "  <tbody>\n",
       "    <tr>\n",
       "      <th>0</th>\n",
       "      <td>Wii Sports</td>\n",
       "      <td>Wii</td>\n",
       "      <td>2006.0</td>\n",
       "      <td>Sports</td>\n",
       "      <td>41.36</td>\n",
       "      <td>28.96</td>\n",
       "      <td>3.77</td>\n",
       "      <td>8.45</td>\n",
       "      <td>76.0</td>\n",
       "      <td>8.0</td>\n",
       "      <td>E</td>\n",
       "    </tr>\n",
       "    <tr>\n",
       "      <th>1</th>\n",
       "      <td>Super Mario Bros.</td>\n",
       "      <td>NES</td>\n",
       "      <td>1985.0</td>\n",
       "      <td>Platform</td>\n",
       "      <td>29.08</td>\n",
       "      <td>3.58</td>\n",
       "      <td>6.81</td>\n",
       "      <td>0.77</td>\n",
       "      <td>NaN</td>\n",
       "      <td>NaN</td>\n",
       "      <td>NaN</td>\n",
       "    </tr>\n",
       "  </tbody>\n",
       "</table>\n",
       "</div>"
      ]
     },
     "execution_count": 19,
     "metadata": {},
     "output_type": "execute_result"
    }
   ],
   "execution_count": 19
  },
  {
   "cell_type": "code",
   "metadata": {
    "ExecuteTime": {
     "end_time": "2025-05-26T19:42:21.347121Z",
     "start_time": "2025-05-26T19:42:21.313276Z"
    }
   },
   "source": [
    "games['total_sales'] = games[['na_sales', 'eu_sales', 'jp_sales', 'other_sales']].sum(axis=1)\n",
    "games.head(2)"
   ],
   "outputs": [
    {
     "data": {
      "text/plain": [
       "                name platform  year_of_release     genre  na_sales  eu_sales  \\\n",
       "0         Wii Sports      Wii           2006.0    Sports     41.36     28.96   \n",
       "1  Super Mario Bros.      NES           1985.0  Platform     29.08      3.58   \n",
       "\n",
       "   jp_sales  other_sales  critic_score  user_score rating  total_sales  \n",
       "0      3.77         8.45          76.0         8.0      E        82.54  \n",
       "1      6.81         0.77           NaN         NaN    NaN        40.24  "
      ],
      "text/html": [
       "<div>\n",
       "<style scoped>\n",
       "    .dataframe tbody tr th:only-of-type {\n",
       "        vertical-align: middle;\n",
       "    }\n",
       "\n",
       "    .dataframe tbody tr th {\n",
       "        vertical-align: top;\n",
       "    }\n",
       "\n",
       "    .dataframe thead th {\n",
       "        text-align: right;\n",
       "    }\n",
       "</style>\n",
       "<table border=\"1\" class=\"dataframe\">\n",
       "  <thead>\n",
       "    <tr style=\"text-align: right;\">\n",
       "      <th></th>\n",
       "      <th>name</th>\n",
       "      <th>platform</th>\n",
       "      <th>year_of_release</th>\n",
       "      <th>genre</th>\n",
       "      <th>na_sales</th>\n",
       "      <th>eu_sales</th>\n",
       "      <th>jp_sales</th>\n",
       "      <th>other_sales</th>\n",
       "      <th>critic_score</th>\n",
       "      <th>user_score</th>\n",
       "      <th>rating</th>\n",
       "      <th>total_sales</th>\n",
       "    </tr>\n",
       "  </thead>\n",
       "  <tbody>\n",
       "    <tr>\n",
       "      <th>0</th>\n",
       "      <td>Wii Sports</td>\n",
       "      <td>Wii</td>\n",
       "      <td>2006.0</td>\n",
       "      <td>Sports</td>\n",
       "      <td>41.36</td>\n",
       "      <td>28.96</td>\n",
       "      <td>3.77</td>\n",
       "      <td>8.45</td>\n",
       "      <td>76.0</td>\n",
       "      <td>8.0</td>\n",
       "      <td>E</td>\n",
       "      <td>82.54</td>\n",
       "    </tr>\n",
       "    <tr>\n",
       "      <th>1</th>\n",
       "      <td>Super Mario Bros.</td>\n",
       "      <td>NES</td>\n",
       "      <td>1985.0</td>\n",
       "      <td>Platform</td>\n",
       "      <td>29.08</td>\n",
       "      <td>3.58</td>\n",
       "      <td>6.81</td>\n",
       "      <td>0.77</td>\n",
       "      <td>NaN</td>\n",
       "      <td>NaN</td>\n",
       "      <td>NaN</td>\n",
       "      <td>40.24</td>\n",
       "    </tr>\n",
       "  </tbody>\n",
       "</table>\n",
       "</div>"
      ]
     },
     "execution_count": 20,
     "metadata": {},
     "output_type": "execute_result"
    }
   ],
   "execution_count": 20
  },
  {
   "cell_type": "markdown",
   "metadata": {},
   "source": [
    "**Выводы:** \n",
    "\n",
    "Исправлены названия столбцов\n",
    "\n",
    "Пропуски в `genre` и `name` удалены (всего 2 строчки)\n",
    "\n",
    "Пропуски в `user_score`, `critic_score`, `rating` не заполнены, так как их нельзя достоверно восстановить\n",
    "\n",
    "Добавлен столбец `total_sales` - сумма всех продаж для каждой игры\n",
    "\n",
    "Причины пропусков могут быть следующие: \n",
    "- игра плохо продалась и о ней мало кто знает\n",
    "- игра давно выпущена\n",
    "- игра выпущена на платформу, утратившую популярность"
   ]
  },
  {
   "cell_type": "markdown",
   "metadata": {},
   "source": [
    "### Исследовательский анализ данных"
   ]
  },
  {
   "cell_type": "markdown",
   "metadata": {},
   "source": [
    "- Посмотрим, сколько игр выпускалось в разные годы."
   ]
  },
  {
   "cell_type": "code",
   "metadata": {
    "scrolled": true,
    "ExecuteTime": {
     "end_time": "2025-05-26T19:42:22.249975Z",
     "start_time": "2025-05-26T19:42:21.590424Z"
    }
   },
   "source": [
    "# Агрегированные данные\n",
    "games_per_year = games['year_of_release'].value_counts().reset_index()\n",
    "games_per_year.columns = ['year_of_release', 'count']\n",
    "\n",
    "# Построение графика\n",
    "plt.figure(figsize=(18, 5))\n",
    "sns.barplot(data=games_per_year, x='year_of_release', y='count', palette='coolwarm')\n",
    "\n",
    "plt.xlabel('Год выпуска')\n",
    "plt.ylabel('Количество')\n",
    "plt.title('Распределение количества игр по годам')\n",
    "plt.xticks(rotation=45)\n",
    "plt.show()"
   ],
   "outputs": [
    {
     "data": {
      "text/plain": [
       "<Figure size 1800x500 with 1 Axes>"
      ],
      "image/png": "[encoded data removed]"
     },
     "metadata": {},
     "output_type": "display_data"
    }
   ],
   "execution_count": 21
  },
  {
   "cell_type": "markdown",
   "metadata": {},
   "source": [
    "**Вывод:** Не за все периоды важны данные. С 1980 - 1993 игр выходило мало."
   ]
  },
  {
   "cell_type": "markdown",
   "metadata": {},
   "source": [
    "- Посмотрим, как менялись продажи по платформам. Выберем платформы с наибольшими суммарными продажами и построим распределение по годам"
   ]
  },
  {
   "cell_type": "code",
   "metadata": {
    "ExecuteTime": {
     "end_time": "2025-05-26T19:42:22.415287Z",
     "start_time": "2025-05-26T19:42:22.403694Z"
    }
   },
   "source": [
    "top_platforms = games.groupby('platform')['total_sales'].sum().sort_values(ascending=False)\n",
    "\n",
    "top_platforms.head()"
   ],
   "outputs": [
    {
     "data": {
      "text/plain": [
       "platform\n",
       "PS2     1255.77\n",
       "X360     971.42\n",
       "PS3      939.65\n",
       "Wii      907.51\n",
       "DS       806.12\n",
       "Name: total_sales, dtype: float64"
      ]
     },
     "execution_count": 22,
     "metadata": {},
     "output_type": "execute_result"
    }
   ],
   "execution_count": 22
  },
  {
   "cell_type": "code",
   "metadata": {
    "ExecuteTime": {
     "end_time": "2025-05-26T19:42:22.597303Z",
     "start_time": "2025-05-26T19:42:22.568708Z"
    }
   },
   "source": [
    "# Фильтруем данные только по этим платформам (первые 5)\n",
    "games_top_platforms = games[games['platform'].isin(top_platforms[0:5].index)]\n",
    "# Группируем данные из этих платформ по годам и считаем суммарные продажи\n",
    "games_top_platforms = games_top_platforms.groupby(['platform', 'year_of_release'])['total_sales'].sum().reset_index()\n",
    "\n",
    "games_top_platforms.head()"
   ],
   "outputs": [
    {
     "data": {
      "text/plain": [
       "  platform  year_of_release  total_sales\n",
       "0       DS           1985.0         0.02\n",
       "1       DS           2004.0        17.27\n",
       "2       DS           2005.0       130.14\n",
       "3       DS           2006.0       119.81\n",
       "4       DS           2007.0       146.94"
      ],
      "text/html": [
       "<div>\n",
       "<style scoped>\n",
       "    .dataframe tbody tr th:only-of-type {\n",
       "        vertical-align: middle;\n",
       "    }\n",
       "\n",
       "    .dataframe tbody tr th {\n",
       "        vertical-align: top;\n",
       "    }\n",
       "\n",
       "    .dataframe thead th {\n",
       "        text-align: right;\n",
       "    }\n",
       "</style>\n",
       "<table border=\"1\" class=\"dataframe\">\n",
       "  <thead>\n",
       "    <tr style=\"text-align: right;\">\n",
       "      <th></th>\n",
       "      <th>platform</th>\n",
       "      <th>year_of_release</th>\n",
       "      <th>total_sales</th>\n",
       "    </tr>\n",
       "  </thead>\n",
       "  <tbody>\n",
       "    <tr>\n",
       "      <th>0</th>\n",
       "      <td>DS</td>\n",
       "      <td>1985.0</td>\n",
       "      <td>0.02</td>\n",
       "    </tr>\n",
       "    <tr>\n",
       "      <th>1</th>\n",
       "      <td>DS</td>\n",
       "      <td>2004.0</td>\n",
       "      <td>17.27</td>\n",
       "    </tr>\n",
       "    <tr>\n",
       "      <th>2</th>\n",
       "      <td>DS</td>\n",
       "      <td>2005.0</td>\n",
       "      <td>130.14</td>\n",
       "    </tr>\n",
       "    <tr>\n",
       "      <th>3</th>\n",
       "      <td>DS</td>\n",
       "      <td>2006.0</td>\n",
       "      <td>119.81</td>\n",
       "    </tr>\n",
       "    <tr>\n",
       "      <th>4</th>\n",
       "      <td>DS</td>\n",
       "      <td>2007.0</td>\n",
       "      <td>146.94</td>\n",
       "    </tr>\n",
       "  </tbody>\n",
       "</table>\n",
       "</div>"
      ]
     },
     "execution_count": 23,
     "metadata": {},
     "output_type": "execute_result"
    }
   ],
   "execution_count": 23
  },
  {
   "cell_type": "code",
   "metadata": {
    "ExecuteTime": {
     "end_time": "2025-05-26T19:42:23.277062Z",
     "start_time": "2025-05-26T19:42:22.721318Z"
    }
   },
   "source": [
    "plt.figure(figsize=(12, 6))\n",
    "sns.lineplot(data=games_top_platforms, x='year_of_release', y='total_sales', hue='platform', marker='o')\n",
    "\n",
    "plt.xlabel('Год выпуска')\n",
    "plt.xlim(2000, 2017)\n",
    "plt.ylabel('Суммарные продажи (в млн. копий)')\n",
    "plt.title('Распределение продаж топ-5 платформ по годам')\n",
    "plt.legend(title='Платформа')\n",
    "plt.grid(True)\n",
    "\n",
    "plt.show()"
   ],
   "outputs": [
    {
     "data": {
      "text/plain": [
       "<Figure size 1200x600 with 1 Axes>"
      ],
      "image/png": "[encoded data removed]"
     },
     "metadata": {},
     "output_type": "display_data"
    }
   ],
   "execution_count": 24
  },
  {
   "cell_type": "markdown",
   "metadata": {},
   "source": [
    "**Вывод:** 5 лет для перехода между поколениями (PS2 -> PS3). Там где уже находится пик продаж PS3 (2011), продажи PS2 упали до 0. По этим данным можно предположить что у платформ срок равен примерно 10 лет."
   ]
  },
  {
   "cell_type": "markdown",
   "metadata": {},
   "source": [
    "- Возьмем данные за соответствующий актуальный период с 2012 до 2016 года, как раз когда произошел спад продаж."
   ]
  },
  {
   "cell_type": "code",
   "metadata": {
    "ExecuteTime": {
     "end_time": "2025-05-26T19:42:24.270923Z",
     "start_time": "2025-05-26T19:42:23.355473Z"
    }
   },
   "source": [
    "actual_season = [2012, 2016]\n",
    "games_actual = games.query('@actual_season[0] <= year_of_release <= @actual_season[1]')\n",
    "games_actual.head()"
   ],
   "outputs": [
    {
     "data": {
      "text/plain": [
       "                          name platform  year_of_release         genre  \\\n",
       "16          Grand Theft Auto V      PS3           2013.0        Action   \n",
       "23          Grand Theft Auto V     X360           2013.0        Action   \n",
       "31   Call of Duty: Black Ops 3      PS4           2015.0       Shooter   \n",
       "33         Pokemon X/Pokemon Y      3DS           2013.0  Role-Playing   \n",
       "34  Call of Duty: Black Ops II      PS3           2012.0       Shooter   \n",
       "\n",
       "    na_sales  eu_sales  jp_sales  other_sales  critic_score  user_score  \\\n",
       "16      7.02      9.09      0.98         3.96          97.0         8.2   \n",
       "23      9.66      5.14      0.06         1.41          97.0         8.1   \n",
       "31      6.03      5.86      0.36         2.38           NaN         NaN   \n",
       "33      5.28      4.19      4.35         0.78           NaN         NaN   \n",
       "34      4.99      5.73      0.65         2.42          83.0         5.3   \n",
       "\n",
       "   rating  total_sales  \n",
       "16      M        21.05  \n",
       "23      M        16.27  \n",
       "31    NaN        14.63  \n",
       "33    NaN        14.60  \n",
       "34      M        13.79  "
      ],
      "text/html": [
       "<div>\n",
       "<style scoped>\n",
       "    .dataframe tbody tr th:only-of-type {\n",
       "        vertical-align: middle;\n",
       "    }\n",
       "\n",
       "    .dataframe tbody tr th {\n",
       "        vertical-align: top;\n",
       "    }\n",
       "\n",
       "    .dataframe thead th {\n",
       "        text-align: right;\n",
       "    }\n",
       "</style>\n",
       "<table border=\"1\" class=\"dataframe\">\n",
       "  <thead>\n",
       "    <tr style=\"text-align: right;\">\n",
       "      <th></th>\n",
       "      <th>name</th>\n",
       "      <th>platform</th>\n",
       "      <th>year_of_release</th>\n",
       "      <th>genre</th>\n",
       "      <th>na_sales</th>\n",
       "      <th>eu_sales</th>\n",
       "      <th>jp_sales</th>\n",
       "      <th>other_sales</th>\n",
       "      <th>critic_score</th>\n",
       "      <th>user_score</th>\n",
       "      <th>rating</th>\n",
       "      <th>total_sales</th>\n",
       "    </tr>\n",
       "  </thead>\n",
       "  <tbody>\n",
       "    <tr>\n",
       "      <th>16</th>\n",
       "      <td>Grand Theft Auto V</td>\n",
       "      <td>PS3</td>\n",
       "      <td>2013.0</td>\n",
       "      <td>Action</td>\n",
       "      <td>7.02</td>\n",
       "      <td>9.09</td>\n",
       "      <td>0.98</td>\n",
       "      <td>3.96</td>\n",
       "      <td>97.0</td>\n",
       "      <td>8.2</td>\n",
       "      <td>M</td>\n",
       "      <td>21.05</td>\n",
       "    </tr>\n",
       "    <tr>\n",
       "      <th>23</th>\n",
       "      <td>Grand Theft Auto V</td>\n",
       "      <td>X360</td>\n",
       "      <td>2013.0</td>\n",
       "      <td>Action</td>\n",
       "      <td>9.66</td>\n",
       "      <td>5.14</td>\n",
       "      <td>0.06</td>\n",
       "      <td>1.41</td>\n",
       "      <td>97.0</td>\n",
       "      <td>8.1</td>\n",
       "      <td>M</td>\n",
       "      <td>16.27</td>\n",
       "    </tr>\n",
       "    <tr>\n",
       "      <th>31</th>\n",
       "      <td>Call of Duty: Black Ops 3</td>\n",
       "      <td>PS4</td>\n",
       "      <td>2015.0</td>\n",
       "      <td>Shooter</td>\n",
       "      <td>6.03</td>\n",
       "      <td>5.86</td>\n",
       "      <td>0.36</td>\n",
       "      <td>2.38</td>\n",
       "      <td>NaN</td>\n",
       "      <td>NaN</td>\n",
       "      <td>NaN</td>\n",
       "      <td>14.63</td>\n",
       "    </tr>\n",
       "    <tr>\n",
       "      <th>33</th>\n",
       "      <td>Pokemon X/Pokemon Y</td>\n",
       "      <td>3DS</td>\n",
       "      <td>2013.0</td>\n",
       "      <td>Role-Playing</td>\n",
       "      <td>5.28</td>\n",
       "      <td>4.19</td>\n",
       "      <td>4.35</td>\n",
       "      <td>0.78</td>\n",
       "      <td>NaN</td>\n",
       "      <td>NaN</td>\n",
       "      <td>NaN</td>\n",
       "      <td>14.60</td>\n",
       "    </tr>\n",
       "    <tr>\n",
       "      <th>34</th>\n",
       "      <td>Call of Duty: Black Ops II</td>\n",
       "      <td>PS3</td>\n",
       "      <td>2012.0</td>\n",
       "      <td>Shooter</td>\n",
       "      <td>4.99</td>\n",
       "      <td>5.73</td>\n",
       "      <td>0.65</td>\n",
       "      <td>2.42</td>\n",
       "      <td>83.0</td>\n",
       "      <td>5.3</td>\n",
       "      <td>M</td>\n",
       "      <td>13.79</td>\n",
       "    </tr>\n",
       "  </tbody>\n",
       "</table>\n",
       "</div>"
      ]
     },
     "execution_count": 25,
     "metadata": {},
     "output_type": "execute_result"
    }
   ],
   "execution_count": 25
  },
  {
   "cell_type": "markdown",
   "metadata": {},
   "source": [
    "- Посмотрим какие платформы лидируют по продажам, растут или падают."
   ]
  },
  {
   "cell_type": "code",
   "metadata": {
    "ExecuteTime": {
     "end_time": "2025-05-26T19:42:24.361433Z",
     "start_time": "2025-05-26T19:42:24.348390Z"
    }
   },
   "source": [
    "# Группируем данные из этих платформ по годам и считаем суммарные продажи\n",
    "top_platforms_actual = games_actual.groupby(['platform', 'year_of_release'])['total_sales'].sum().reset_index()\n",
    "\n",
    "top_platforms_actual['platform'].unique()"
   ],
   "outputs": [
    {
     "data": {
      "text/plain": [
       "array(['3DS', 'DS', 'PC', 'PS3', 'PS4', 'PSP', 'PSV', 'Wii', 'WiiU',\n",
       "       'X360', 'XOne'], dtype=object)"
      ]
     },
     "execution_count": 26,
     "metadata": {},
     "output_type": "execute_result"
    }
   ],
   "execution_count": 26
  },
  {
   "cell_type": "code",
   "metadata": {
    "ExecuteTime": {
     "end_time": "2025-05-26T19:42:25.385551Z",
     "start_time": "2025-05-26T19:42:24.771885Z"
    }
   },
   "source": [
    "plt.figure(figsize=(12, 6))\n",
    "sns.lineplot(data=top_platforms_actual, x='year_of_release', y='total_sales', hue='platform', marker='o')\n",
    "\n",
    "plt.xlabel('Год выпуска')\n",
    "plt.ylabel('Суммарные продажи (в млн. копий)')\n",
    "plt.title('Распределение продаж платформ по актуальному периоду с 2012 до 2016')\n",
    "plt.legend(title='Платформа')\n",
    "plt.grid(True)\n",
    "\n",
    "plt.show()"
   ],
   "outputs": [
    {
     "data": {
      "text/plain": [
       "<Figure size 1200x600 with 1 Axes>"
      ],
      "image/png": "[encoded data removed]"
     },
     "metadata": {},
     "output_type": "display_data"
    }
   ],
   "execution_count": 27
  },
  {
   "cell_type": "markdown",
   "metadata": {},
   "source": [
    "- Выберем несколько потенциально прибыльных платформ."
   ]
  },
  {
   "cell_type": "code",
   "metadata": {
    "ExecuteTime": {
     "end_time": "2025-05-26T19:42:25.475981Z",
     "start_time": "2025-05-26T19:42:25.462835Z"
    }
   },
   "source": [
    "profitable_platform = top_platforms_actual.groupby('platform')['total_sales'].sum().nlargest(5)\n",
    "profitable_platform"
   ],
   "outputs": [
    {
     "data": {
      "text/plain": [
       "platform\n",
       "PS4     314.14\n",
       "PS3     288.79\n",
       "X360    236.54\n",
       "3DS     194.61\n",
       "XOne    159.32\n",
       "Name: total_sales, dtype: float64"
      ]
     },
     "execution_count": 28,
     "metadata": {},
     "output_type": "execute_result"
    }
   ],
   "execution_count": 28
  },
  {
   "cell_type": "markdown",
   "metadata": {},
   "source": [
    "- Построим график «ящик с усами» по глобальным продажам игр в разбивке по платформам"
   ]
  },
  {
   "cell_type": "code",
   "metadata": {
    "ExecuteTime": {
     "end_time": "2025-05-26T19:42:25.897497Z",
     "start_time": "2025-05-26T19:42:25.643616Z"
    }
   },
   "source": [
    "# Фильтруем платформы с наибольшими продажами\n",
    "top_platforms_actual = top_platforms_actual[top_platforms_actual['platform'].isin(profitable_platform.index)]\n",
    "\n",
    "plt.figure(figsize=(12, 6))\n",
    "sns.boxplot(data=top_platforms_actual, x='platform', y='total_sales', palette='coolwarm')\n",
    "\n",
    "plt.xlabel('Платформа')\n",
    "plt.ylabel('Суммарные продажи')\n",
    "plt.title('Распределение продаж по платформам')\n",
    "\n",
    "plt.show()"
   ],
   "outputs": [
    {
     "data": {
      "text/plain": [
       "<Figure size 1200x600 with 1 Axes>"
      ],
      "image/png": "[encoded data removed]"
     },
     "metadata": {},
     "output_type": "display_data"
    }
   ],
   "execution_count": 29
  },
  {
   "cell_type": "markdown",
   "metadata": {},
   "source": [
    "**Вывод:** Игры для платформ нового поколения, за этот период, имеют выше медианные продажи, чем игры для старого поколения (PS4 -> PS3, X360 -> XOne). У PS3 самый большой разброс продаж. XOne и 3DS имеют стабильные продажи, чем остальные платформы."
   ]
  },
  {
   "cell_type": "markdown",
   "metadata": {},
   "source": [
    "- Посмотрим, как влияют на продажи внутри одной популярной платформы отзывы пользователей и критиков"
   ]
  },
  {
   "cell_type": "code",
   "metadata": {
    "ExecuteTime": {
     "end_time": "2025-05-26T19:42:25.988222Z",
     "start_time": "2025-05-26T19:42:25.974792Z"
    }
   },
   "source": [
    "def plot_scatter(df, column, x_label):\n",
    "    plt.figure(figsize=(8, 5))\n",
    "    sns.scatterplot(data=df, x=column, y='total_sales', alpha=0.5)\n",
    "\n",
    "    plt.xlabel(x_label)\n",
    "    plt.ylabel('Суммарные продажи (в млн. копий)')\n",
    "    plt.title('Зависимость оценок от продаж')\n",
    "\n",
    "    plt.grid(True)\n",
    "    plt.show()"
   ],
   "outputs": [],
   "execution_count": 30
  },
  {
   "cell_type": "code",
   "metadata": {
    "ExecuteTime": {
     "end_time": "2025-05-26T19:42:26.063430Z",
     "start_time": "2025-05-26T19:42:26.051949Z"
    }
   },
   "source": [
    "def check_corr(platform_name, draw=True):\n",
    "    df = games_actual.query('platform == @platform_name')\n",
    "    if draw:\n",
    "        plot_scatter(df, 'user_score', 'Оценки пользователей')\n",
    "        plot_scatter(df, 'critic_score', 'Оценки критиков')\n",
    "\n",
    "    print(f'Корреляция между оценками пользователей и продажами: {df[\"user_score\"].corr(df[\"total_sales\"]):.2f}')\n",
    "    print(f'Корреляция между оценками критиков и продажами: {df[\"critic_score\"].corr(df[\"total_sales\"]):.2f}')\n",
    "    "
   ],
   "outputs": [],
   "execution_count": 31
  },
  {
   "cell_type": "code",
   "metadata": {
    "ExecuteTime": {
     "end_time": "2025-05-26T19:42:26.696210Z",
     "start_time": "2025-05-26T19:42:26.142663Z"
    }
   },
   "source": [
    "check_corr('PS4')"
   ],
   "outputs": [
    {
     "data": {
      "text/plain": [
       "<Figure size 800x500 with 1 Axes>"
      ],
      "image/png": "[encoded data removed]"
     },
     "metadata": {},
     "output_type": "display_data"
    },
    {
     "data": {
      "text/plain": [
       "<Figure size 800x500 with 1 Axes>"
      ],
      "image/png": "[encoded data removed]"
     },
     "metadata": {},
     "output_type": "display_data"
    },
    {
     "name": "stdout",
     "output_type": "stream",
     "text": [
      "Корреляция между оценками пользователей и продажами: -0.03\n",
      "Корреляция между оценками критиков и продажами: 0.41\n"
     ]
    }
   ],
   "execution_count": 32
  },
  {
   "cell_type": "markdown",
   "metadata": {},
   "source": [
    "**Вывод:** Корреляции между оценками пользователей и продажами нет, корреляция между оценками критиков и продажами - средняя положительная"
   ]
  },
  {
   "cell_type": "markdown",
   "metadata": {},
   "source": [
    "- Соотнесем вывод с продажами игр на других платформах."
   ]
  },
  {
   "cell_type": "code",
   "metadata": {
    "ExecuteTime": {
     "end_time": "2025-05-26T19:42:26.741546Z",
     "start_time": "2025-05-26T19:42:26.727506Z"
    }
   },
   "source": [
    "check_corr('PS3', draw=False)"
   ],
   "outputs": [
    {
     "name": "stdout",
     "output_type": "stream",
     "text": [
      "Корреляция между оценками пользователей и продажами: -0.01\n",
      "Корреляция между оценками критиков и продажами: 0.33\n"
     ]
    }
   ],
   "execution_count": 33
  },
  {
   "cell_type": "code",
   "metadata": {
    "ExecuteTime": {
     "end_time": "2025-05-26T19:42:26.801641Z",
     "start_time": "2025-05-26T19:42:26.788704Z"
    }
   },
   "source": [
    "check_corr('X360', draw=False)"
   ],
   "outputs": [
    {
     "name": "stdout",
     "output_type": "stream",
     "text": [
      "Корреляция между оценками пользователей и продажами: 0.01\n",
      "Корреляция между оценками критиков и продажами: 0.36\n"
     ]
    }
   ],
   "execution_count": 34
  },
  {
   "cell_type": "code",
   "metadata": {
    "ExecuteTime": {
     "end_time": "2025-05-26T19:42:26.846702Z",
     "start_time": "2025-05-26T19:42:26.837905Z"
    }
   },
   "source": [
    "check_corr('XOne', draw=False)"
   ],
   "outputs": [
    {
     "name": "stdout",
     "output_type": "stream",
     "text": [
      "Корреляция между оценками пользователей и продажами: -0.07\n",
      "Корреляция между оценками критиков и продажами: 0.42\n"
     ]
    }
   ],
   "execution_count": 35
  },
  {
   "cell_type": "code",
   "metadata": {
    "ExecuteTime": {
     "end_time": "2025-05-26T19:42:26.906875Z",
     "start_time": "2025-05-26T19:42:26.898542Z"
    }
   },
   "source": [
    "check_corr('3DS', draw=False)"
   ],
   "outputs": [
    {
     "name": "stdout",
     "output_type": "stream",
     "text": [
      "Корреляция между оценками пользователей и продажами: 0.20\n",
      "Корреляция между оценками критиков и продажами: 0.32\n"
     ]
    }
   ],
   "execution_count": 36
  },
  {
   "cell_type": "markdown",
   "metadata": {},
   "source": [
    "**Вывод:** для каждой популярной платформы сохраняется корреляции с отзывами."
   ]
  },
  {
   "cell_type": "markdown",
   "metadata": {},
   "source": [
    "- Посмотрим на общее распределение игр по жанрам"
   ]
  },
  {
   "cell_type": "code",
   "metadata": {
    "ExecuteTime": {
     "end_time": "2025-05-26T19:42:26.997299Z",
     "start_time": "2025-05-26T19:42:26.961786Z"
    }
   },
   "source": [
    "games_genre = games_actual.groupby('genre').agg(\n",
    "    count=('genre', 'count'), \n",
    "    sum_sales=('total_sales', 'sum'), \n",
    "    mean_sales=('total_sales','mean'), \n",
    "    median_sales=('total_sales', 'median')\n",
    ").reset_index()\n",
    "games_genre.head()"
   ],
   "outputs": [
    {
     "data": {
      "text/plain": [
       "       genre  count  sum_sales  mean_sales  median_sales\n",
       "0     Action   1031     441.12    0.427856          0.12\n",
       "1  Adventure    302      29.43    0.097450          0.03\n",
       "2   Fighting    109      44.49    0.408165          0.13\n",
       "3       Misc    192      85.04    0.442917          0.12\n",
       "4   Platform     85      61.00    0.717647          0.21"
      ],
      "text/html": [
       "<div>\n",
       "<style scoped>\n",
       "    .dataframe tbody tr th:only-of-type {\n",
       "        vertical-align: middle;\n",
       "    }\n",
       "\n",
       "    .dataframe tbody tr th {\n",
       "        vertical-align: top;\n",
       "    }\n",
       "\n",
       "    .dataframe thead th {\n",
       "        text-align: right;\n",
       "    }\n",
       "</style>\n",
       "<table border=\"1\" class=\"dataframe\">\n",
       "  <thead>\n",
       "    <tr style=\"text-align: right;\">\n",
       "      <th></th>\n",
       "      <th>genre</th>\n",
       "      <th>count</th>\n",
       "      <th>sum_sales</th>\n",
       "      <th>mean_sales</th>\n",
       "      <th>median_sales</th>\n",
       "    </tr>\n",
       "  </thead>\n",
       "  <tbody>\n",
       "    <tr>\n",
       "      <th>0</th>\n",
       "      <td>Action</td>\n",
       "      <td>1031</td>\n",
       "      <td>441.12</td>\n",
       "      <td>0.427856</td>\n",
       "      <td>0.12</td>\n",
       "    </tr>\n",
       "    <tr>\n",
       "      <th>1</th>\n",
       "      <td>Adventure</td>\n",
       "      <td>302</td>\n",
       "      <td>29.43</td>\n",
       "      <td>0.097450</td>\n",
       "      <td>0.03</td>\n",
       "    </tr>\n",
       "    <tr>\n",
       "      <th>2</th>\n",
       "      <td>Fighting</td>\n",
       "      <td>109</td>\n",
       "      <td>44.49</td>\n",
       "      <td>0.408165</td>\n",
       "      <td>0.13</td>\n",
       "    </tr>\n",
       "    <tr>\n",
       "      <th>3</th>\n",
       "      <td>Misc</td>\n",
       "      <td>192</td>\n",
       "      <td>85.04</td>\n",
       "      <td>0.442917</td>\n",
       "      <td>0.12</td>\n",
       "    </tr>\n",
       "    <tr>\n",
       "      <th>4</th>\n",
       "      <td>Platform</td>\n",
       "      <td>85</td>\n",
       "      <td>61.00</td>\n",
       "      <td>0.717647</td>\n",
       "      <td>0.21</td>\n",
       "    </tr>\n",
       "  </tbody>\n",
       "</table>\n",
       "</div>"
      ]
     },
     "execution_count": 37,
     "metadata": {},
     "output_type": "execute_result"
    }
   ],
   "execution_count": 37
  },
  {
   "cell_type": "code",
   "metadata": {
    "ExecuteTime": {
     "end_time": "2025-05-26T19:42:27.373968Z",
     "start_time": "2025-05-26T19:42:27.090382Z"
    }
   },
   "source": [
    "plt.figure(figsize=(12, 5))\n",
    "sns.barplot(data=games_genre, x='genre', y='count', palette='coolwarm')\n",
    "\n",
    "plt.xlabel('Жанр')\n",
    "plt.ylabel('Количество')\n",
    "plt.title('Общее распределение игр по жанрам')\n",
    "\n",
    "plt.show()"
   ],
   "outputs": [
    {
     "data": {
      "text/plain": [
       "<Figure size 1200x500 with 1 Axes>"
      ],
      "image/png": "[encoded data removed]"
     },
     "metadata": {},
     "output_type": "display_data"
    }
   ],
   "execution_count": 38
  },
  {
   "cell_type": "code",
   "metadata": {
    "scrolled": true,
    "ExecuteTime": {
     "end_time": "2025-05-26T19:42:27.734812Z",
     "start_time": "2025-05-26T19:42:27.451836Z"
    }
   },
   "source": [
    "plt.figure(figsize=(12, 5))\n",
    "sns.barplot(data=games_genre.sort_values(by='sum_sales', ascending=False), x='genre', y='sum_sales', palette='coolwarm')\n",
    "\n",
    "plt.xlabel('Жанр')\n",
    "plt.ylabel('Суммарные продажи (в млн. копий)')\n",
    "plt.title('Распределение суммарной прибыли по жанрам')\n",
    "\n",
    "plt.show()"
   ],
   "outputs": [
    {
     "data": {
      "text/plain": [
       "<Figure size 1200x500 with 1 Axes>"
      ],
      "image/png": "[encoded data removed]"
     },
     "metadata": {},
     "output_type": "display_data"
    }
   ],
   "execution_count": 39
  },
  {
   "cell_type": "code",
   "metadata": {
    "ExecuteTime": {
     "end_time": "2025-05-26T19:42:28.054215Z",
     "start_time": "2025-05-26T19:42:27.757693Z"
    }
   },
   "source": [
    "plt.figure(figsize=(12, 5))\n",
    "sns.barplot(data=games_genre.sort_values(by='mean_sales', ascending=False), x='genre', y='mean_sales', palette='coolwarm')\n",
    "\n",
    "plt.xlabel('Жанр')\n",
    "plt.ylabel('Средние продажи (в млн. копий)')\n",
    "plt.title('Распределение средней прибыли по жанрам')\n",
    "\n",
    "plt.show()"
   ],
   "outputs": [
    {
     "data": {
      "text/plain": [
       "<Figure size 1200x500 with 1 Axes>"
      ],
      "image/png": "[encoded data removed]"
     },
     "metadata": {},
     "output_type": "display_data"
    }
   ],
   "execution_count": 40
  },
  {
   "cell_type": "code",
   "metadata": {
    "ExecuteTime": {
     "end_time": "2025-05-26T19:42:28.444644Z",
     "start_time": "2025-05-26T19:42:28.086456Z"
    }
   },
   "source": [
    "plt.figure(figsize=(12, 5))\n",
    "sns.barplot(data=games_genre.sort_values(by='median_sales', ascending=False), x='genre', y='median_sales', palette='coolwarm')\n",
    "\n",
    "plt.xlabel('Жанр')\n",
    "plt.ylabel('Медианные продажи (в млн. копий)')\n",
    "plt.title('Распределение медианной прибыли по жанрам')\n",
    "\n",
    "plt.show()"
   ],
   "outputs": [
    {
     "data": {
      "text/plain": [
       "<Figure size 1200x500 with 1 Axes>"
      ],
      "image/png": "[encoded data removed]"
     },
     "metadata": {},
     "output_type": "display_data"
    }
   ],
   "execution_count": 41
  },
  {
   "cell_type": "markdown",
   "metadata": {},
   "source": [
    "Наиболее прибыльные жанры — это Shooter, Sports, Role-Playing, тогда как жанры типа Puzzle и Adventure имеют относительно низкий коммерческий успех."
   ]
  },
  {
   "cell_type": "markdown",
   "metadata": {},
   "source": [
    "**Выводы:**\n",
    "\n",
    "Не за все периоды важны данные. С 1980 - 1993 игр выходило мало\n",
    "\n",
    "5 лет для перехода между поколениями (PS2 -> PS3). Там где уже находится пик продаж PS3 (2011), продажи PS2 упали до 0. По этим данным можно предположить что у платформ срок равен примерно 10 лет.\n",
    "\n",
    "Игры для платформ нового поколения, за этот период, имеют выше медианные продажи, чем игры для старого поколения (PS4 -> PS3, X360 -> XOne). У PS3 самый большой разброс продаж. XOne и 3DS имеют стабильные продажи, чем остальные платформы.\n",
    "\n",
    "Корреляции между оценками пользователей и продажами нет, корреляция между оценками критиков и продажами - средняя положительная\n",
    "\n",
    "Наиболее прибыльные жанры — это Shooter, Sports, Role-Playing, тогда как жанры типа Puzzle и Adventure имеют относительно низкий коммерческий успех."
   ]
  },
  {
   "cell_type": "markdown",
   "metadata": {},
   "source": [
    "### Портреты пользователей для каждого региона"
   ]
  },
  {
   "cell_type": "markdown",
   "metadata": {},
   "source": [
    "Определим для пользователя каждого региона (NA, EU, JP):\n",
    "\n",
    "Самые популярные платформы (топ-5). Опишите различия в долях продаж."
   ]
  },
  {
   "cell_type": "code",
   "metadata": {
    "ExecuteTime": {
     "end_time": "2025-05-26T19:42:28.489469Z",
     "start_time": "2025-05-26T19:42:28.478009Z"
    }
   },
   "source": [
    "def make_chart(df, column, title, group):\n",
    "    df_top = df.sort_values(by=column, ascending=False)[0:5]\n",
    "    df_top['part'] = df_top['na_sales'] / df_top['total_sales']\n",
    "    \n",
    "    plt.pie(df_top['part'], labels=df_top[group], autopct=\"%1.1f%%\")\n",
    "    plt.title(title)\n",
    "    plt.show()"
   ],
   "outputs": [],
   "execution_count": 42
  },
  {
   "cell_type": "code",
   "metadata": {
    "ExecuteTime": {
     "end_time": "2025-05-26T19:42:28.549887Z",
     "start_time": "2025-05-26T19:42:28.522776Z"
    }
   },
   "source": [
    "platform_sales = games_actual.groupby('platform')[['na_sales', 'eu_sales', 'jp_sales', 'total_sales']].sum().reset_index()\n",
    "platform_sales"
   ],
   "outputs": [
    {
     "data": {
      "text/plain": [
       "   platform  na_sales  eu_sales  jp_sales  total_sales\n",
       "0       3DS     55.31     42.64     87.79       194.61\n",
       "1        DS      4.59      3.53      3.72        12.55\n",
       "2        PC     19.12     37.76      0.00        62.65\n",
       "3       PS3    103.38    106.86     35.29       288.79\n",
       "4       PS4    108.74    141.09     15.96       314.14\n",
       "5       PSP      0.13      0.42     10.47        11.19\n",
       "6       PSV     10.98     11.36     21.04        49.18\n",
       "7       Wii     17.45     11.92      3.39        35.37\n",
       "8      WiiU     38.10     25.13     13.01        82.19\n",
       "9      X360    140.05     74.52      1.57       236.54\n",
       "10     XOne     93.12     51.59      0.34       159.32"
      ],
      "text/html": [
       "<div>\n",
       "<style scoped>\n",
       "    .dataframe tbody tr th:only-of-type {\n",
       "        vertical-align: middle;\n",
       "    }\n",
       "\n",
       "    .dataframe tbody tr th {\n",
       "        vertical-align: top;\n",
       "    }\n",
       "\n",
       "    .dataframe thead th {\n",
       "        text-align: right;\n",
       "    }\n",
       "</style>\n",
       "<table border=\"1\" class=\"dataframe\">\n",
       "  <thead>\n",
       "    <tr style=\"text-align: right;\">\n",
       "      <th></th>\n",
       "      <th>platform</th>\n",
       "      <th>na_sales</th>\n",
       "      <th>eu_sales</th>\n",
       "      <th>jp_sales</th>\n",
       "      <th>total_sales</th>\n",
       "    </tr>\n",
       "  </thead>\n",
       "  <tbody>\n",
       "    <tr>\n",
       "      <th>0</th>\n",
       "      <td>3DS</td>\n",
       "      <td>55.31</td>\n",
       "      <td>42.64</td>\n",
       "      <td>87.79</td>\n",
       "      <td>194.61</td>\n",
       "    </tr>\n",
       "    <tr>\n",
       "      <th>1</th>\n",
       "      <td>DS</td>\n",
       "      <td>4.59</td>\n",
       "      <td>3.53</td>\n",
       "      <td>3.72</td>\n",
       "      <td>12.55</td>\n",
       "    </tr>\n",
       "    <tr>\n",
       "      <th>2</th>\n",
       "      <td>PC</td>\n",
       "      <td>19.12</td>\n",
       "      <td>37.76</td>\n",
       "      <td>0.00</td>\n",
       "      <td>62.65</td>\n",
       "    </tr>\n",
       "    <tr>\n",
       "      <th>3</th>\n",
       "      <td>PS3</td>\n",
       "      <td>103.38</td>\n",
       "      <td>106.86</td>\n",
       "      <td>35.29</td>\n",
       "      <td>288.79</td>\n",
       "    </tr>\n",
       "    <tr>\n",
       "      <th>4</th>\n",
       "      <td>PS4</td>\n",
       "      <td>108.74</td>\n",
       "      <td>141.09</td>\n",
       "      <td>15.96</td>\n",
       "      <td>314.14</td>\n",
       "    </tr>\n",
       "    <tr>\n",
       "      <th>5</th>\n",
       "      <td>PSP</td>\n",
       "      <td>0.13</td>\n",
       "      <td>0.42</td>\n",
       "      <td>10.47</td>\n",
       "      <td>11.19</td>\n",
       "    </tr>\n",
       "    <tr>\n",
       "      <th>6</th>\n",
       "      <td>PSV</td>\n",
       "      <td>10.98</td>\n",
       "      <td>11.36</td>\n",
       "      <td>21.04</td>\n",
       "      <td>49.18</td>\n",
       "    </tr>\n",
       "    <tr>\n",
       "      <th>7</th>\n",
       "      <td>Wii</td>\n",
       "      <td>17.45</td>\n",
       "      <td>11.92</td>\n",
       "      <td>3.39</td>\n",
       "      <td>35.37</td>\n",
       "    </tr>\n",
       "    <tr>\n",
       "      <th>8</th>\n",
       "      <td>WiiU</td>\n",
       "      <td>38.10</td>\n",
       "      <td>25.13</td>\n",
       "      <td>13.01</td>\n",
       "      <td>82.19</td>\n",
       "    </tr>\n",
       "    <tr>\n",
       "      <th>9</th>\n",
       "      <td>X360</td>\n",
       "      <td>140.05</td>\n",
       "      <td>74.52</td>\n",
       "      <td>1.57</td>\n",
       "      <td>236.54</td>\n",
       "    </tr>\n",
       "    <tr>\n",
       "      <th>10</th>\n",
       "      <td>XOne</td>\n",
       "      <td>93.12</td>\n",
       "      <td>51.59</td>\n",
       "      <td>0.34</td>\n",
       "      <td>159.32</td>\n",
       "    </tr>\n",
       "  </tbody>\n",
       "</table>\n",
       "</div>"
      ]
     },
     "execution_count": 43,
     "metadata": {},
     "output_type": "execute_result"
    }
   ],
   "execution_count": 43
  },
  {
   "cell_type": "code",
   "metadata": {
    "ExecuteTime": {
     "end_time": "2025-05-26T19:42:28.792037Z",
     "start_time": "2025-05-26T19:42:28.658200Z"
    }
   },
   "source": [
    "make_chart(platform_sales, 'na_sales', 'Самые популярные платформы для NA пользователей', 'platform')"
   ],
   "outputs": [
    {
     "data": {
      "text/plain": [
       "<Figure size 640x480 with 1 Axes>"
      ],
      "image/png": "[encoded data removed]"
     },
     "metadata": {},
     "output_type": "display_data"
    }
   ],
   "execution_count": 44
  },
  {
   "cell_type": "code",
   "metadata": {
    "ExecuteTime": {
     "end_time": "2025-05-26T19:42:29.002961Z",
     "start_time": "2025-05-26T19:42:28.869668Z"
    }
   },
   "source": [
    "make_chart(platform_sales, 'eu_sales', 'Самые популярные платформы для EU пользователей', 'platform')"
   ],
   "outputs": [
    {
     "data": {
      "text/plain": [
       "<Figure size 640x480 with 1 Axes>"
      ],
      "image/png": "[encoded data removed]"
     },
     "metadata": {},
     "output_type": "display_data"
    }
   ],
   "execution_count": 45
  },
  {
   "cell_type": "code",
   "metadata": {
    "ExecuteTime": {
     "end_time": "2025-05-26T19:42:29.138034Z",
     "start_time": "2025-05-26T19:42:29.012776Z"
    }
   },
   "source": [
    "make_chart(platform_sales, 'jp_sales', 'Самые популярные платформы для JP пользователей', 'platform')"
   ],
   "outputs": [
    {
     "data": {
      "text/plain": [
       "<Figure size 640x480 with 1 Axes>"
      ],
      "image/png": "[encoded data removed]"
     },
     "metadata": {},
     "output_type": "display_data"
    }
   ],
   "execution_count": 46
  },
  {
   "cell_type": "markdown",
   "metadata": {},
   "source": [
    "**Выводы:** Для NA и EU регионов платформы совпадают по популярности, в JP регионе популярнее `WiiU` и `PSV`, чем `X360` и `XOne`."
   ]
  },
  {
   "cell_type": "markdown",
   "metadata": {},
   "source": [
    "Самые популярные жанры (топ-5). Поясните разницу."
   ]
  },
  {
   "cell_type": "code",
   "metadata": {
    "ExecuteTime": {
     "end_time": "2025-05-26T19:42:29.213311Z",
     "start_time": "2025-05-26T19:42:29.185195Z"
    }
   },
   "source": [
    "genre_sales = games_actual.groupby('genre')[['na_sales', 'eu_sales', 'jp_sales', 'total_sales']].sum().reset_index()\n",
    "genre_sales.head()"
   ],
   "outputs": [
    {
     "data": {
      "text/plain": [
       "       genre  na_sales  eu_sales  jp_sales  total_sales\n",
       "0     Action    177.84    159.34     52.80       441.12\n",
       "1  Adventure      8.92      9.46      8.24        29.43\n",
       "2   Fighting     19.79     10.79      9.44        44.49\n",
       "3       Misc     38.19     26.32     12.86        85.04\n",
       "4   Platform     25.38     21.41      8.63        61.00"
      ],
      "text/html": [
       "<div>\n",
       "<style scoped>\n",
       "    .dataframe tbody tr th:only-of-type {\n",
       "        vertical-align: middle;\n",
       "    }\n",
       "\n",
       "    .dataframe tbody tr th {\n",
       "        vertical-align: top;\n",
       "    }\n",
       "\n",
       "    .dataframe thead th {\n",
       "        text-align: right;\n",
       "    }\n",
       "</style>\n",
       "<table border=\"1\" class=\"dataframe\">\n",
       "  <thead>\n",
       "    <tr style=\"text-align: right;\">\n",
       "      <th></th>\n",
       "      <th>genre</th>\n",
       "      <th>na_sales</th>\n",
       "      <th>eu_sales</th>\n",
       "      <th>jp_sales</th>\n",
       "      <th>total_sales</th>\n",
       "    </tr>\n",
       "  </thead>\n",
       "  <tbody>\n",
       "    <tr>\n",
       "      <th>0</th>\n",
       "      <td>Action</td>\n",
       "      <td>177.84</td>\n",
       "      <td>159.34</td>\n",
       "      <td>52.80</td>\n",
       "      <td>441.12</td>\n",
       "    </tr>\n",
       "    <tr>\n",
       "      <th>1</th>\n",
       "      <td>Adventure</td>\n",
       "      <td>8.92</td>\n",
       "      <td>9.46</td>\n",
       "      <td>8.24</td>\n",
       "      <td>29.43</td>\n",
       "    </tr>\n",
       "    <tr>\n",
       "      <th>2</th>\n",
       "      <td>Fighting</td>\n",
       "      <td>19.79</td>\n",
       "      <td>10.79</td>\n",
       "      <td>9.44</td>\n",
       "      <td>44.49</td>\n",
       "    </tr>\n",
       "    <tr>\n",
       "      <th>3</th>\n",
       "      <td>Misc</td>\n",
       "      <td>38.19</td>\n",
       "      <td>26.32</td>\n",
       "      <td>12.86</td>\n",
       "      <td>85.04</td>\n",
       "    </tr>\n",
       "    <tr>\n",
       "      <th>4</th>\n",
       "      <td>Platform</td>\n",
       "      <td>25.38</td>\n",
       "      <td>21.41</td>\n",
       "      <td>8.63</td>\n",
       "      <td>61.00</td>\n",
       "    </tr>\n",
       "  </tbody>\n",
       "</table>\n",
       "</div>"
      ]
     },
     "execution_count": 47,
     "metadata": {},
     "output_type": "execute_result"
    }
   ],
   "execution_count": 47
  },
  {
   "cell_type": "code",
   "metadata": {
    "scrolled": true,
    "ExecuteTime": {
     "end_time": "2025-05-26T19:42:29.468929Z",
     "start_time": "2025-05-26T19:42:29.334882Z"
    }
   },
   "source": [
    "make_chart(genre_sales, 'na_sales', 'Самые популярные жанры для NA пользователей', 'genre')"
   ],
   "outputs": [
    {
     "data": {
      "text/plain": [
       "<Figure size 640x480 with 1 Axes>"
      ],
      "image/png": "[encoded data removed]"
     },
     "metadata": {},
     "output_type": "display_data"
    }
   ],
   "execution_count": 48
  },
  {
   "cell_type": "code",
   "metadata": {
    "ExecuteTime": {
     "end_time": "2025-05-26T19:42:29.679339Z",
     "start_time": "2025-05-26T19:42:29.546081Z"
    }
   },
   "source": [
    "make_chart(genre_sales, 'eu_sales', 'Самые популярные жанры для EU пользователей', 'genre')"
   ],
   "outputs": [
    {
     "data": {
      "text/plain": [
       "<Figure size 640x480 with 1 Axes>"
      ],
      "image/png": "[encoded data removed]"
     },
     "metadata": {},
     "output_type": "display_data"
    }
   ],
   "execution_count": 49
  },
  {
   "cell_type": "code",
   "metadata": {
    "ExecuteTime": {
     "end_time": "2025-05-26T19:42:29.814081Z",
     "start_time": "2025-05-26T19:42:29.695884Z"
    }
   },
   "source": [
    "make_chart(genre_sales, 'jp_sales', 'Самые популярные жанры для JP пользователей', 'genre')"
   ],
   "outputs": [
    {
     "data": {
      "text/plain": [
       "<Figure size 640x480 with 1 Axes>"
      ],
      "image/png": "[encoded data removed]"
     },
     "metadata": {},
     "output_type": "display_data"
    }
   ],
   "execution_count": 50
  },
  {
   "cell_type": "markdown",
   "metadata": {},
   "source": [
    "**Выводы:** В NA и EU пользователи предпочитают почти одни и те же жанры, кроме `Misc` для NA, `Racing` для EU. Для JP пользователи предпочтительней `Fighting`, `Misc`. Жанры `Action`, `Role-Playing` почти одинаково популярны для всех пользователей. "
   ]
  },
  {
   "cell_type": "markdown",
   "metadata": {},
   "source": [
    "Влияет ли рейтинг ESRB на продажи в отдельном регионе?"
   ]
  },
  {
   "cell_type": "code",
   "metadata": {
    "ExecuteTime": {
     "end_time": "2025-05-26T19:42:29.889477Z",
     "start_time": "2025-05-26T19:42:29.861810Z"
    }
   },
   "source": [
    "esrb = games_actual.groupby('rating')[['na_sales', 'eu_sales', 'jp_sales', 'total_sales']].sum().reset_index()\n",
    "esrb.head()"
   ],
   "outputs": [
    {
     "data": {
      "text/plain": [
       "  rating  na_sales  eu_sales  jp_sales  total_sales\n",
       "0      E    114.37    113.03     28.33       287.17\n",
       "1   E10+     75.70     55.37      8.19       155.49\n",
       "2      M    231.57    193.96     21.20       510.11\n",
       "3      T     66.02     52.96     26.02       162.94"
      ],
      "text/html": [
       "<div>\n",
       "<style scoped>\n",
       "    .dataframe tbody tr th:only-of-type {\n",
       "        vertical-align: middle;\n",
       "    }\n",
       "\n",
       "    .dataframe tbody tr th {\n",
       "        vertical-align: top;\n",
       "    }\n",
       "\n",
       "    .dataframe thead th {\n",
       "        text-align: right;\n",
       "    }\n",
       "</style>\n",
       "<table border=\"1\" class=\"dataframe\">\n",
       "  <thead>\n",
       "    <tr style=\"text-align: right;\">\n",
       "      <th></th>\n",
       "      <th>rating</th>\n",
       "      <th>na_sales</th>\n",
       "      <th>eu_sales</th>\n",
       "      <th>jp_sales</th>\n",
       "      <th>total_sales</th>\n",
       "    </tr>\n",
       "  </thead>\n",
       "  <tbody>\n",
       "    <tr>\n",
       "      <th>0</th>\n",
       "      <td>E</td>\n",
       "      <td>114.37</td>\n",
       "      <td>113.03</td>\n",
       "      <td>28.33</td>\n",
       "      <td>287.17</td>\n",
       "    </tr>\n",
       "    <tr>\n",
       "      <th>1</th>\n",
       "      <td>E10+</td>\n",
       "      <td>75.70</td>\n",
       "      <td>55.37</td>\n",
       "      <td>8.19</td>\n",
       "      <td>155.49</td>\n",
       "    </tr>\n",
       "    <tr>\n",
       "      <th>2</th>\n",
       "      <td>M</td>\n",
       "      <td>231.57</td>\n",
       "      <td>193.96</td>\n",
       "      <td>21.20</td>\n",
       "      <td>510.11</td>\n",
       "    </tr>\n",
       "    <tr>\n",
       "      <th>3</th>\n",
       "      <td>T</td>\n",
       "      <td>66.02</td>\n",
       "      <td>52.96</td>\n",
       "      <td>26.02</td>\n",
       "      <td>162.94</td>\n",
       "    </tr>\n",
       "  </tbody>\n",
       "</table>\n",
       "</div>"
      ]
     },
     "execution_count": 51,
     "metadata": {},
     "output_type": "execute_result"
    }
   ],
   "execution_count": 51
  },
  {
   "cell_type": "markdown",
   "metadata": {},
   "source": [
    "Посчитаем корреляцию между рейтингом и продажами. Преобразуем ESRB-рейтинг в числовой формат для расчета корреляции"
   ]
  },
  {
   "cell_type": "code",
   "metadata": {
    "ExecuteTime": {
     "end_time": "2025-05-26T19:42:30.085012Z",
     "start_time": "2025-05-26T19:42:30.058566Z"
    }
   },
   "source": [
    "rating_mapping = {'E': 1, 'E10+': 2, 'T': 3, 'M': 4}\n",
    "esrb['rating_numeric'] = esrb['rating'].map(rating_mapping)\n",
    "\n",
    "correlation = esrb[['rating_numeric', 'na_sales', 'eu_sales', 'jp_sales']].corr()\n",
    "print(f\"Корреляция между рейтингом ESRB и продажами:\\n{correlation['rating_numeric']}\")"
   ],
   "outputs": [
    {
     "name": "stdout",
     "output_type": "stream",
     "text": [
      "Корреляция между рейтингом ESRB и продажами:\n",
      "rating_numeric    1.000000\n",
      "na_sales          0.580590\n",
      "eu_sales          0.468831\n",
      "jp_sales         -0.051061\n",
      "Name: rating_numeric, dtype: float64\n"
     ]
    }
   ],
   "execution_count": 52
  },
  {
   "cell_type": "markdown",
   "metadata": {},
   "source": [
    "**Вывод:** Для регионов NA и EU наблюдается средняя положительная корреляция с рейтингом ESRB, а в JP регионе нет корреляции вовсе."
   ]
  },
  {
   "cell_type": "markdown",
   "metadata": {},
   "source": [
    "**Выводы:** \n",
    "\n",
    "Для NA и EU регионов платформы совпадают по популярности, в JP регионе популярнее WiiU и PSV, чем X360 и XOne.\n",
    "\n",
    "В NA и EU пользователи предпочитают почти одни и те же жанры, кроме Misc для NA, Racing для EU. Для JP пользователи предпочтительней Fighting, Misc. Жанры Action, Role-Playing почти одинаково популярны для всех пользователей.\n",
    "\n",
    "Для регионов NA и EU наблюдается средняя корреляция с рейтингом ESRB, а в JP регионе нет корреляции вовсе."
   ]
  },
  {
   "cell_type": "markdown",
   "metadata": {},
   "source": [
    "### Проверка гипотез"
   ]
  },
  {
   "cell_type": "code",
   "metadata": {
    "ExecuteTime": {
     "end_time": "2025-05-26T19:42:30.234715Z",
     "start_time": "2025-05-26T19:42:30.223343Z"
    }
   },
   "source": [
    "def check_h(sample1, sample2, alpha=0.05):\n",
    "    results = st.ttest_ind(sample1.dropna(), sample2.dropna())\n",
    "    \n",
    "    print('P-value =', results.pvalue)\n",
    "    \n",
    "    if results.pvalue < alpha:\n",
    "        print('Отвергаем нулевую гипотезу')\n",
    "    else:\n",
    "        print('Отвергнуть нулевую гипотезу не удалось')\n",
    "        "
   ],
   "outputs": [],
   "execution_count": 53
  },
  {
   "cell_type": "markdown",
   "metadata": {},
   "source": [
    "#### Средние пользовательские рейтинги платформ Xbox One и PC одинаковые;\n"
   ]
  },
  {
   "cell_type": "markdown",
   "metadata": {},
   "source": [
    "- **Нулевая гипотеза** - средние пользовательские рейтинги Xbox One == средние пользовательские рейтинги PC \n",
    "- **Альтернативная гипотеза** - средние пользовательские рейтинги Xbox One != средние пользовательские рейтинги PC"
   ]
  },
  {
   "cell_type": "code",
   "metadata": {
    "ExecuteTime": {
     "end_time": "2025-05-26T19:42:30.399554Z",
     "start_time": "2025-05-26T19:42:30.356889Z"
    }
   },
   "source": [
    "check_h(games_actual.query(\"platform == 'XOne'\")['user_score'], games_actual.query(\"platform == 'PC'\")['user_score'])"
   ],
   "outputs": [
    {
     "name": "stdout",
     "output_type": "stream",
     "text": [
      "P-value = 0.5747220188229722\n",
      "Отвергнуть нулевую гипотезу не удалось\n"
     ]
    }
   ],
   "execution_count": 54
  },
  {
   "cell_type": "markdown",
   "metadata": {},
   "source": [
    "**Выводы:** Мы можем утверждать, что cредние пользовательские рейтинги платформ Xbox One и PC одинаковые"
   ]
  },
  {
   "cell_type": "markdown",
   "metadata": {},
   "source": [
    "#### Средние пользовательские рейтинги жанров Action (англ. «действие», экшен-игры) и Sports (англ. «спортивные соревнования») разные."
   ]
  },
  {
   "cell_type": "markdown",
   "metadata": {},
   "source": [
    "- **Нулевая гипотеза** - средние пользовательские рейтинги Action == средние пользовательские рейтинги Sports \n",
    "- **Альтернативная гипотеза** - средние пользовательские рейтинги Action != средние пользовательские рейтинги Sports"
   ]
  },
  {
   "cell_type": "code",
   "metadata": {
    "ExecuteTime": {
     "end_time": "2025-05-26T19:42:30.444783Z",
     "start_time": "2025-05-26T19:42:30.432301Z"
    }
   },
   "source": [
    "check_h(games_actual.query(\"genre == 'Action'\")['user_score'], games_actual.query(\"genre == 'Sports'\")['user_score'])"
   ],
   "outputs": [
    {
     "name": "stdout",
     "output_type": "stream",
     "text": [
      "P-value = 1.048598937143916e-23\n",
      "Отвергаем нулевую гипотезу\n"
     ]
    }
   ],
   "execution_count": 55
  },
  {
   "cell_type": "markdown",
   "metadata": {},
   "source": [
    "**Выводы:** Мы можем утверждать, что средние пользовательские рейтинги жанров Action (англ. «действие», экшен-игры) и Sports (англ. «спортивные соревнования») разные."
   ]
  },
  {
   "cell_type": "markdown",
   "metadata": {},
   "source": [
    "### Общий вывод"
   ]
  },
  {
   "cell_type": "markdown",
   "metadata": {},
   "source": [
    "1) Столбцы Critic_Score, User_Score, Rating имеют почти половину пропусков, которые нужно обработать\n",
    "\n",
    "2) Полных дубликатов нет\n",
    "\n",
    "3) Не за все периоды важны данные. С 1980 - 1993 игр выходило мало\n",
    "\n",
    "4) 5 лет для перехода между поколениями (PS2 -> PS3). Там где уже находится пик продаж PS3 (2011), продажи PS2 упали до 0. По этим данным можно предположить что у платформ срок равен примерно 10 лет.\n",
    "\n",
    "5) Игры для платформ нового поколения, за этот период, имеют выше медианные продажи, чем игры для старого поколения (PS4 -> PS3, X360 -> XOne). У PS3 самый большой разброс продаж. XOne и 3DS имеют стабильные продажи, чем остальные платформы.\n",
    "\n",
    "6) Корреляции между оценками пользователей и продажами нет, корреляция между оценками критиков и продажами - слабая положительная\n",
    "\n",
    "7) Наиболее прибыльные жанры — это Action и Shooter, тогда как жанры типа Puzzle и Strategy имеют относительно низкий коммерческий успех.\n",
    "\n",
    "8) Для NA и EU регионов платформы совпадают по популярности, в JP регионе популярнее WiiU и PSV, чем X360 и XOne.\n",
    "\n",
    "9) В NA и EU пользователи предпочитают почти одни и те же жанры, кроме Misc для NA, Racing для EU. Для JP пользователи предпочтительней Fighting, Misc. Жанры Action, Role-Playing почти одинаково популярны для всех пользователей.\n",
    "\n",
    "10) Для регионов NA и EU наблюдается средняя корреляция с рейтингом ESRB, а в JP регионе нет корреляции вовсе.\n",
    "\n",
    "11) Результаты проверки гипотез\n",
    "    \n",
    "    - Мы можем утверждать, что cредние пользовательские рейтинги платформ Xbox One и PC одинаковые\n",
    "    - Мы можем утверждать, что средние пользовательские рейтинги жанров Action и Sports разные.\n",
    "    \n",
    "**Рекомендации:** Успешность игры в определенном регионе зависит в первую очередь от жанра и рейтинга ESRB. Наблюдается средняя положительная корреляция на продажи от оценки критиков. Оценки пользователей никак не коррелируют с продажами."
   ]
  }
 ],
 "metadata": {
  "ExecuteTimeLog": [
   {
    "duration": 2234,
    "start_time": "2025-02-01T11:34:26.538Z"
   },
   {
    "duration": 64,
    "start_time": "2025-02-01T11:35:34.206Z"
   },
   {
    "duration": 17,
    "start_time": "2025-02-01T11:36:02.232Z"
   },
   {
    "duration": 33,
    "start_time": "2025-02-01T11:37:03.790Z"
   },
   {
    "duration": 34,
    "start_time": "2025-02-01T11:37:20.985Z"
   },
   {
    "duration": 107,
    "start_time": "2025-02-01T11:55:11.470Z"
   },
   {
    "duration": 6,
    "start_time": "2025-02-01T11:55:28.851Z"
   },
   {
    "duration": 5,
    "start_time": "2025-02-01T11:55:58.806Z"
   },
   {
    "duration": 16,
    "start_time": "2025-02-01T11:57:37.507Z"
   },
   {
    "duration": 14,
    "start_time": "2025-02-01T11:58:54.645Z"
   },
   {
    "duration": 12,
    "start_time": "2025-02-01T11:59:47.417Z"
   },
   {
    "duration": 4,
    "start_time": "2025-02-01T12:06:04.856Z"
   },
   {
    "duration": 6,
    "start_time": "2025-02-01T12:06:09.554Z"
   },
   {
    "duration": 57371,
    "start_time": "2025-02-01T12:06:49.843Z"
   },
   {
    "duration": 5,
    "start_time": "2025-02-01T12:07:56.645Z"
   },
   {
    "duration": 14,
    "start_time": "2025-02-01T12:12:12.390Z"
   },
   {
    "duration": 14,
    "start_time": "2025-02-01T12:14:21.176Z"
   },
   {
    "duration": 2234,
    "start_time": "2025-02-01T14:15:17.430Z"
   },
   {
    "duration": 65,
    "start_time": "2025-02-01T14:15:19.666Z"
   },
   {
    "duration": 21,
    "start_time": "2025-02-01T14:15:19.733Z"
   },
   {
    "duration": 62,
    "start_time": "2025-02-01T14:15:19.756Z"
   },
   {
    "duration": 46,
    "start_time": "2025-02-01T14:15:19.822Z"
   },
   {
    "duration": 5,
    "start_time": "2025-02-01T14:15:19.869Z"
   },
   {
    "duration": 17,
    "start_time": "2025-02-01T14:15:19.876Z"
   },
   {
    "duration": 6,
    "start_time": "2025-02-01T14:15:19.917Z"
   },
   {
    "duration": 5,
    "start_time": "2025-02-01T14:15:19.925Z"
   },
   {
    "duration": 5,
    "start_time": "2025-02-01T14:15:19.932Z"
   },
   {
    "duration": 6,
    "start_time": "2025-02-01T14:15:19.939Z"
   },
   {
    "duration": 19,
    "start_time": "2025-02-01T14:15:19.946Z"
   },
   {
    "duration": 15,
    "start_time": "2025-02-01T14:18:16.275Z"
   },
   {
    "duration": 11,
    "start_time": "2025-02-01T14:22:53.031Z"
   },
   {
    "duration": 11,
    "start_time": "2025-02-01T14:22:59.477Z"
   },
   {
    "duration": 8,
    "start_time": "2025-02-01T14:23:05.463Z"
   },
   {
    "duration": 8,
    "start_time": "2025-02-01T14:23:30.428Z"
   },
   {
    "duration": 8,
    "start_time": "2025-02-01T14:23:35.724Z"
   },
   {
    "duration": 20,
    "start_time": "2025-02-01T14:24:47.087Z"
   },
   {
    "duration": 22,
    "start_time": "2025-02-01T14:27:06.788Z"
   },
   {
    "duration": 22,
    "start_time": "2025-02-01T14:27:19.317Z"
   },
   {
    "duration": 9,
    "start_time": "2025-02-01T14:28:00.989Z"
   },
   {
    "duration": 10556,
    "start_time": "2025-02-01T14:30:04.398Z"
   },
   {
    "duration": 14,
    "start_time": "2025-02-01T14:31:38.991Z"
   },
   {
    "duration": 12,
    "start_time": "2025-02-01T14:33:15.565Z"
   },
   {
    "duration": 2002,
    "start_time": "2025-02-01T14:34:44.356Z"
   },
   {
    "duration": 63,
    "start_time": "2025-02-01T14:34:46.360Z"
   },
   {
    "duration": 16,
    "start_time": "2025-02-01T14:34:46.425Z"
   },
   {
    "duration": 41,
    "start_time": "2025-02-01T14:34:46.443Z"
   },
   {
    "duration": 46,
    "start_time": "2025-02-01T14:34:46.487Z"
   },
   {
    "duration": 5,
    "start_time": "2025-02-01T14:34:46.534Z"
   },
   {
    "duration": 14,
    "start_time": "2025-02-01T14:34:46.541Z"
   },
   {
    "duration": 11,
    "start_time": "2025-02-01T14:34:46.557Z"
   },
   {
    "duration": 6,
    "start_time": "2025-02-01T14:34:46.569Z"
   },
   {
    "duration": 4,
    "start_time": "2025-02-01T14:34:46.577Z"
   },
   {
    "duration": 35,
    "start_time": "2025-02-01T14:34:46.583Z"
   },
   {
    "duration": 63,
    "start_time": "2025-02-01T14:34:46.619Z"
   },
   {
    "duration": 16,
    "start_time": "2025-02-01T14:34:46.683Z"
   },
   {
    "duration": 12,
    "start_time": "2025-02-01T14:34:46.701Z"
   },
   {
    "duration": 17,
    "start_time": "2025-02-01T14:34:46.714Z"
   },
   {
    "duration": 72,
    "start_time": "2025-02-01T14:34:46.733Z"
   },
   {
    "duration": 19,
    "start_time": "2025-02-01T14:34:46.807Z"
   },
   {
    "duration": 10,
    "start_time": "2025-02-01T14:34:46.827Z"
   },
   {
    "duration": 13,
    "start_time": "2025-02-01T14:34:46.838Z"
   },
   {
    "duration": 24,
    "start_time": "2025-02-01T14:35:06.971Z"
   },
   {
    "duration": 12,
    "start_time": "2025-02-01T14:35:37.391Z"
   },
   {
    "duration": 11,
    "start_time": "2025-02-01T14:35:56.315Z"
   },
   {
    "duration": 116,
    "start_time": "2025-02-01T14:36:10.800Z"
   },
   {
    "duration": 19,
    "start_time": "2025-02-01T14:36:32.693Z"
   },
   {
    "duration": 5,
    "start_time": "2025-02-01T14:43:08.603Z"
   },
   {
    "duration": 12,
    "start_time": "2025-02-01T14:47:48.816Z"
   },
   {
    "duration": 32,
    "start_time": "2025-02-01T14:47:52.832Z"
   },
   {
    "duration": 5,
    "start_time": "2025-02-01T14:48:45.253Z"
   },
   {
    "duration": 4,
    "start_time": "2025-02-01T14:48:54.422Z"
   },
   {
    "duration": 4,
    "start_time": "2025-02-01T14:49:05.725Z"
   },
   {
    "duration": 5,
    "start_time": "2025-02-01T14:49:59.228Z"
   },
   {
    "duration": 48,
    "start_time": "2025-02-01T14:50:38.024Z"
   },
   {
    "duration": 73414,
    "start_time": "2025-02-01T14:50:54.902Z"
   },
   {
    "duration": 4,
    "start_time": "2025-02-01T14:53:48.812Z"
   },
   {
    "duration": 8,
    "start_time": "2025-02-01T14:54:27.273Z"
   },
   {
    "duration": 1851,
    "start_time": "2025-02-01T14:54:46.738Z"
   },
   {
    "duration": 9,
    "start_time": "2025-02-01T14:55:35.495Z"
   },
   {
    "duration": 9,
    "start_time": "2025-02-01T14:56:06.041Z"
   },
   {
    "duration": 12,
    "start_time": "2025-02-01T14:59:36.339Z"
   },
   {
    "duration": 12,
    "start_time": "2025-02-01T15:07:20.792Z"
   },
   {
    "duration": 17,
    "start_time": "2025-02-01T15:08:01.921Z"
   },
   {
    "duration": 17,
    "start_time": "2025-02-01T15:08:18.549Z"
   },
   {
    "duration": 7,
    "start_time": "2025-02-01T15:11:39.070Z"
   },
   {
    "duration": 10,
    "start_time": "2025-02-01T15:12:05.882Z"
   },
   {
    "duration": 3,
    "start_time": "2025-02-01T15:13:53.804Z"
   },
   {
    "duration": 8,
    "start_time": "2025-02-01T15:26:54.604Z"
   },
   {
    "duration": 24,
    "start_time": "2025-02-01T15:26:59.035Z"
   },
   {
    "duration": 2541,
    "start_time": "2025-02-01T15:27:32.923Z"
   },
   {
    "duration": 65,
    "start_time": "2025-02-01T15:27:35.466Z"
   },
   {
    "duration": 16,
    "start_time": "2025-02-01T15:27:35.533Z"
   },
   {
    "duration": 39,
    "start_time": "2025-02-01T15:27:35.551Z"
   },
   {
    "duration": 54,
    "start_time": "2025-02-01T15:27:35.592Z"
   },
   {
    "duration": 17,
    "start_time": "2025-02-01T15:27:35.647Z"
   },
   {
    "duration": 16,
    "start_time": "2025-02-01T15:27:35.665Z"
   },
   {
    "duration": 44,
    "start_time": "2025-02-01T15:27:35.683Z"
   },
   {
    "duration": 31,
    "start_time": "2025-02-01T15:27:35.728Z"
   },
   {
    "duration": 88,
    "start_time": "2025-02-01T15:27:35.761Z"
   },
   {
    "duration": 6,
    "start_time": "2025-02-01T15:27:35.851Z"
   },
   {
    "duration": 21,
    "start_time": "2025-02-01T15:27:35.859Z"
   },
   {
    "duration": 57,
    "start_time": "2025-02-01T15:27:35.881Z"
   },
   {
    "duration": 17,
    "start_time": "2025-02-01T15:27:35.941Z"
   },
   {
    "duration": 41,
    "start_time": "2025-02-01T15:27:35.960Z"
   },
   {
    "duration": 8,
    "start_time": "2025-02-01T15:27:36.003Z"
   },
   {
    "duration": 15,
    "start_time": "2025-02-01T15:27:36.012Z"
   },
   {
    "duration": 24,
    "start_time": "2025-02-01T15:27:36.029Z"
   },
   {
    "duration": 9,
    "start_time": "2025-02-01T15:27:36.054Z"
   },
   {
    "duration": 42,
    "start_time": "2025-02-01T15:27:36.064Z"
   },
   {
    "duration": 16,
    "start_time": "2025-02-01T15:27:36.107Z"
   },
   {
    "duration": 114,
    "start_time": "2025-02-01T15:27:36.125Z"
   },
   {
    "duration": 0,
    "start_time": "2025-02-01T15:27:36.241Z"
   },
   {
    "duration": 0,
    "start_time": "2025-02-01T15:27:36.243Z"
   },
   {
    "duration": 0,
    "start_time": "2025-02-01T15:27:36.244Z"
   },
   {
    "duration": 0,
    "start_time": "2025-02-01T15:27:36.245Z"
   },
   {
    "duration": 0,
    "start_time": "2025-02-01T15:30:58.873Z"
   },
   {
    "duration": 21,
    "start_time": "2025-02-01T15:31:18.866Z"
   },
   {
    "duration": 130,
    "start_time": "2025-02-01T15:36:55.379Z"
   },
   {
    "duration": 117,
    "start_time": "2025-02-01T15:37:13.621Z"
   },
   {
    "duration": 7,
    "start_time": "2025-02-01T15:42:52.623Z"
   },
   {
    "duration": 8,
    "start_time": "2025-02-01T15:44:30.540Z"
   },
   {
    "duration": 9,
    "start_time": "2025-02-01T15:44:40.751Z"
   },
   {
    "duration": 4,
    "start_time": "2025-02-01T15:49:37.216Z"
   },
   {
    "duration": 13,
    "start_time": "2025-02-01T15:49:37.800Z"
   },
   {
    "duration": 11,
    "start_time": "2025-02-01T15:53:37.230Z"
   },
   {
    "duration": 12,
    "start_time": "2025-02-01T15:53:42.292Z"
   },
   {
    "duration": 12,
    "start_time": "2025-02-01T15:55:10.326Z"
   },
   {
    "duration": 8808,
    "start_time": "2025-02-01T15:58:16.835Z"
   },
   {
    "duration": 64,
    "start_time": "2025-02-01T15:59:37.462Z"
   },
   {
    "duration": 12,
    "start_time": "2025-02-01T15:59:59.485Z"
   },
   {
    "duration": 2056,
    "start_time": "2025-02-01T16:00:26.523Z"
   },
   {
    "duration": 66,
    "start_time": "2025-02-01T16:00:28.582Z"
   },
   {
    "duration": 16,
    "start_time": "2025-02-01T16:00:28.650Z"
   },
   {
    "duration": 67,
    "start_time": "2025-02-01T16:00:28.668Z"
   },
   {
    "duration": 35,
    "start_time": "2025-02-01T16:00:28.736Z"
   },
   {
    "duration": 16,
    "start_time": "2025-02-01T16:00:28.773Z"
   },
   {
    "duration": 27,
    "start_time": "2025-02-01T16:00:28.791Z"
   },
   {
    "duration": 29,
    "start_time": "2025-02-01T16:00:28.820Z"
   },
   {
    "duration": 27,
    "start_time": "2025-02-01T16:00:28.850Z"
   },
   {
    "duration": 27,
    "start_time": "2025-02-01T16:00:28.879Z"
   },
   {
    "duration": 10,
    "start_time": "2025-02-01T16:00:28.907Z"
   },
   {
    "duration": 5,
    "start_time": "2025-02-01T16:00:28.919Z"
   },
   {
    "duration": 34,
    "start_time": "2025-02-01T16:00:28.925Z"
   },
   {
    "duration": 14,
    "start_time": "2025-02-01T16:00:28.960Z"
   },
   {
    "duration": 33,
    "start_time": "2025-02-01T16:00:28.975Z"
   },
   {
    "duration": 7,
    "start_time": "2025-02-01T16:00:29.010Z"
   },
   {
    "duration": 23,
    "start_time": "2025-02-01T16:00:29.018Z"
   },
   {
    "duration": 84,
    "start_time": "2025-02-01T16:00:29.043Z"
   },
   {
    "duration": 8,
    "start_time": "2025-02-01T16:00:29.129Z"
   },
   {
    "duration": 25,
    "start_time": "2025-02-01T16:00:29.139Z"
   },
   {
    "duration": 66,
    "start_time": "2025-02-01T16:00:29.166Z"
   },
   {
    "duration": 7,
    "start_time": "2025-02-01T16:00:29.234Z"
   },
   {
    "duration": 14,
    "start_time": "2025-02-01T16:00:29.242Z"
   },
   {
    "duration": 10,
    "start_time": "2025-02-01T16:00:29.258Z"
   },
   {
    "duration": 16,
    "start_time": "2025-02-01T16:00:29.269Z"
   },
   {
    "duration": 31,
    "start_time": "2025-02-01T16:00:29.287Z"
   },
   {
    "duration": 28,
    "start_time": "2025-02-01T16:00:29.319Z"
   },
   {
    "duration": 13,
    "start_time": "2025-02-01T16:00:29.350Z"
   },
   {
    "duration": 3137,
    "start_time": "2025-02-01T16:00:29.365Z"
   },
   {
    "duration": 5,
    "start_time": "2025-02-01T16:01:15.817Z"
   },
   {
    "duration": 65,
    "start_time": "2025-02-01T16:02:39.077Z"
   },
   {
    "duration": 13,
    "start_time": "2025-02-01T16:03:01.801Z"
   },
   {
    "duration": 4,
    "start_time": "2025-02-01T16:04:12.746Z"
   },
   {
    "duration": 12,
    "start_time": "2025-02-01T16:05:32.444Z"
   },
   {
    "duration": 7556,
    "start_time": "2025-02-01T16:08:08.185Z"
   },
   {
    "duration": 64,
    "start_time": "2025-02-01T16:08:15.742Z"
   },
   {
    "duration": 16,
    "start_time": "2025-02-01T16:08:15.807Z"
   },
   {
    "duration": 33,
    "start_time": "2025-02-01T16:08:15.825Z"
   },
   {
    "duration": 35,
    "start_time": "2025-02-01T16:08:15.860Z"
   },
   {
    "duration": 33,
    "start_time": "2025-02-01T16:08:15.896Z"
   },
   {
    "duration": 25,
    "start_time": "2025-02-01T16:08:15.930Z"
   },
   {
    "duration": 16,
    "start_time": "2025-02-01T16:08:15.956Z"
   },
   {
    "duration": 11,
    "start_time": "2025-02-01T16:08:15.974Z"
   },
   {
    "duration": 5,
    "start_time": "2025-02-01T16:08:15.987Z"
   },
   {
    "duration": 4,
    "start_time": "2025-02-01T16:08:15.994Z"
   },
   {
    "duration": 6,
    "start_time": "2025-02-01T16:08:16.016Z"
   },
   {
    "duration": 13,
    "start_time": "2025-02-01T16:08:16.023Z"
   },
   {
    "duration": 14,
    "start_time": "2025-02-01T16:08:16.038Z"
   },
   {
    "duration": 19,
    "start_time": "2025-02-01T16:08:16.054Z"
   },
   {
    "duration": 44,
    "start_time": "2025-02-01T16:08:16.075Z"
   },
   {
    "duration": 9,
    "start_time": "2025-02-01T16:08:16.121Z"
   },
   {
    "duration": 20,
    "start_time": "2025-02-01T16:08:16.132Z"
   },
   {
    "duration": 10,
    "start_time": "2025-02-01T16:08:16.154Z"
   },
   {
    "duration": 16,
    "start_time": "2025-02-01T16:08:16.166Z"
   },
   {
    "duration": 94,
    "start_time": "2025-02-01T16:08:16.185Z"
   },
   {
    "duration": 5,
    "start_time": "2025-02-01T16:08:16.281Z"
   },
   {
    "duration": 30,
    "start_time": "2025-02-01T16:08:16.288Z"
   },
   {
    "duration": 11,
    "start_time": "2025-02-01T16:08:16.320Z"
   },
   {
    "duration": 8,
    "start_time": "2025-02-01T16:08:16.333Z"
   },
   {
    "duration": 7,
    "start_time": "2025-02-01T16:08:16.343Z"
   },
   {
    "duration": 13,
    "start_time": "2025-02-01T16:08:16.352Z"
   },
   {
    "duration": 54,
    "start_time": "2025-02-01T16:08:16.369Z"
   },
   {
    "duration": 4,
    "start_time": "2025-02-01T16:08:16.425Z"
   },
   {
    "duration": 1182,
    "start_time": "2025-02-01T16:08:16.431Z"
   },
   {
    "duration": 57,
    "start_time": "2025-02-01T16:11:42.279Z"
   },
   {
    "duration": 14,
    "start_time": "2025-02-01T16:11:45.756Z"
   },
   {
    "duration": 2249,
    "start_time": "2025-02-01T16:14:41.900Z"
   },
   {
    "duration": 62,
    "start_time": "2025-02-01T16:14:44.151Z"
   },
   {
    "duration": 16,
    "start_time": "2025-02-01T16:14:44.215Z"
   },
   {
    "duration": 32,
    "start_time": "2025-02-01T16:14:44.232Z"
   },
   {
    "duration": 52,
    "start_time": "2025-02-01T16:14:44.266Z"
   },
   {
    "duration": 18,
    "start_time": "2025-02-01T16:14:44.319Z"
   },
   {
    "duration": 5,
    "start_time": "2025-02-01T16:14:44.338Z"
   },
   {
    "duration": 15,
    "start_time": "2025-02-01T16:14:44.344Z"
   },
   {
    "duration": 5,
    "start_time": "2025-02-01T16:14:44.360Z"
   },
   {
    "duration": 6,
    "start_time": "2025-02-01T16:14:44.366Z"
   },
   {
    "duration": 5,
    "start_time": "2025-02-01T16:14:44.373Z"
   },
   {
    "duration": 43,
    "start_time": "2025-02-01T16:14:44.379Z"
   },
   {
    "duration": 13,
    "start_time": "2025-02-01T16:14:44.424Z"
   },
   {
    "duration": 13,
    "start_time": "2025-02-01T16:14:44.440Z"
   },
   {
    "duration": 18,
    "start_time": "2025-02-01T16:14:44.454Z"
   },
   {
    "duration": 11,
    "start_time": "2025-02-01T16:14:44.473Z"
   },
   {
    "duration": 49,
    "start_time": "2025-02-01T16:14:44.485Z"
   },
   {
    "duration": 9,
    "start_time": "2025-02-01T16:14:44.535Z"
   },
   {
    "duration": 17,
    "start_time": "2025-02-01T16:14:44.546Z"
   },
   {
    "duration": 70,
    "start_time": "2025-02-01T16:14:44.565Z"
   },
   {
    "duration": 4,
    "start_time": "2025-02-01T16:14:44.637Z"
   },
   {
    "duration": 12,
    "start_time": "2025-02-01T16:14:44.643Z"
   },
   {
    "duration": 57,
    "start_time": "2025-02-01T16:14:44.657Z"
   },
   {
    "duration": 7,
    "start_time": "2025-02-01T16:14:44.716Z"
   },
   {
    "duration": 4,
    "start_time": "2025-02-01T16:14:44.725Z"
   },
   {
    "duration": 12,
    "start_time": "2025-02-01T16:14:44.731Z"
   },
   {
    "duration": 18,
    "start_time": "2025-02-01T16:14:44.745Z"
   },
   {
    "duration": 3,
    "start_time": "2025-02-01T16:14:44.765Z"
   },
   {
    "duration": 1948,
    "start_time": "2025-02-01T16:14:44.769Z"
   },
   {
    "duration": 2145,
    "start_time": "2025-02-01T16:21:32.544Z"
   },
   {
    "duration": 62,
    "start_time": "2025-02-01T16:21:34.691Z"
   },
   {
    "duration": 15,
    "start_time": "2025-02-01T16:21:34.755Z"
   },
   {
    "duration": 49,
    "start_time": "2025-02-01T16:21:34.771Z"
   },
   {
    "duration": 33,
    "start_time": "2025-02-01T16:21:34.822Z"
   },
   {
    "duration": 15,
    "start_time": "2025-02-01T16:21:34.858Z"
   },
   {
    "duration": 45,
    "start_time": "2025-02-01T16:21:34.875Z"
   },
   {
    "duration": 19,
    "start_time": "2025-02-01T16:21:34.922Z"
   },
   {
    "duration": 5,
    "start_time": "2025-02-01T16:21:34.943Z"
   },
   {
    "duration": 16,
    "start_time": "2025-02-01T16:21:34.949Z"
   },
   {
    "duration": 27,
    "start_time": "2025-02-01T16:21:34.966Z"
   },
   {
    "duration": 20,
    "start_time": "2025-02-01T16:21:34.994Z"
   },
   {
    "duration": 13,
    "start_time": "2025-02-01T16:21:35.015Z"
   },
   {
    "duration": 22,
    "start_time": "2025-02-01T16:21:35.029Z"
   },
   {
    "duration": 18,
    "start_time": "2025-02-01T16:21:35.053Z"
   },
   {
    "duration": 10,
    "start_time": "2025-02-01T16:21:35.072Z"
   },
   {
    "duration": 43,
    "start_time": "2025-02-01T16:21:35.084Z"
   },
   {
    "duration": 19,
    "start_time": "2025-02-01T16:21:35.129Z"
   },
   {
    "duration": 76,
    "start_time": "2025-02-01T16:21:35.149Z"
   },
   {
    "duration": 54,
    "start_time": "2025-02-01T16:21:35.228Z"
   },
   {
    "duration": 4,
    "start_time": "2025-02-01T16:21:35.284Z"
   },
   {
    "duration": 70,
    "start_time": "2025-02-01T16:21:35.289Z"
   },
   {
    "duration": 40,
    "start_time": "2025-02-01T16:21:35.361Z"
   },
   {
    "duration": 19,
    "start_time": "2025-02-01T16:21:35.403Z"
   },
   {
    "duration": 5,
    "start_time": "2025-02-01T16:21:35.424Z"
   },
   {
    "duration": 17,
    "start_time": "2025-02-01T16:21:35.430Z"
   },
   {
    "duration": 26,
    "start_time": "2025-02-01T16:21:35.449Z"
   },
   {
    "duration": 29,
    "start_time": "2025-02-01T16:21:35.477Z"
   },
   {
    "duration": 14,
    "start_time": "2025-02-01T16:25:47.166Z"
   },
   {
    "duration": 1269,
    "start_time": "2025-02-01T16:34:43.300Z"
   },
   {
    "duration": 66,
    "start_time": "2025-02-01T16:34:44.570Z"
   },
   {
    "duration": 17,
    "start_time": "2025-02-01T16:34:44.637Z"
   },
   {
    "duration": 34,
    "start_time": "2025-02-01T16:34:44.656Z"
   },
   {
    "duration": 52,
    "start_time": "2025-02-01T16:34:44.691Z"
   },
   {
    "duration": 16,
    "start_time": "2025-02-01T16:34:44.745Z"
   },
   {
    "duration": 34,
    "start_time": "2025-02-01T16:34:44.762Z"
   },
   {
    "duration": 18,
    "start_time": "2025-02-01T16:34:44.797Z"
   },
   {
    "duration": 7,
    "start_time": "2025-02-01T16:34:44.817Z"
   },
   {
    "duration": 4,
    "start_time": "2025-02-01T16:34:44.826Z"
   },
   {
    "duration": 14,
    "start_time": "2025-02-01T16:34:44.832Z"
   },
   {
    "duration": 5,
    "start_time": "2025-02-01T16:34:44.848Z"
   },
   {
    "duration": 13,
    "start_time": "2025-02-01T16:34:44.854Z"
   },
   {
    "duration": 13,
    "start_time": "2025-02-01T16:34:44.868Z"
   },
   {
    "duration": 48,
    "start_time": "2025-02-01T16:34:44.882Z"
   },
   {
    "duration": 37,
    "start_time": "2025-02-01T16:34:44.932Z"
   },
   {
    "duration": 23,
    "start_time": "2025-02-01T16:34:44.971Z"
   },
   {
    "duration": 8,
    "start_time": "2025-02-01T16:34:44.996Z"
   },
   {
    "duration": 11,
    "start_time": "2025-02-01T16:34:45.006Z"
   },
   {
    "duration": 55,
    "start_time": "2025-02-01T16:34:45.018Z"
   },
   {
    "duration": 5,
    "start_time": "2025-02-01T16:34:45.075Z"
   },
   {
    "duration": 30,
    "start_time": "2025-02-01T16:34:45.081Z"
   },
   {
    "duration": 11,
    "start_time": "2025-02-01T16:34:45.116Z"
   },
   {
    "duration": 79,
    "start_time": "2025-02-01T16:34:45.129Z"
   },
   {
    "duration": 38,
    "start_time": "2025-02-01T16:34:45.209Z"
   },
   {
    "duration": 15,
    "start_time": "2025-02-01T16:34:45.249Z"
   },
   {
    "duration": 20,
    "start_time": "2025-02-01T16:34:45.266Z"
   },
   {
    "duration": 78,
    "start_time": "2025-02-01T16:34:45.289Z"
   },
   {
    "duration": 6,
    "start_time": "2025-02-01T16:39:37.579Z"
   },
   {
    "duration": 7,
    "start_time": "2025-02-01T16:44:45.777Z"
   },
   {
    "duration": 65619,
    "start_time": "2025-02-01T16:47:05.431Z"
   },
   {
    "duration": 15,
    "start_time": "2025-02-01T16:49:15.547Z"
   },
   {
    "duration": 8,
    "start_time": "2025-02-01T16:49:57.223Z"
   },
   {
    "duration": 14,
    "start_time": "2025-02-01T16:50:06.017Z"
   },
   {
    "duration": 217,
    "start_time": "2025-02-01T16:54:13.973Z"
   },
   {
    "duration": 15,
    "start_time": "2025-02-01T16:57:05.493Z"
   },
   {
    "duration": 15,
    "start_time": "2025-02-01T16:57:15.354Z"
   },
   {
    "duration": 11,
    "start_time": "2025-02-01T16:57:35.053Z"
   },
   {
    "duration": 6,
    "start_time": "2025-02-01T16:57:47.348Z"
   },
   {
    "duration": 5,
    "start_time": "2025-02-01T16:58:02.263Z"
   },
   {
    "duration": 305,
    "start_time": "2025-02-01T19:17:01.521Z"
   },
   {
    "duration": 373,
    "start_time": "2025-02-01T19:18:51.860Z"
   },
   {
    "duration": 390,
    "start_time": "2025-02-01T19:19:01.360Z"
   },
   {
    "duration": 461,
    "start_time": "2025-02-01T19:19:09.975Z"
   },
   {
    "duration": 395,
    "start_time": "2025-02-01T19:19:15.512Z"
   },
   {
    "duration": 392,
    "start_time": "2025-02-01T19:19:25.110Z"
   },
   {
    "duration": 413,
    "start_time": "2025-02-01T19:20:02.383Z"
   },
   {
    "duration": 8,
    "start_time": "2025-02-01T19:30:04.092Z"
   },
   {
    "duration": 8,
    "start_time": "2025-02-01T19:31:06.266Z"
   },
   {
    "duration": 9,
    "start_time": "2025-02-01T19:31:19.720Z"
   },
   {
    "duration": 9,
    "start_time": "2025-02-01T19:31:51.280Z"
   },
   {
    "duration": 19,
    "start_time": "2025-02-01T19:38:06.032Z"
   },
   {
    "duration": 9,
    "start_time": "2025-02-01T19:38:15.281Z"
   },
   {
    "duration": 20,
    "start_time": "2025-02-01T19:38:32.878Z"
   },
   {
    "duration": 8,
    "start_time": "2025-02-01T19:39:52.642Z"
   },
   {
    "duration": 168,
    "start_time": "2025-02-01T19:39:55.730Z"
   },
   {
    "duration": 166,
    "start_time": "2025-02-01T19:40:40.493Z"
   },
   {
    "duration": 152,
    "start_time": "2025-02-01T19:40:47.252Z"
   },
   {
    "duration": 11,
    "start_time": "2025-02-01T19:42:03.219Z"
   },
   {
    "duration": 26,
    "start_time": "2025-02-01T19:43:26.215Z"
   },
   {
    "duration": 7,
    "start_time": "2025-02-01T19:43:45.107Z"
   },
   {
    "duration": 1355,
    "start_time": "2025-02-01T19:43:46.055Z"
   },
   {
    "duration": 1269,
    "start_time": "2025-02-01T19:43:54.700Z"
   },
   {
    "duration": 1276,
    "start_time": "2025-02-01T19:47:33.143Z"
   },
   {
    "duration": 1262,
    "start_time": "2025-02-01T19:47:49.167Z"
   },
   {
    "duration": 1296,
    "start_time": "2025-02-01T19:50:57.782Z"
   },
   {
    "duration": 1267,
    "start_time": "2025-02-01T19:51:55.914Z"
   },
   {
    "duration": 3,
    "start_time": "2025-02-01T19:57:30.200Z"
   },
   {
    "duration": 9,
    "start_time": "2025-02-01T20:13:34.151Z"
   },
   {
    "duration": 10,
    "start_time": "2025-02-01T20:13:43.311Z"
   },
   {
    "duration": 6,
    "start_time": "2025-02-01T20:13:45.481Z"
   },
   {
    "duration": 1312,
    "start_time": "2025-02-01T20:13:51.571Z"
   },
   {
    "duration": 45,
    "start_time": "2025-02-01T20:19:36.055Z"
   },
   {
    "duration": 40,
    "start_time": "2025-02-01T20:22:06.742Z"
   },
   {
    "duration": 979,
    "start_time": "2025-02-01T20:23:41.107Z"
   },
   {
    "duration": 39,
    "start_time": "2025-02-01T20:24:16.521Z"
   },
   {
    "duration": 1267,
    "start_time": "2025-02-01T20:24:19.004Z"
   },
   {
    "duration": 69,
    "start_time": "2025-02-01T20:28:55.278Z"
   },
   {
    "duration": 14,
    "start_time": "2025-02-01T20:29:13.448Z"
   },
   {
    "duration": 71,
    "start_time": "2025-02-01T20:30:21.484Z"
   },
   {
    "duration": 101,
    "start_time": "2025-02-01T20:30:33.129Z"
   },
   {
    "duration": 68,
    "start_time": "2025-02-01T20:32:13.225Z"
   },
   {
    "duration": 20,
    "start_time": "2025-02-01T20:33:12.273Z"
   },
   {
    "duration": 18,
    "start_time": "2025-02-01T20:33:41.433Z"
   },
   {
    "duration": 6,
    "start_time": "2025-02-01T20:36:21.559Z"
   },
   {
    "duration": 68,
    "start_time": "2025-02-01T20:37:03.093Z"
   },
   {
    "duration": 76,
    "start_time": "2025-02-01T20:37:07.916Z"
   },
   {
    "duration": 20,
    "start_time": "2025-02-01T20:37:14.772Z"
   },
   {
    "duration": 5,
    "start_time": "2025-02-01T20:37:25.807Z"
   },
   {
    "duration": 321,
    "start_time": "2025-02-01T20:38:11.320Z"
   },
   {
    "duration": 282,
    "start_time": "2025-02-01T20:38:23.129Z"
   },
   {
    "duration": 294,
    "start_time": "2025-02-01T20:38:33.712Z"
   },
   {
    "duration": 187,
    "start_time": "2025-02-01T20:39:17.541Z"
   },
   {
    "duration": 5,
    "start_time": "2025-02-01T20:39:21.157Z"
   },
   {
    "duration": 174,
    "start_time": "2025-02-01T20:39:22.229Z"
   },
   {
    "duration": 10,
    "start_time": "2025-02-01T20:39:37.083Z"
   },
   {
    "duration": 25,
    "start_time": "2025-02-01T20:40:02.960Z"
   },
   {
    "duration": 18,
    "start_time": "2025-02-01T20:40:19.259Z"
   },
   {
    "duration": 1386,
    "start_time": "2025-02-01T20:40:25.685Z"
   },
   {
    "duration": 8,
    "start_time": "2025-02-01T20:43:47.704Z"
   },
   {
    "duration": 19,
    "start_time": "2025-02-01T20:43:58.955Z"
   },
   {
    "duration": 1410,
    "start_time": "2025-02-01T20:44:02.457Z"
   },
   {
    "duration": 35,
    "start_time": "2025-02-01T20:48:01.040Z"
   },
   {
    "duration": 6,
    "start_time": "2025-02-01T20:53:11.966Z"
   },
   {
    "duration": 8,
    "start_time": "2025-02-01T20:53:23.757Z"
   },
   {
    "duration": 7,
    "start_time": "2025-02-01T20:55:23.602Z"
   },
   {
    "duration": 8,
    "start_time": "2025-02-01T20:57:32.622Z"
   },
   {
    "duration": 11,
    "start_time": "2025-02-01T20:57:58.370Z"
   },
   {
    "duration": 202,
    "start_time": "2025-02-01T20:58:33.567Z"
   },
   {
    "duration": 231,
    "start_time": "2025-02-01T20:59:05.299Z"
   },
   {
    "duration": 9,
    "start_time": "2025-02-01T21:10:09.153Z"
   },
   {
    "duration": 8,
    "start_time": "2025-02-01T21:10:16.998Z"
   },
   {
    "duration": 10,
    "start_time": "2025-02-01T21:11:25.246Z"
   },
   {
    "duration": 196,
    "start_time": "2025-02-01T21:11:26.124Z"
   },
   {
    "duration": 8,
    "start_time": "2025-02-01T21:11:44.465Z"
   },
   {
    "duration": 47,
    "start_time": "2025-02-02T07:21:09.938Z"
   },
   {
    "duration": 1250,
    "start_time": "2025-02-02T07:21:16.162Z"
   },
   {
    "duration": 58,
    "start_time": "2025-02-02T07:21:17.414Z"
   },
   {
    "duration": 15,
    "start_time": "2025-02-02T07:21:17.474Z"
   },
   {
    "duration": 36,
    "start_time": "2025-02-02T07:21:17.491Z"
   },
   {
    "duration": 32,
    "start_time": "2025-02-02T07:21:17.528Z"
   },
   {
    "duration": 15,
    "start_time": "2025-02-02T07:21:17.562Z"
   },
   {
    "duration": 55,
    "start_time": "2025-02-02T07:21:17.578Z"
   },
   {
    "duration": 17,
    "start_time": "2025-02-02T07:21:17.635Z"
   },
   {
    "duration": 14,
    "start_time": "2025-02-02T07:21:17.653Z"
   },
   {
    "duration": 5,
    "start_time": "2025-02-02T07:21:17.669Z"
   },
   {
    "duration": 8,
    "start_time": "2025-02-02T07:21:17.675Z"
   },
   {
    "duration": 5,
    "start_time": "2025-02-02T07:21:17.684Z"
   },
   {
    "duration": 12,
    "start_time": "2025-02-02T07:21:17.691Z"
   },
   {
    "duration": 13,
    "start_time": "2025-02-02T07:21:17.704Z"
   },
   {
    "duration": 16,
    "start_time": "2025-02-02T07:21:17.718Z"
   },
   {
    "duration": 18,
    "start_time": "2025-02-02T07:21:17.736Z"
   },
   {
    "duration": 17,
    "start_time": "2025-02-02T07:21:17.756Z"
   },
   {
    "duration": 29,
    "start_time": "2025-02-02T07:21:17.775Z"
   },
   {
    "duration": 9,
    "start_time": "2025-02-02T07:21:17.806Z"
   },
   {
    "duration": 47,
    "start_time": "2025-02-02T07:21:17.817Z"
   },
   {
    "duration": 4,
    "start_time": "2025-02-02T07:21:17.866Z"
   },
   {
    "duration": 35,
    "start_time": "2025-02-02T07:21:17.871Z"
   },
   {
    "duration": 48,
    "start_time": "2025-02-02T07:21:17.907Z"
   },
   {
    "duration": 10,
    "start_time": "2025-02-02T07:21:17.957Z"
   },
   {
    "duration": 7,
    "start_time": "2025-02-02T07:21:17.968Z"
   },
   {
    "duration": 11,
    "start_time": "2025-02-02T07:21:17.977Z"
   },
   {
    "duration": 15,
    "start_time": "2025-02-02T07:21:17.989Z"
   },
   {
    "duration": 366,
    "start_time": "2025-02-02T07:21:18.007Z"
   },
   {
    "duration": 8,
    "start_time": "2025-02-02T07:21:18.375Z"
   },
   {
    "duration": 13,
    "start_time": "2025-02-02T07:21:18.400Z"
   },
   {
    "duration": 120,
    "start_time": "2025-02-02T07:21:18.415Z"
   },
   {
    "duration": 0,
    "start_time": "2025-02-02T07:21:18.537Z"
   },
   {
    "duration": 0,
    "start_time": "2025-02-02T07:21:18.538Z"
   },
   {
    "duration": 0,
    "start_time": "2025-02-02T07:21:18.539Z"
   },
   {
    "duration": 0,
    "start_time": "2025-02-02T07:21:18.540Z"
   },
   {
    "duration": 0,
    "start_time": "2025-02-02T07:21:18.541Z"
   },
   {
    "duration": 0,
    "start_time": "2025-02-02T07:21:18.542Z"
   },
   {
    "duration": 0,
    "start_time": "2025-02-02T07:21:18.544Z"
   },
   {
    "duration": 15,
    "start_time": "2025-02-02T07:37:15.275Z"
   },
   {
    "duration": 293,
    "start_time": "2025-02-02T07:37:28.367Z"
   },
   {
    "duration": 254,
    "start_time": "2025-02-02T07:38:33.661Z"
   },
   {
    "duration": 267,
    "start_time": "2025-02-02T07:39:01.500Z"
   },
   {
    "duration": 36,
    "start_time": "2025-02-02T07:54:40.116Z"
   },
   {
    "duration": 12,
    "start_time": "2025-02-02T07:55:27.089Z"
   },
   {
    "duration": 431,
    "start_time": "2025-02-02T07:55:30.281Z"
   },
   {
    "duration": 43,
    "start_time": "2025-02-02T07:56:41.093Z"
   },
   {
    "duration": 15,
    "start_time": "2025-02-02T07:56:42.610Z"
   },
   {
    "duration": 538,
    "start_time": "2025-02-02T07:56:43.953Z"
   },
   {
    "duration": 33,
    "start_time": "2025-02-02T08:06:51.734Z"
   },
   {
    "duration": 13,
    "start_time": "2025-02-02T08:06:55.391Z"
   },
   {
    "duration": 423,
    "start_time": "2025-02-02T08:06:56.554Z"
   },
   {
    "duration": 46,
    "start_time": "2025-02-02T08:09:26.478Z"
   },
   {
    "duration": 18,
    "start_time": "2025-02-02T08:09:28.421Z"
   },
   {
    "duration": 423,
    "start_time": "2025-02-02T08:09:29.337Z"
   },
   {
    "duration": 10,
    "start_time": "2025-02-02T08:12:34.284Z"
   },
   {
    "duration": 1176,
    "start_time": "2025-02-02T08:25:17.948Z"
   },
   {
    "duration": 63,
    "start_time": "2025-02-02T08:25:19.126Z"
   },
   {
    "duration": 16,
    "start_time": "2025-02-02T08:25:19.190Z"
   },
   {
    "duration": 34,
    "start_time": "2025-02-02T08:25:19.208Z"
   },
   {
    "duration": 35,
    "start_time": "2025-02-02T08:25:19.244Z"
   },
   {
    "duration": 16,
    "start_time": "2025-02-02T08:25:19.299Z"
   },
   {
    "duration": 4,
    "start_time": "2025-02-02T08:25:19.317Z"
   },
   {
    "duration": 31,
    "start_time": "2025-02-02T08:25:19.323Z"
   },
   {
    "duration": 15,
    "start_time": "2025-02-02T08:25:19.356Z"
   },
   {
    "duration": 4,
    "start_time": "2025-02-02T08:25:19.373Z"
   },
   {
    "duration": 13,
    "start_time": "2025-02-02T08:25:19.378Z"
   },
   {
    "duration": 6,
    "start_time": "2025-02-02T08:25:19.392Z"
   },
   {
    "duration": 12,
    "start_time": "2025-02-02T08:25:19.399Z"
   },
   {
    "duration": 13,
    "start_time": "2025-02-02T08:25:19.414Z"
   },
   {
    "duration": 19,
    "start_time": "2025-02-02T08:25:19.428Z"
   },
   {
    "duration": 11,
    "start_time": "2025-02-02T08:25:19.449Z"
   },
   {
    "duration": 52,
    "start_time": "2025-02-02T08:25:19.461Z"
   },
   {
    "duration": 11,
    "start_time": "2025-02-02T08:25:19.515Z"
   },
   {
    "duration": 12,
    "start_time": "2025-02-02T08:25:19.528Z"
   },
   {
    "duration": 79,
    "start_time": "2025-02-02T08:25:19.542Z"
   },
   {
    "duration": 4,
    "start_time": "2025-02-02T08:25:19.623Z"
   },
   {
    "duration": 23,
    "start_time": "2025-02-02T08:25:19.629Z"
   },
   {
    "duration": 10,
    "start_time": "2025-02-02T08:25:19.654Z"
   },
   {
    "duration": 8,
    "start_time": "2025-02-02T08:25:19.665Z"
   },
   {
    "duration": 26,
    "start_time": "2025-02-02T08:25:19.675Z"
   },
   {
    "duration": 13,
    "start_time": "2025-02-02T08:25:19.702Z"
   },
   {
    "duration": 17,
    "start_time": "2025-02-02T08:25:19.716Z"
   },
   {
    "duration": 393,
    "start_time": "2025-02-02T08:25:19.735Z"
   },
   {
    "duration": 9,
    "start_time": "2025-02-02T08:25:20.130Z"
   },
   {
    "duration": 37,
    "start_time": "2025-02-02T08:25:20.140Z"
   },
   {
    "duration": 314,
    "start_time": "2025-02-02T08:25:20.179Z"
   },
   {
    "duration": 135,
    "start_time": "2025-02-02T08:25:20.494Z"
   },
   {
    "duration": 14,
    "start_time": "2025-02-02T08:25:20.631Z"
   },
   {
    "duration": 446,
    "start_time": "2025-02-02T08:25:20.646Z"
   },
   {
    "duration": 11,
    "start_time": "2025-02-02T08:25:21.093Z"
   },
   {
    "duration": 278,
    "start_time": "2025-02-02T08:25:21.106Z"
   },
   {
    "duration": 116,
    "start_time": "2025-02-02T08:25:21.385Z"
   },
   {
    "duration": 0,
    "start_time": "2025-02-02T08:25:21.503Z"
   },
   {
    "duration": 0,
    "start_time": "2025-02-02T08:25:21.505Z"
   },
   {
    "duration": 0,
    "start_time": "2025-02-02T08:25:21.507Z"
   },
   {
    "duration": 0,
    "start_time": "2025-02-02T08:25:21.508Z"
   },
   {
    "duration": 11,
    "start_time": "2025-02-02T08:27:14.517Z"
   },
   {
    "duration": 7,
    "start_time": "2025-02-02T08:27:18.206Z"
   },
   {
    "duration": 183,
    "start_time": "2025-02-02T08:27:19.689Z"
   },
   {
    "duration": 273,
    "start_time": "2025-02-02T08:28:00.423Z"
   },
   {
    "duration": 188,
    "start_time": "2025-02-02T08:28:08.988Z"
   },
   {
    "duration": 188,
    "start_time": "2025-02-02T08:28:50.524Z"
   },
   {
    "duration": 1187,
    "start_time": "2025-02-02T08:30:44.260Z"
   },
   {
    "duration": 69,
    "start_time": "2025-02-02T08:30:45.451Z"
   },
   {
    "duration": 17,
    "start_time": "2025-02-02T08:30:45.522Z"
   },
   {
    "duration": 35,
    "start_time": "2025-02-02T08:30:45.540Z"
   },
   {
    "duration": 75,
    "start_time": "2025-02-02T08:30:45.578Z"
   },
   {
    "duration": 17,
    "start_time": "2025-02-02T08:30:45.654Z"
   },
   {
    "duration": 4,
    "start_time": "2025-02-02T08:30:45.673Z"
   },
   {
    "duration": 31,
    "start_time": "2025-02-02T08:30:45.679Z"
   },
   {
    "duration": 6,
    "start_time": "2025-02-02T08:30:45.711Z"
   },
   {
    "duration": 6,
    "start_time": "2025-02-02T08:30:45.718Z"
   },
   {
    "duration": 25,
    "start_time": "2025-02-02T08:30:45.726Z"
   },
   {
    "duration": 18,
    "start_time": "2025-02-02T08:30:45.753Z"
   },
   {
    "duration": 13,
    "start_time": "2025-02-02T08:30:45.772Z"
   },
   {
    "duration": 78,
    "start_time": "2025-02-02T08:30:45.788Z"
   },
   {
    "duration": 17,
    "start_time": "2025-02-02T08:30:45.868Z"
   },
   {
    "duration": 9,
    "start_time": "2025-02-02T08:30:45.887Z"
   },
   {
    "duration": 20,
    "start_time": "2025-02-02T08:30:45.897Z"
   },
   {
    "duration": 9,
    "start_time": "2025-02-02T08:30:45.919Z"
   },
   {
    "duration": 12,
    "start_time": "2025-02-02T08:30:45.929Z"
   },
   {
    "duration": 77,
    "start_time": "2025-02-02T08:30:45.942Z"
   },
   {
    "duration": 5,
    "start_time": "2025-02-02T08:30:46.021Z"
   },
   {
    "duration": 14,
    "start_time": "2025-02-02T08:30:46.028Z"
   },
   {
    "duration": 8,
    "start_time": "2025-02-02T08:30:46.044Z"
   },
   {
    "duration": 8,
    "start_time": "2025-02-02T08:30:46.054Z"
   },
   {
    "duration": 7,
    "start_time": "2025-02-02T08:30:46.063Z"
   },
   {
    "duration": 37,
    "start_time": "2025-02-02T08:30:46.071Z"
   },
   {
    "duration": 27,
    "start_time": "2025-02-02T08:30:46.110Z"
   },
   {
    "duration": 397,
    "start_time": "2025-02-02T08:30:46.139Z"
   },
   {
    "duration": 8,
    "start_time": "2025-02-02T08:30:46.538Z"
   },
   {
    "duration": 31,
    "start_time": "2025-02-02T08:30:46.548Z"
   },
   {
    "duration": 303,
    "start_time": "2025-02-02T08:30:46.581Z"
   },
   {
    "duration": 131,
    "start_time": "2025-02-02T08:30:46.886Z"
   },
   {
    "duration": 14,
    "start_time": "2025-02-02T08:30:47.018Z"
   },
   {
    "duration": 435,
    "start_time": "2025-02-02T08:30:47.034Z"
   },
   {
    "duration": 7,
    "start_time": "2025-02-02T08:30:47.470Z"
   },
   {
    "duration": 275,
    "start_time": "2025-02-02T08:30:47.478Z"
   },
   {
    "duration": 74,
    "start_time": "2025-02-02T08:30:47.755Z"
   },
   {
    "duration": 0,
    "start_time": "2025-02-02T08:30:47.830Z"
   },
   {
    "duration": 0,
    "start_time": "2025-02-02T08:30:47.831Z"
   },
   {
    "duration": 0,
    "start_time": "2025-02-02T08:30:47.833Z"
   },
   {
    "duration": 0,
    "start_time": "2025-02-02T08:30:47.834Z"
   },
   {
    "duration": 4,
    "start_time": "2025-02-02T08:54:48.690Z"
   },
   {
    "duration": 213,
    "start_time": "2025-02-02T08:54:49.959Z"
   },
   {
    "duration": 4,
    "start_time": "2025-02-02T08:55:35.564Z"
   },
   {
    "duration": 286,
    "start_time": "2025-02-02T08:55:37.456Z"
   },
   {
    "duration": 34,
    "start_time": "2025-02-02T09:05:51.846Z"
   },
   {
    "duration": 4,
    "start_time": "2025-02-02T09:07:10.977Z"
   },
   {
    "duration": 3,
    "start_time": "2025-02-02T09:07:11.497Z"
   },
   {
    "duration": 454,
    "start_time": "2025-02-02T09:07:12.887Z"
   },
   {
    "duration": 10,
    "start_time": "2025-02-02T09:15:33.476Z"
   },
   {
    "duration": 194,
    "start_time": "2025-02-02T09:15:43.365Z"
   },
   {
    "duration": 28,
    "start_time": "2025-02-02T09:23:06.970Z"
   },
   {
    "duration": 8,
    "start_time": "2025-02-02T09:25:43.465Z"
   },
   {
    "duration": 4,
    "start_time": "2025-02-02T09:25:48.942Z"
   },
   {
    "duration": 9,
    "start_time": "2025-02-02T09:25:51.659Z"
   },
   {
    "duration": 7,
    "start_time": "2025-02-02T09:26:29.372Z"
   },
   {
    "duration": 8,
    "start_time": "2025-02-02T09:26:30.257Z"
   },
   {
    "duration": 7,
    "start_time": "2025-02-02T09:26:30.816Z"
   },
   {
    "duration": 194,
    "start_time": "2025-02-02T09:31:17.255Z"
   },
   {
    "duration": 201,
    "start_time": "2025-02-02T09:31:40.993Z"
   },
   {
    "duration": 199,
    "start_time": "2025-02-02T09:31:55.804Z"
   },
   {
    "duration": 8,
    "start_time": "2025-02-02T10:12:33.645Z"
   },
   {
    "duration": 3,
    "start_time": "2025-02-02T10:12:36.588Z"
   },
   {
    "duration": 10,
    "start_time": "2025-02-02T10:12:38.863Z"
   },
   {
    "duration": 11,
    "start_time": "2025-02-02T10:12:45.595Z"
   },
   {
    "duration": 8,
    "start_time": "2025-02-02T10:56:02.034Z"
   },
   {
    "duration": 8,
    "start_time": "2025-02-02T10:56:17.480Z"
   },
   {
    "duration": 12,
    "start_time": "2025-02-02T11:05:30.025Z"
   },
   {
    "duration": 12,
    "start_time": "2025-02-02T11:05:34.924Z"
   },
   {
    "duration": 12,
    "start_time": "2025-02-02T11:05:39.298Z"
   },
   {
    "duration": 14,
    "start_time": "2025-02-02T11:05:47.474Z"
   },
   {
    "duration": 3,
    "start_time": "2025-02-02T11:10:59.573Z"
   },
   {
    "duration": 5,
    "start_time": "2025-02-02T11:11:21.762Z"
   },
   {
    "duration": 3,
    "start_time": "2025-02-02T11:11:41.831Z"
   },
   {
    "duration": 16,
    "start_time": "2025-02-02T11:11:42.968Z"
   },
   {
    "duration": 4,
    "start_time": "2025-02-02T11:12:11.368Z"
   },
   {
    "duration": 17,
    "start_time": "2025-02-02T11:12:12.358Z"
   },
   {
    "duration": 3,
    "start_time": "2025-02-02T11:14:58.074Z"
   },
   {
    "duration": 7,
    "start_time": "2025-02-02T11:14:59.034Z"
   },
   {
    "duration": 4,
    "start_time": "2025-02-02T11:17:28.832Z"
   },
   {
    "duration": 12,
    "start_time": "2025-02-02T11:17:29.670Z"
   },
   {
    "duration": 3,
    "start_time": "2025-02-02T11:18:10.899Z"
   },
   {
    "duration": 6,
    "start_time": "2025-02-02T11:18:11.868Z"
   },
   {
    "duration": 3,
    "start_time": "2025-02-02T11:18:28.390Z"
   },
   {
    "duration": 7,
    "start_time": "2025-02-02T11:18:30.087Z"
   },
   {
    "duration": 15,
    "start_time": "2025-02-02T11:19:01.893Z"
   },
   {
    "duration": 8,
    "start_time": "2025-02-02T11:19:05.616Z"
   },
   {
    "duration": 5,
    "start_time": "2025-02-02T11:19:53.160Z"
   },
   {
    "duration": 3,
    "start_time": "2025-02-02T11:22:18.663Z"
   },
   {
    "duration": 9,
    "start_time": "2025-02-02T11:22:22.256Z"
   },
   {
    "duration": 4,
    "start_time": "2025-02-02T11:22:50.189Z"
   },
   {
    "duration": 898,
    "start_time": "2025-02-02T11:22:51.554Z"
   },
   {
    "duration": 3,
    "start_time": "2025-02-02T11:23:12.764Z"
   },
   {
    "duration": 886,
    "start_time": "2025-02-02T11:23:13.739Z"
   },
   {
    "duration": 4,
    "start_time": "2025-02-02T11:23:46.794Z"
   },
   {
    "duration": 8,
    "start_time": "2025-02-02T11:23:47.620Z"
   },
   {
    "duration": 4,
    "start_time": "2025-02-02T11:30:03.172Z"
   },
   {
    "duration": 110,
    "start_time": "2025-02-02T11:30:04.769Z"
   },
   {
    "duration": 3,
    "start_time": "2025-02-02T11:30:21.359Z"
   },
   {
    "duration": 90,
    "start_time": "2025-02-02T11:30:23.879Z"
   },
   {
    "duration": 4,
    "start_time": "2025-02-02T11:30:57.077Z"
   },
   {
    "duration": 86,
    "start_time": "2025-02-02T11:30:58.409Z"
   },
   {
    "duration": 4,
    "start_time": "2025-02-02T11:37:29.742Z"
   },
   {
    "duration": 98,
    "start_time": "2025-02-02T11:37:30.926Z"
   },
   {
    "duration": 104,
    "start_time": "2025-02-02T11:38:17.832Z"
   },
   {
    "duration": 183,
    "start_time": "2025-02-02T11:38:33.031Z"
   },
   {
    "duration": 15,
    "start_time": "2025-02-02T11:41:56.339Z"
   },
   {
    "duration": 14,
    "start_time": "2025-02-02T11:42:04.017Z"
   },
   {
    "duration": 908,
    "start_time": "2025-02-02T11:42:07.551Z"
   },
   {
    "duration": 9,
    "start_time": "2025-02-02T11:43:09.962Z"
   },
   {
    "duration": 4,
    "start_time": "2025-02-02T11:43:16.219Z"
   },
   {
    "duration": 96,
    "start_time": "2025-02-02T11:43:21.998Z"
   },
   {
    "duration": 93,
    "start_time": "2025-02-02T11:43:34.451Z"
   },
   {
    "duration": 101,
    "start_time": "2025-02-02T11:44:32.674Z"
   },
   {
    "duration": 95,
    "start_time": "2025-02-02T11:44:38.035Z"
   },
   {
    "duration": 12,
    "start_time": "2025-02-02T11:54:10.668Z"
   },
   {
    "duration": 13,
    "start_time": "2025-02-02T11:54:15.374Z"
   },
   {
    "duration": 15,
    "start_time": "2025-02-02T11:59:49.513Z"
   },
   {
    "duration": 14,
    "start_time": "2025-02-02T11:59:55.337Z"
   },
   {
    "duration": 7,
    "start_time": "2025-02-02T12:00:09.902Z"
   },
   {
    "duration": 7,
    "start_time": "2025-02-02T12:02:00.728Z"
   },
   {
    "duration": 9,
    "start_time": "2025-02-02T12:02:17.400Z"
   },
   {
    "duration": 7,
    "start_time": "2025-02-02T12:02:34.057Z"
   },
   {
    "duration": 8,
    "start_time": "2025-02-02T12:02:39.962Z"
   },
   {
    "duration": 7,
    "start_time": "2025-02-02T12:02:43.296Z"
   },
   {
    "duration": 1147,
    "start_time": "2025-02-02T12:26:18.682Z"
   },
   {
    "duration": 61,
    "start_time": "2025-02-02T12:26:19.831Z"
   },
   {
    "duration": 16,
    "start_time": "2025-02-02T12:26:19.893Z"
   },
   {
    "duration": 50,
    "start_time": "2025-02-02T12:26:19.911Z"
   },
   {
    "duration": 33,
    "start_time": "2025-02-02T12:26:19.963Z"
   },
   {
    "duration": 15,
    "start_time": "2025-02-02T12:26:19.998Z"
   },
   {
    "duration": 14,
    "start_time": "2025-02-02T12:26:20.015Z"
   },
   {
    "duration": 26,
    "start_time": "2025-02-02T12:26:20.031Z"
   },
   {
    "duration": 11,
    "start_time": "2025-02-02T12:26:20.059Z"
   },
   {
    "duration": 11,
    "start_time": "2025-02-02T12:26:20.073Z"
   },
   {
    "duration": 16,
    "start_time": "2025-02-02T12:26:20.085Z"
   },
   {
    "duration": 13,
    "start_time": "2025-02-02T12:26:20.103Z"
   },
   {
    "duration": 15,
    "start_time": "2025-02-02T12:26:20.118Z"
   },
   {
    "duration": 14,
    "start_time": "2025-02-02T12:26:20.134Z"
   },
   {
    "duration": 25,
    "start_time": "2025-02-02T12:26:20.150Z"
   },
   {
    "duration": 18,
    "start_time": "2025-02-02T12:26:20.177Z"
   },
   {
    "duration": 19,
    "start_time": "2025-02-02T12:26:20.199Z"
   },
   {
    "duration": 10,
    "start_time": "2025-02-02T12:26:20.219Z"
   },
   {
    "duration": 21,
    "start_time": "2025-02-02T12:26:20.231Z"
   },
   {
    "duration": 69,
    "start_time": "2025-02-02T12:26:20.254Z"
   },
   {
    "duration": 4,
    "start_time": "2025-02-02T12:26:20.325Z"
   },
   {
    "duration": 21,
    "start_time": "2025-02-02T12:26:20.330Z"
   },
   {
    "duration": 11,
    "start_time": "2025-02-02T12:26:20.353Z"
   },
   {
    "duration": 7,
    "start_time": "2025-02-02T12:26:20.366Z"
   },
   {
    "duration": 17,
    "start_time": "2025-02-02T12:26:20.374Z"
   },
   {
    "duration": 13,
    "start_time": "2025-02-02T12:26:20.399Z"
   },
   {
    "duration": 22,
    "start_time": "2025-02-02T12:26:20.414Z"
   },
   {
    "duration": 403,
    "start_time": "2025-02-02T12:26:20.440Z"
   },
   {
    "duration": 8,
    "start_time": "2025-02-02T12:26:20.845Z"
   },
   {
    "duration": 23,
    "start_time": "2025-02-02T12:26:20.854Z"
   },
   {
    "duration": 314,
    "start_time": "2025-02-02T12:26:20.879Z"
   },
   {
    "duration": 144,
    "start_time": "2025-02-02T12:26:21.194Z"
   },
   {
    "duration": 12,
    "start_time": "2025-02-02T12:26:21.339Z"
   },
   {
    "duration": 432,
    "start_time": "2025-02-02T12:26:21.352Z"
   },
   {
    "duration": 21,
    "start_time": "2025-02-02T12:26:21.786Z"
   },
   {
    "duration": 195,
    "start_time": "2025-02-02T12:26:21.809Z"
   },
   {
    "duration": 4,
    "start_time": "2025-02-02T12:26:22.006Z"
   },
   {
    "duration": 16,
    "start_time": "2025-02-02T12:26:22.012Z"
   },
   {
    "duration": 364,
    "start_time": "2025-02-02T12:26:22.029Z"
   },
   {
    "duration": 10,
    "start_time": "2025-02-02T12:26:22.395Z"
   },
   {
    "duration": 23,
    "start_time": "2025-02-02T12:26:22.407Z"
   },
   {
    "duration": 9,
    "start_time": "2025-02-02T12:26:22.432Z"
   },
   {
    "duration": 16,
    "start_time": "2025-02-02T12:26:22.442Z"
   },
   {
    "duration": 18,
    "start_time": "2025-02-02T12:26:22.460Z"
   },
   {
    "duration": 293,
    "start_time": "2025-02-02T12:26:22.480Z"
   },
   {
    "duration": 209,
    "start_time": "2025-02-02T12:26:22.775Z"
   },
   {
    "duration": 4,
    "start_time": "2025-02-02T12:26:22.986Z"
   },
   {
    "duration": 20,
    "start_time": "2025-02-02T12:26:22.999Z"
   },
   {
    "duration": 112,
    "start_time": "2025-02-02T12:26:23.021Z"
   },
   {
    "duration": 110,
    "start_time": "2025-02-02T12:26:23.134Z"
   },
   {
    "duration": 105,
    "start_time": "2025-02-02T12:26:23.245Z"
   },
   {
    "duration": 13,
    "start_time": "2025-02-02T12:26:23.352Z"
   },
   {
    "duration": 109,
    "start_time": "2025-02-02T12:26:23.367Z"
   },
   {
    "duration": 103,
    "start_time": "2025-02-02T12:26:23.477Z"
   },
   {
    "duration": 105,
    "start_time": "2025-02-02T12:26:23.582Z"
   },
   {
    "duration": 22,
    "start_time": "2025-02-02T12:26:23.689Z"
   },
   {
    "duration": 62,
    "start_time": "2025-02-02T12:26:23.713Z"
   },
   {
    "duration": 9,
    "start_time": "2025-02-02T12:26:23.776Z"
   },
   {
    "duration": 9,
    "start_time": "2025-02-02T12:26:23.787Z"
   },
   {
    "duration": 9,
    "start_time": "2025-02-02T12:26:23.798Z"
   },
   {
    "duration": 1172,
    "start_time": "2025-02-02T12:33:33.647Z"
   },
   {
    "duration": 60,
    "start_time": "2025-02-02T12:33:34.820Z"
   },
   {
    "duration": 14,
    "start_time": "2025-02-02T12:33:34.881Z"
   },
   {
    "duration": 32,
    "start_time": "2025-02-02T12:33:34.900Z"
   },
   {
    "duration": 63,
    "start_time": "2025-02-02T12:33:34.934Z"
   },
   {
    "duration": 15,
    "start_time": "2025-02-02T12:33:34.999Z"
   },
   {
    "duration": 5,
    "start_time": "2025-02-02T12:33:35.015Z"
   },
   {
    "duration": 15,
    "start_time": "2025-02-02T12:33:35.021Z"
   },
   {
    "duration": 12,
    "start_time": "2025-02-02T12:33:35.038Z"
   },
   {
    "duration": 6,
    "start_time": "2025-02-02T12:33:35.052Z"
   },
   {
    "duration": 15,
    "start_time": "2025-02-02T12:33:35.059Z"
   },
   {
    "duration": 12,
    "start_time": "2025-02-02T12:33:35.076Z"
   },
   {
    "duration": 27,
    "start_time": "2025-02-02T12:33:35.089Z"
   },
   {
    "duration": 17,
    "start_time": "2025-02-02T12:33:35.118Z"
   },
   {
    "duration": 21,
    "start_time": "2025-02-02T12:33:35.136Z"
   },
   {
    "duration": 18,
    "start_time": "2025-02-02T12:33:35.159Z"
   },
   {
    "duration": 76,
    "start_time": "2025-02-02T12:33:35.179Z"
   },
   {
    "duration": 30,
    "start_time": "2025-02-02T12:33:35.257Z"
   },
   {
    "duration": 19,
    "start_time": "2025-02-02T12:33:35.289Z"
   },
   {
    "duration": 55,
    "start_time": "2025-02-02T12:33:35.310Z"
   },
   {
    "duration": 57,
    "start_time": "2025-02-02T12:33:35.367Z"
   },
   {
    "duration": 43,
    "start_time": "2025-02-02T12:33:35.427Z"
   },
   {
    "duration": 12,
    "start_time": "2025-02-02T12:33:35.472Z"
   },
   {
    "duration": 22,
    "start_time": "2025-02-02T12:33:35.486Z"
   },
   {
    "duration": 12,
    "start_time": "2025-02-02T12:33:35.509Z"
   },
   {
    "duration": 13,
    "start_time": "2025-02-02T12:33:35.523Z"
   },
   {
    "duration": 98,
    "start_time": "2025-02-02T12:33:35.538Z"
   },
   {
    "duration": 395,
    "start_time": "2025-02-02T12:33:35.639Z"
   },
   {
    "duration": 7,
    "start_time": "2025-02-02T12:33:36.036Z"
   },
   {
    "duration": 16,
    "start_time": "2025-02-02T12:33:36.045Z"
   },
   {
    "duration": 297,
    "start_time": "2025-02-02T12:33:36.062Z"
   },
   {
    "duration": 141,
    "start_time": "2025-02-02T12:33:36.360Z"
   },
   {
    "duration": 14,
    "start_time": "2025-02-02T12:33:36.502Z"
   },
   {
    "duration": 421,
    "start_time": "2025-02-02T12:33:36.518Z"
   },
   {
    "duration": 8,
    "start_time": "2025-02-02T12:33:36.941Z"
   },
   {
    "duration": 206,
    "start_time": "2025-02-02T12:33:36.951Z"
   },
   {
    "duration": 4,
    "start_time": "2025-02-02T12:33:37.159Z"
   },
   {
    "duration": 6,
    "start_time": "2025-02-02T12:33:37.164Z"
   },
   {
    "duration": 357,
    "start_time": "2025-02-02T12:33:37.171Z"
   },
   {
    "duration": 7,
    "start_time": "2025-02-02T12:33:37.530Z"
   },
   {
    "duration": 72,
    "start_time": "2025-02-02T12:33:37.538Z"
   },
   {
    "duration": 14,
    "start_time": "2025-02-02T12:33:37.612Z"
   },
   {
    "duration": 7,
    "start_time": "2025-02-02T12:33:37.627Z"
   },
   {
    "duration": 17,
    "start_time": "2025-02-02T12:33:37.635Z"
   },
   {
    "duration": 287,
    "start_time": "2025-02-02T12:33:37.654Z"
   },
   {
    "duration": 213,
    "start_time": "2025-02-02T12:33:37.943Z"
   },
   {
    "duration": 4,
    "start_time": "2025-02-02T12:33:38.158Z"
   },
   {
    "duration": 22,
    "start_time": "2025-02-02T12:33:38.164Z"
   },
   {
    "duration": 120,
    "start_time": "2025-02-02T12:33:38.199Z"
   },
   {
    "duration": 102,
    "start_time": "2025-02-02T12:33:38.320Z"
   },
   {
    "duration": 97,
    "start_time": "2025-02-02T12:33:38.424Z"
   },
   {
    "duration": 14,
    "start_time": "2025-02-02T12:33:38.523Z"
   },
   {
    "duration": 203,
    "start_time": "2025-02-02T12:33:38.538Z"
   },
   {
    "duration": 182,
    "start_time": "2025-02-02T12:33:38.742Z"
   },
   {
    "duration": 119,
    "start_time": "2025-02-02T12:33:38.926Z"
   },
   {
    "duration": 12,
    "start_time": "2025-02-02T12:33:39.047Z"
   },
   {
    "duration": 11,
    "start_time": "2025-02-02T12:33:39.061Z"
   },
   {
    "duration": 13,
    "start_time": "2025-02-02T12:33:39.073Z"
   },
   {
    "duration": 18,
    "start_time": "2025-02-02T12:33:39.088Z"
   },
   {
    "duration": 9,
    "start_time": "2025-02-02T12:33:39.108Z"
   },
   {
    "duration": 1250,
    "start_time": "2025-02-02T13:24:00.482Z"
   },
   {
    "duration": 63,
    "start_time": "2025-02-02T13:24:01.734Z"
   },
   {
    "duration": 15,
    "start_time": "2025-02-02T13:24:01.799Z"
   },
   {
    "duration": 35,
    "start_time": "2025-02-02T13:24:01.817Z"
   },
   {
    "duration": 48,
    "start_time": "2025-02-02T13:24:01.853Z"
   },
   {
    "duration": 30,
    "start_time": "2025-02-02T13:24:01.903Z"
   },
   {
    "duration": 14,
    "start_time": "2025-02-02T13:24:01.935Z"
   },
   {
    "duration": 14,
    "start_time": "2025-02-02T13:24:01.951Z"
   },
   {
    "duration": 15,
    "start_time": "2025-02-02T13:24:01.966Z"
   },
   {
    "duration": 22,
    "start_time": "2025-02-02T13:24:01.983Z"
   },
   {
    "duration": 10,
    "start_time": "2025-02-02T13:24:02.007Z"
   },
   {
    "duration": 23,
    "start_time": "2025-02-02T13:24:02.020Z"
   },
   {
    "duration": 14,
    "start_time": "2025-02-02T13:24:02.044Z"
   },
   {
    "duration": 54,
    "start_time": "2025-02-02T13:24:02.059Z"
   },
   {
    "duration": 107,
    "start_time": "2025-02-02T13:24:02.115Z"
   },
   {
    "duration": 17,
    "start_time": "2025-02-02T13:24:02.224Z"
   },
   {
    "duration": 19,
    "start_time": "2025-02-02T13:24:02.243Z"
   },
   {
    "duration": 9,
    "start_time": "2025-02-02T13:24:02.263Z"
   },
   {
    "duration": 40,
    "start_time": "2025-02-02T13:24:02.274Z"
   },
   {
    "duration": 76,
    "start_time": "2025-02-02T13:24:02.316Z"
   },
   {
    "duration": 5,
    "start_time": "2025-02-02T13:24:02.393Z"
   },
   {
    "duration": 25,
    "start_time": "2025-02-02T13:24:02.400Z"
   },
   {
    "duration": 13,
    "start_time": "2025-02-02T13:24:02.427Z"
   },
   {
    "duration": 18,
    "start_time": "2025-02-02T13:24:02.442Z"
   },
   {
    "duration": 26,
    "start_time": "2025-02-02T13:24:02.461Z"
   },
   {
    "duration": 45,
    "start_time": "2025-02-02T13:24:02.489Z"
   },
   {
    "duration": 38,
    "start_time": "2025-02-02T13:24:02.537Z"
   },
   {
    "duration": 404,
    "start_time": "2025-02-02T13:24:02.578Z"
   },
   {
    "duration": 8,
    "start_time": "2025-02-02T13:24:02.983Z"
   },
   {
    "duration": 23,
    "start_time": "2025-02-02T13:24:03.000Z"
   },
   {
    "duration": 286,
    "start_time": "2025-02-02T13:24:03.025Z"
   },
   {
    "duration": 144,
    "start_time": "2025-02-02T13:24:03.313Z"
   },
   {
    "duration": 12,
    "start_time": "2025-02-02T13:24:03.458Z"
   },
   {
    "duration": 444,
    "start_time": "2025-02-02T13:24:03.471Z"
   },
   {
    "duration": 7,
    "start_time": "2025-02-02T13:24:03.917Z"
   },
   {
    "duration": 219,
    "start_time": "2025-02-02T13:24:03.926Z"
   },
   {
    "duration": 5,
    "start_time": "2025-02-02T13:24:04.148Z"
   },
   {
    "duration": 28,
    "start_time": "2025-02-02T13:24:04.155Z"
   },
   {
    "duration": 385,
    "start_time": "2025-02-02T13:24:04.186Z"
   },
   {
    "duration": 8,
    "start_time": "2025-02-02T13:24:04.573Z"
   },
   {
    "duration": 26,
    "start_time": "2025-02-02T13:24:04.582Z"
   },
   {
    "duration": 28,
    "start_time": "2025-02-02T13:24:04.610Z"
   },
   {
    "duration": 37,
    "start_time": "2025-02-02T13:24:04.640Z"
   },
   {
    "duration": 88,
    "start_time": "2025-02-02T13:24:04.679Z"
   },
   {
    "duration": 344,
    "start_time": "2025-02-02T13:24:04.769Z"
   },
   {
    "duration": 203,
    "start_time": "2025-02-02T13:24:05.116Z"
   },
   {
    "duration": 5,
    "start_time": "2025-02-02T13:24:05.321Z"
   },
   {
    "duration": 22,
    "start_time": "2025-02-02T13:24:05.328Z"
   },
   {
    "duration": 137,
    "start_time": "2025-02-02T13:24:05.352Z"
   },
   {
    "duration": 113,
    "start_time": "2025-02-02T13:24:05.491Z"
   },
   {
    "duration": 122,
    "start_time": "2025-02-02T13:24:05.607Z"
   },
   {
    "duration": 14,
    "start_time": "2025-02-02T13:24:05.730Z"
   },
   {
    "duration": 113,
    "start_time": "2025-02-02T13:24:05.745Z"
   },
   {
    "duration": 107,
    "start_time": "2025-02-02T13:24:05.859Z"
   },
   {
    "duration": 107,
    "start_time": "2025-02-02T13:24:05.968Z"
   },
   {
    "duration": 24,
    "start_time": "2025-02-02T13:24:06.077Z"
   },
   {
    "duration": 98,
    "start_time": "2025-02-02T13:24:06.103Z"
   },
   {
    "duration": 18,
    "start_time": "2025-02-02T13:24:06.202Z"
   },
   {
    "duration": 37,
    "start_time": "2025-02-02T13:24:06.221Z"
   },
   {
    "duration": 13,
    "start_time": "2025-02-02T13:24:06.260Z"
   },
   {
    "duration": 12,
    "start_time": "2025-02-02T14:53:56.839Z"
   },
   {
    "duration": 5,
    "start_time": "2025-02-02T14:54:03.430Z"
   },
   {
    "duration": 1438,
    "start_time": "2025-02-02T15:10:17.018Z"
   },
   {
    "duration": 61,
    "start_time": "2025-02-02T15:10:18.458Z"
   },
   {
    "duration": 16,
    "start_time": "2025-02-02T15:10:18.521Z"
   },
   {
    "duration": 32,
    "start_time": "2025-02-02T15:10:18.540Z"
   },
   {
    "duration": 55,
    "start_time": "2025-02-02T15:10:18.573Z"
   },
   {
    "duration": 15,
    "start_time": "2025-02-02T15:10:18.630Z"
   },
   {
    "duration": 5,
    "start_time": "2025-02-02T15:10:18.646Z"
   },
   {
    "duration": 18,
    "start_time": "2025-02-02T15:10:18.652Z"
   },
   {
    "duration": 29,
    "start_time": "2025-02-02T15:10:18.672Z"
   },
   {
    "duration": 50,
    "start_time": "2025-02-02T15:10:18.704Z"
   },
   {
    "duration": 68,
    "start_time": "2025-02-02T15:10:18.756Z"
   },
   {
    "duration": 4,
    "start_time": "2025-02-02T15:10:18.826Z"
   },
   {
    "duration": 13,
    "start_time": "2025-02-02T15:10:18.831Z"
   },
   {
    "duration": 19,
    "start_time": "2025-02-02T15:10:18.845Z"
   },
   {
    "duration": 22,
    "start_time": "2025-02-02T15:10:18.865Z"
   },
   {
    "duration": 10,
    "start_time": "2025-02-02T15:10:18.889Z"
   },
   {
    "duration": 22,
    "start_time": "2025-02-02T15:10:18.900Z"
   },
   {
    "duration": 9,
    "start_time": "2025-02-02T15:10:18.923Z"
   },
   {
    "duration": 90,
    "start_time": "2025-02-02T15:10:18.933Z"
   },
   {
    "duration": 9,
    "start_time": "2025-02-02T15:10:19.024Z"
   },
   {
    "duration": 7,
    "start_time": "2025-02-02T15:10:19.035Z"
   },
   {
    "duration": 13,
    "start_time": "2025-02-02T15:10:19.043Z"
   },
   {
    "duration": 31,
    "start_time": "2025-02-02T15:10:19.057Z"
   },
   {
    "duration": 410,
    "start_time": "2025-02-02T15:10:19.089Z"
   },
   {
    "duration": 8,
    "start_time": "2025-02-02T15:10:19.501Z"
   },
   {
    "duration": 18,
    "start_time": "2025-02-02T15:10:19.511Z"
   },
   {
    "duration": 325,
    "start_time": "2025-02-02T15:10:19.531Z"
   },
   {
    "duration": 137,
    "start_time": "2025-02-02T15:10:19.862Z"
   },
   {
    "duration": 14,
    "start_time": "2025-02-02T15:10:20.001Z"
   },
   {
    "duration": 457,
    "start_time": "2025-02-02T15:10:20.017Z"
   },
   {
    "duration": 9,
    "start_time": "2025-02-02T15:10:20.476Z"
   },
   {
    "duration": 203,
    "start_time": "2025-02-02T15:10:20.499Z"
   },
   {
    "duration": 5,
    "start_time": "2025-02-02T15:10:20.704Z"
   },
   {
    "duration": 122,
    "start_time": "2025-02-02T15:10:20.711Z"
   },
   {
    "duration": 349,
    "start_time": "2025-02-02T15:10:20.835Z"
   },
   {
    "duration": 15,
    "start_time": "2025-02-02T15:10:21.186Z"
   },
   {
    "duration": 22,
    "start_time": "2025-02-02T15:10:21.203Z"
   },
   {
    "duration": 10,
    "start_time": "2025-02-02T15:10:21.227Z"
   },
   {
    "duration": 9,
    "start_time": "2025-02-02T15:10:21.239Z"
   },
   {
    "duration": 92,
    "start_time": "2025-02-02T15:10:21.249Z"
   },
   {
    "duration": 0,
    "start_time": "2025-02-02T15:10:21.343Z"
   },
   {
    "duration": 0,
    "start_time": "2025-02-02T15:10:21.344Z"
   },
   {
    "duration": 0,
    "start_time": "2025-02-02T15:10:21.346Z"
   },
   {
    "duration": 0,
    "start_time": "2025-02-02T15:10:21.347Z"
   },
   {
    "duration": 0,
    "start_time": "2025-02-02T15:10:21.349Z"
   },
   {
    "duration": 0,
    "start_time": "2025-02-02T15:10:21.351Z"
   },
   {
    "duration": 0,
    "start_time": "2025-02-02T15:10:21.352Z"
   },
   {
    "duration": 0,
    "start_time": "2025-02-02T15:10:21.354Z"
   },
   {
    "duration": 0,
    "start_time": "2025-02-02T15:10:21.356Z"
   },
   {
    "duration": 0,
    "start_time": "2025-02-02T15:10:21.358Z"
   },
   {
    "duration": 0,
    "start_time": "2025-02-02T15:10:21.360Z"
   },
   {
    "duration": 0,
    "start_time": "2025-02-02T15:10:21.361Z"
   },
   {
    "duration": 0,
    "start_time": "2025-02-02T15:10:21.363Z"
   },
   {
    "duration": 1,
    "start_time": "2025-02-02T15:10:21.364Z"
   },
   {
    "duration": 0,
    "start_time": "2025-02-02T15:10:21.366Z"
   },
   {
    "duration": 0,
    "start_time": "2025-02-02T15:10:21.367Z"
   },
   {
    "duration": 0,
    "start_time": "2025-02-02T15:10:21.368Z"
   },
   {
    "duration": 6,
    "start_time": "2025-02-02T15:11:21.147Z"
   },
   {
    "duration": 76,
    "start_time": "2025-02-02T15:12:46.973Z"
   },
   {
    "duration": 72,
    "start_time": "2025-02-02T15:15:05.119Z"
   },
   {
    "duration": 65,
    "start_time": "2025-02-02T15:15:26.198Z"
   },
   {
    "duration": 1266,
    "start_time": "2025-02-02T15:15:32.917Z"
   },
   {
    "duration": 61,
    "start_time": "2025-02-02T15:15:34.185Z"
   },
   {
    "duration": 17,
    "start_time": "2025-02-02T15:15:34.247Z"
   },
   {
    "duration": 45,
    "start_time": "2025-02-02T15:15:34.267Z"
   },
   {
    "duration": 35,
    "start_time": "2025-02-02T15:15:34.314Z"
   },
   {
    "duration": 16,
    "start_time": "2025-02-02T15:15:34.351Z"
   },
   {
    "duration": 30,
    "start_time": "2025-02-02T15:15:34.369Z"
   },
   {
    "duration": 15,
    "start_time": "2025-02-02T15:15:34.401Z"
   },
   {
    "duration": 5,
    "start_time": "2025-02-02T15:15:34.418Z"
   },
   {
    "duration": 5,
    "start_time": "2025-02-02T15:15:34.426Z"
   },
   {
    "duration": 7,
    "start_time": "2025-02-02T15:15:34.433Z"
   },
   {
    "duration": 13,
    "start_time": "2025-02-02T15:15:34.441Z"
   },
   {
    "duration": 28,
    "start_time": "2025-02-02T15:15:34.456Z"
   },
   {
    "duration": 25,
    "start_time": "2025-02-02T15:15:34.486Z"
   },
   {
    "duration": 20,
    "start_time": "2025-02-02T15:15:34.513Z"
   },
   {
    "duration": 10,
    "start_time": "2025-02-02T15:15:34.535Z"
   },
   {
    "duration": 30,
    "start_time": "2025-02-02T15:15:34.546Z"
   },
   {
    "duration": 27,
    "start_time": "2025-02-02T15:15:34.578Z"
   },
   {
    "duration": 14,
    "start_time": "2025-02-02T15:15:34.607Z"
   },
   {
    "duration": 10,
    "start_time": "2025-02-02T15:15:34.623Z"
   },
   {
    "duration": 11,
    "start_time": "2025-02-02T15:15:34.635Z"
   },
   {
    "duration": 24,
    "start_time": "2025-02-02T15:15:34.648Z"
   },
   {
    "duration": 18,
    "start_time": "2025-02-02T15:15:34.700Z"
   },
   {
    "duration": 428,
    "start_time": "2025-02-02T15:15:34.721Z"
   },
   {
    "duration": 9,
    "start_time": "2025-02-02T15:15:35.151Z"
   },
   {
    "duration": 36,
    "start_time": "2025-02-02T15:15:35.163Z"
   },
   {
    "duration": 319,
    "start_time": "2025-02-02T15:15:35.201Z"
   },
   {
    "duration": 133,
    "start_time": "2025-02-02T15:15:35.524Z"
   },
   {
    "duration": 13,
    "start_time": "2025-02-02T15:15:35.658Z"
   },
   {
    "duration": 443,
    "start_time": "2025-02-02T15:15:35.673Z"
   },
   {
    "duration": 8,
    "start_time": "2025-02-02T15:15:36.118Z"
   },
   {
    "duration": 207,
    "start_time": "2025-02-02T15:15:36.127Z"
   },
   {
    "duration": 4,
    "start_time": "2025-02-02T15:15:36.336Z"
   },
   {
    "duration": 7,
    "start_time": "2025-02-02T15:15:36.342Z"
   },
   {
    "duration": 364,
    "start_time": "2025-02-02T15:15:36.351Z"
   },
   {
    "duration": 7,
    "start_time": "2025-02-02T15:15:36.718Z"
   },
   {
    "duration": 31,
    "start_time": "2025-02-02T15:15:36.726Z"
   },
   {
    "duration": 11,
    "start_time": "2025-02-02T15:15:36.759Z"
   },
   {
    "duration": 79,
    "start_time": "2025-02-02T15:15:36.772Z"
   },
   {
    "duration": 121,
    "start_time": "2025-02-02T15:15:36.852Z"
   },
   {
    "duration": 0,
    "start_time": "2025-02-02T15:15:36.974Z"
   },
   {
    "duration": 0,
    "start_time": "2025-02-02T15:15:36.975Z"
   },
   {
    "duration": 0,
    "start_time": "2025-02-02T15:15:36.976Z"
   },
   {
    "duration": 0,
    "start_time": "2025-02-02T15:15:36.977Z"
   },
   {
    "duration": 0,
    "start_time": "2025-02-02T15:15:36.978Z"
   },
   {
    "duration": 0,
    "start_time": "2025-02-02T15:15:36.979Z"
   },
   {
    "duration": 0,
    "start_time": "2025-02-02T15:15:36.980Z"
   },
   {
    "duration": 0,
    "start_time": "2025-02-02T15:15:36.981Z"
   },
   {
    "duration": 0,
    "start_time": "2025-02-02T15:15:36.982Z"
   },
   {
    "duration": 0,
    "start_time": "2025-02-02T15:15:36.983Z"
   },
   {
    "duration": 0,
    "start_time": "2025-02-02T15:15:36.983Z"
   },
   {
    "duration": 0,
    "start_time": "2025-02-02T15:15:36.985Z"
   },
   {
    "duration": 0,
    "start_time": "2025-02-02T15:15:36.986Z"
   },
   {
    "duration": 0,
    "start_time": "2025-02-02T15:15:36.987Z"
   },
   {
    "duration": 0,
    "start_time": "2025-02-02T15:15:36.988Z"
   },
   {
    "duration": 0,
    "start_time": "2025-02-02T15:15:36.989Z"
   },
   {
    "duration": 0,
    "start_time": "2025-02-02T15:15:37.074Z"
   },
   {
    "duration": 31,
    "start_time": "2025-02-02T15:15:54.311Z"
   },
   {
    "duration": 227,
    "start_time": "2025-02-02T15:16:00.198Z"
   },
   {
    "duration": 224,
    "start_time": "2025-02-02T15:16:03.960Z"
   },
   {
    "duration": 199,
    "start_time": "2025-02-02T15:16:18.440Z"
   },
   {
    "duration": 215,
    "start_time": "2025-02-02T15:16:26.167Z"
   },
   {
    "duration": 198,
    "start_time": "2025-02-02T15:16:58.142Z"
   },
   {
    "duration": 444,
    "start_time": "2025-02-02T15:22:58.897Z"
   },
   {
    "duration": 9,
    "start_time": "2025-02-02T15:32:14.737Z"
   },
   {
    "duration": 8,
    "start_time": "2025-02-02T15:32:23.816Z"
   },
   {
    "duration": 192,
    "start_time": "2025-02-02T15:36:42.519Z"
   },
   {
    "duration": 5,
    "start_time": "2025-02-02T15:41:08.686Z"
   },
   {
    "duration": 15,
    "start_time": "2025-02-02T15:41:09.420Z"
   },
   {
    "duration": 104,
    "start_time": "2025-02-02T15:41:12.761Z"
   },
   {
    "duration": 110,
    "start_time": "2025-02-02T15:41:16.275Z"
   },
   {
    "duration": 106,
    "start_time": "2025-02-02T15:41:25.736Z"
   },
   {
    "duration": 15,
    "start_time": "2025-02-02T15:41:31.882Z"
   },
   {
    "duration": 210,
    "start_time": "2025-02-02T15:41:42.208Z"
   },
   {
    "duration": 102,
    "start_time": "2025-02-02T15:41:48.354Z"
   },
   {
    "duration": 107,
    "start_time": "2025-02-02T15:41:53.397Z"
   },
   {
    "duration": 15,
    "start_time": "2025-02-02T15:42:41.606Z"
   },
   {
    "duration": 8,
    "start_time": "2025-02-02T15:42:44.186Z"
   },
   {
    "duration": 3,
    "start_time": "2025-02-02T15:43:19.640Z"
   },
   {
    "duration": 9,
    "start_time": "2025-02-02T15:43:23.109Z"
   },
   {
    "duration": 1212,
    "start_time": "2025-02-02T15:44:01.438Z"
   },
   {
    "duration": 63,
    "start_time": "2025-02-02T15:44:02.652Z"
   },
   {
    "duration": 17,
    "start_time": "2025-02-02T15:44:02.717Z"
   },
   {
    "duration": 35,
    "start_time": "2025-02-02T15:44:02.737Z"
   },
   {
    "duration": 59,
    "start_time": "2025-02-02T15:44:02.774Z"
   },
   {
    "duration": 18,
    "start_time": "2025-02-02T15:44:02.836Z"
   },
   {
    "duration": 88,
    "start_time": "2025-02-02T15:44:02.857Z"
   },
   {
    "duration": 21,
    "start_time": "2025-02-02T15:44:02.947Z"
   },
   {
    "duration": 6,
    "start_time": "2025-02-02T15:44:02.971Z"
   },
   {
    "duration": 28,
    "start_time": "2025-02-02T15:44:02.981Z"
   },
   {
    "duration": 7,
    "start_time": "2025-02-02T15:44:03.011Z"
   },
   {
    "duration": 26,
    "start_time": "2025-02-02T15:44:03.020Z"
   },
   {
    "duration": 21,
    "start_time": "2025-02-02T15:44:03.048Z"
   },
   {
    "duration": 14,
    "start_time": "2025-02-02T15:44:03.072Z"
   },
   {
    "duration": 135,
    "start_time": "2025-02-02T15:44:03.088Z"
   },
   {
    "duration": 11,
    "start_time": "2025-02-02T15:44:03.224Z"
   },
   {
    "duration": 51,
    "start_time": "2025-02-02T15:44:03.238Z"
   },
   {
    "duration": 10,
    "start_time": "2025-02-02T15:44:03.291Z"
   },
   {
    "duration": 16,
    "start_time": "2025-02-02T15:44:03.303Z"
   },
   {
    "duration": 21,
    "start_time": "2025-02-02T15:44:03.321Z"
   },
   {
    "duration": 9,
    "start_time": "2025-02-02T15:44:03.344Z"
   },
   {
    "duration": 25,
    "start_time": "2025-02-02T15:44:03.355Z"
   },
   {
    "duration": 25,
    "start_time": "2025-02-02T15:44:03.382Z"
   },
   {
    "duration": 435,
    "start_time": "2025-02-02T15:44:03.409Z"
   },
   {
    "duration": 9,
    "start_time": "2025-02-02T15:44:03.846Z"
   },
   {
    "duration": 61,
    "start_time": "2025-02-02T15:44:03.857Z"
   },
   {
    "duration": 352,
    "start_time": "2025-02-02T15:44:03.920Z"
   },
   {
    "duration": 140,
    "start_time": "2025-02-02T15:44:04.276Z"
   },
   {
    "duration": 10,
    "start_time": "2025-02-02T15:44:04.417Z"
   },
   {
    "duration": 458,
    "start_time": "2025-02-02T15:44:04.429Z"
   },
   {
    "duration": 11,
    "start_time": "2025-02-02T15:44:04.889Z"
   },
   {
    "duration": 255,
    "start_time": "2025-02-02T15:44:04.902Z"
   },
   {
    "duration": 4,
    "start_time": "2025-02-02T15:44:05.158Z"
   },
   {
    "duration": 22,
    "start_time": "2025-02-02T15:44:05.164Z"
   },
   {
    "duration": 384,
    "start_time": "2025-02-02T15:44:05.188Z"
   },
   {
    "duration": 8,
    "start_time": "2025-02-02T15:44:05.574Z"
   },
   {
    "duration": 29,
    "start_time": "2025-02-02T15:44:05.584Z"
   },
   {
    "duration": 8,
    "start_time": "2025-02-02T15:44:05.616Z"
   },
   {
    "duration": 39,
    "start_time": "2025-02-02T15:44:05.626Z"
   },
   {
    "duration": 25,
    "start_time": "2025-02-02T15:44:05.667Z"
   },
   {
    "duration": 286,
    "start_time": "2025-02-02T15:44:05.693Z"
   },
   {
    "duration": 213,
    "start_time": "2025-02-02T15:44:05.981Z"
   },
   {
    "duration": 214,
    "start_time": "2025-02-02T15:44:06.198Z"
   },
   {
    "duration": 214,
    "start_time": "2025-02-02T15:44:06.413Z"
   },
   {
    "duration": 3,
    "start_time": "2025-02-02T15:44:06.629Z"
   },
   {
    "duration": 30,
    "start_time": "2025-02-02T15:44:06.634Z"
   },
   {
    "duration": 107,
    "start_time": "2025-02-02T15:44:06.665Z"
   },
   {
    "duration": 118,
    "start_time": "2025-02-02T15:44:06.773Z"
   },
   {
    "duration": 110,
    "start_time": "2025-02-02T15:44:06.899Z"
   },
   {
    "duration": 15,
    "start_time": "2025-02-02T15:44:07.011Z"
   },
   {
    "duration": 115,
    "start_time": "2025-02-02T15:44:07.028Z"
   },
   {
    "duration": 116,
    "start_time": "2025-02-02T15:44:07.145Z"
   },
   {
    "duration": 116,
    "start_time": "2025-02-02T15:44:07.263Z"
   },
   {
    "duration": 23,
    "start_time": "2025-02-02T15:44:07.381Z"
   },
   {
    "duration": 16,
    "start_time": "2025-02-02T15:44:07.405Z"
   },
   {
    "duration": 16,
    "start_time": "2025-02-02T15:44:07.423Z"
   },
   {
    "duration": 17,
    "start_time": "2025-02-02T15:44:07.441Z"
   },
   {
    "duration": 10,
    "start_time": "2025-02-02T15:44:07.460Z"
   },
   {
    "duration": 5,
    "start_time": "2025-02-02T15:46:14.117Z"
   },
   {
    "duration": 4,
    "start_time": "2025-02-02T15:46:44.227Z"
   },
   {
    "duration": 23,
    "start_time": "2025-02-02T15:46:45.380Z"
   },
   {
    "duration": 4,
    "start_time": "2025-02-02T15:49:14.694Z"
   },
   {
    "duration": 10,
    "start_time": "2025-02-02T15:49:16.637Z"
   },
   {
    "duration": 4,
    "start_time": "2025-02-02T15:52:17.413Z"
   },
   {
    "duration": 10,
    "start_time": "2025-02-02T15:52:18.492Z"
   },
   {
    "duration": 4,
    "start_time": "2025-02-02T15:52:25.894Z"
   },
   {
    "duration": 9,
    "start_time": "2025-02-02T15:52:28.232Z"
   },
   {
    "duration": 10,
    "start_time": "2025-02-02T15:53:40.701Z"
   },
   {
    "duration": 1454,
    "start_time": "2025-02-03T09:56:09.246Z"
   },
   {
    "duration": 74,
    "start_time": "2025-02-03T09:56:10.702Z"
   },
   {
    "duration": 17,
    "start_time": "2025-02-03T09:56:10.778Z"
   },
   {
    "duration": 45,
    "start_time": "2025-02-03T09:56:10.797Z"
   },
   {
    "duration": 35,
    "start_time": "2025-02-03T09:56:10.844Z"
   },
   {
    "duration": 38,
    "start_time": "2025-02-03T09:56:10.881Z"
   },
   {
    "duration": 5,
    "start_time": "2025-02-03T09:56:10.921Z"
   },
   {
    "duration": 14,
    "start_time": "2025-02-03T09:56:10.928Z"
   },
   {
    "duration": 5,
    "start_time": "2025-02-03T09:56:10.944Z"
   },
   {
    "duration": 5,
    "start_time": "2025-02-03T09:56:10.951Z"
   },
   {
    "duration": 2,
    "start_time": "2025-02-03T09:56:10.958Z"
   },
   {
    "duration": 5,
    "start_time": "2025-02-03T09:56:10.962Z"
   },
   {
    "duration": 50,
    "start_time": "2025-02-03T09:56:10.969Z"
   },
   {
    "duration": 15,
    "start_time": "2025-02-03T09:56:11.020Z"
   },
   {
    "duration": 23,
    "start_time": "2025-02-03T09:56:11.037Z"
   },
   {
    "duration": 10,
    "start_time": "2025-02-03T09:56:11.062Z"
   },
   {
    "duration": 50,
    "start_time": "2025-02-03T09:56:11.074Z"
   },
   {
    "duration": 9,
    "start_time": "2025-02-03T09:56:11.126Z"
   },
   {
    "duration": 33,
    "start_time": "2025-02-03T09:56:11.137Z"
   },
   {
    "duration": 9,
    "start_time": "2025-02-03T09:56:11.172Z"
   },
   {
    "duration": 9,
    "start_time": "2025-02-03T09:56:11.183Z"
   },
   {
    "duration": 25,
    "start_time": "2025-02-03T09:56:11.193Z"
   },
   {
    "duration": 18,
    "start_time": "2025-02-03T09:56:11.220Z"
   },
   {
    "duration": 431,
    "start_time": "2025-02-03T09:56:11.240Z"
   },
   {
    "duration": 8,
    "start_time": "2025-02-03T09:56:11.673Z"
   },
   {
    "duration": 17,
    "start_time": "2025-02-03T09:56:11.683Z"
   },
   {
    "duration": 332,
    "start_time": "2025-02-03T09:56:11.718Z"
   },
   {
    "duration": 139,
    "start_time": "2025-02-03T09:56:12.053Z"
   },
   {
    "duration": 9,
    "start_time": "2025-02-03T09:56:12.194Z"
   },
   {
    "duration": 460,
    "start_time": "2025-02-03T09:56:12.217Z"
   },
   {
    "duration": 7,
    "start_time": "2025-02-03T09:56:12.679Z"
   },
   {
    "duration": 259,
    "start_time": "2025-02-03T09:56:12.688Z"
   },
   {
    "duration": 5,
    "start_time": "2025-02-03T09:56:12.949Z"
   },
   {
    "duration": 4,
    "start_time": "2025-02-03T09:56:12.956Z"
   },
   {
    "duration": 380,
    "start_time": "2025-02-03T09:56:12.962Z"
   },
   {
    "duration": 8,
    "start_time": "2025-02-03T09:56:13.343Z"
   },
   {
    "duration": 11,
    "start_time": "2025-02-03T09:56:13.353Z"
   },
   {
    "duration": 9,
    "start_time": "2025-02-03T09:56:13.366Z"
   },
   {
    "duration": 7,
    "start_time": "2025-02-03T09:56:13.376Z"
   },
   {
    "duration": 48,
    "start_time": "2025-02-03T09:56:13.385Z"
   },
   {
    "duration": 294,
    "start_time": "2025-02-03T09:56:13.435Z"
   },
   {
    "duration": 238,
    "start_time": "2025-02-03T09:56:13.731Z"
   },
   {
    "duration": 221,
    "start_time": "2025-02-03T09:56:13.971Z"
   },
   {
    "duration": 228,
    "start_time": "2025-02-03T09:56:14.194Z"
   },
   {
    "duration": 5,
    "start_time": "2025-02-03T09:56:14.424Z"
   },
   {
    "duration": 16,
    "start_time": "2025-02-03T09:56:14.431Z"
   },
   {
    "duration": 140,
    "start_time": "2025-02-03T09:56:14.449Z"
   },
   {
    "duration": 128,
    "start_time": "2025-02-03T09:56:14.591Z"
   },
   {
    "duration": 146,
    "start_time": "2025-02-03T09:56:14.721Z"
   },
   {
    "duration": 16,
    "start_time": "2025-02-03T09:56:14.869Z"
   },
   {
    "duration": 124,
    "start_time": "2025-02-03T09:56:14.886Z"
   },
   {
    "duration": 130,
    "start_time": "2025-02-03T09:56:15.011Z"
   },
   {
    "duration": 134,
    "start_time": "2025-02-03T09:56:15.144Z"
   },
   {
    "duration": 15,
    "start_time": "2025-02-03T09:56:15.279Z"
   },
   {
    "duration": 50,
    "start_time": "2025-02-03T09:56:15.295Z"
   },
   {
    "duration": 42,
    "start_time": "2025-02-03T09:56:15.346Z"
   },
   {
    "duration": 30,
    "start_time": "2025-02-03T09:56:15.390Z"
   },
   {
    "duration": 35,
    "start_time": "2025-02-03T09:56:15.423Z"
   }
  ],
  "celltoolbar": "Отсутствует",
  "kernelspec": {
   "display_name": "Python 3 (ipykernel)",
   "language": "python",
   "name": "python3"
  },
  "language_info": {
   "codemirror_mode": {
    "name": "ipython",
    "version": 3
   },
   "file_extension": ".py",
   "mimetype": "text/x-python",
   "name": "python",
   "nbconvert_exporter": "python",
   "pygments_lexer": "ipython3",
   "version": "3.9.5"
  },
  "toc": {
   "base_numbering": 1,
   "nav_menu": {
    "height": "386px",
    "width": "479px"
   },
   "number_sections": true,
   "sideBar": true,
   "skip_h1_title": true,
   "title_cell": "Table of Contents",
   "title_sidebar": "Contents",
   "toc_cell": false,
   "toc_position": {},
   "toc_section_display": true,
   "toc_window_display": false
  }
 },
 "nbformat": 4,
 "nbformat_minor": 2
}
